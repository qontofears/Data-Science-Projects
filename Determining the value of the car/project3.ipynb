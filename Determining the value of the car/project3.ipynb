{
 "cells": [
  {
   "cell_type": "markdown",
   "metadata": {},
   "source": [
    "# Определение стоимости автомобилей"
   ]
  },
  {
   "cell_type": "markdown",
   "metadata": {},
   "source": [
    "Сервис по продаже автомобилей с пробегом «Не бит, не крашен» разрабатывает приложение для привлечения новых клиентов. В нём можно быстро узнать рыночную стоимость своего автомобиля. В вашем распоряжении исторические данные: технические характеристики, комплектации и цены автомобилей. Вам нужно построить модель для определения стоимости. \n",
    "\n",
    "Заказчику важны:\n",
    "\n",
    "- качество предсказания;\n",
    "- скорость предсказания;\n",
    "- время обучения."
   ]
  },
  {
   "cell_type": "markdown",
   "metadata": {},
   "source": [
    "## Подготовка данных"
   ]
  },
  {
   "cell_type": "code",
   "execution_count": 1,
   "metadata": {},
   "outputs": [
    {
     "name": "stdout",
     "output_type": "stream",
     "text": [
      "Requirement already satisfied: category_encoders in /opt/conda/lib/python3.9/site-packages (2.6.3)\n",
      "Requirement already satisfied: pandas>=1.0.5 in /opt/conda/lib/python3.9/site-packages (from category_encoders) (1.2.4)\n",
      "Requirement already satisfied: patsy>=0.5.1 in /opt/conda/lib/python3.9/site-packages (from category_encoders) (0.5.2)\n",
      "Requirement already satisfied: statsmodels>=0.9.0 in /opt/conda/lib/python3.9/site-packages (from category_encoders) (0.13.2)\n",
      "Requirement already satisfied: scipy>=1.0.0 in /opt/conda/lib/python3.9/site-packages (from category_encoders) (1.9.1)\n",
      "Requirement already satisfied: scikit-learn>=0.20.0 in /opt/conda/lib/python3.9/site-packages (from category_encoders) (1.1.3)\n",
      "Requirement already satisfied: numpy>=1.14.0 in /opt/conda/lib/python3.9/site-packages (from category_encoders) (1.21.1)\n",
      "Requirement already satisfied: python-dateutil>=2.7.3 in /opt/conda/lib/python3.9/site-packages (from pandas>=1.0.5->category_encoders) (2.8.1)\n",
      "Requirement already satisfied: pytz>=2017.3 in /opt/conda/lib/python3.9/site-packages (from pandas>=1.0.5->category_encoders) (2021.1)\n",
      "Requirement already satisfied: six in /opt/conda/lib/python3.9/site-packages (from patsy>=0.5.1->category_encoders) (1.16.0)\n",
      "Requirement already satisfied: joblib>=1.0.0 in /opt/conda/lib/python3.9/site-packages (from scikit-learn>=0.20.0->category_encoders) (1.1.0)\n",
      "Requirement already satisfied: threadpoolctl>=2.0.0 in /opt/conda/lib/python3.9/site-packages (from scikit-learn>=0.20.0->category_encoders) (3.1.0)\n",
      "Requirement already satisfied: packaging>=21.3 in /opt/conda/lib/python3.9/site-packages (from statsmodels>=0.9.0->category_encoders) (21.3)\n",
      "Requirement already satisfied: pyparsing!=3.0.5,>=2.0.2 in /opt/conda/lib/python3.9/site-packages (from packaging>=21.3->statsmodels>=0.9.0->category_encoders) (2.4.7)\n",
      "Note: you may need to restart the kernel to use updated packages.\n"
     ]
    }
   ],
   "source": [
    "pip install category_encoders"
   ]
  },
  {
   "cell_type": "code",
   "execution_count": 2,
   "metadata": {},
   "outputs": [
    {
     "name": "stdout",
     "output_type": "stream",
     "text": [
      "Requirement already satisfied: scikit-learn==1.1.3 in /opt/conda/lib/python3.9/site-packages (1.1.3)\n",
      "Requirement already satisfied: joblib>=1.0.0 in /opt/conda/lib/python3.9/site-packages (from scikit-learn==1.1.3) (1.1.0)\n",
      "Requirement already satisfied: numpy>=1.17.3 in /opt/conda/lib/python3.9/site-packages (from scikit-learn==1.1.3) (1.21.1)\n",
      "Requirement already satisfied: scipy>=1.3.2 in /opt/conda/lib/python3.9/site-packages (from scikit-learn==1.1.3) (1.9.1)\n",
      "Requirement already satisfied: threadpoolctl>=2.0.0 in /opt/conda/lib/python3.9/site-packages (from scikit-learn==1.1.3) (3.1.0)\n"
     ]
    }
   ],
   "source": [
    "!pip install scikit-learn==1.1.3"
   ]
  },
  {
   "cell_type": "code",
   "execution_count": 3,
   "metadata": {},
   "outputs": [],
   "source": [
    "#Подгружаем все библиотеки в одной ячейке, список может пополняться :)\n",
    "import pandas as pd\n",
    "import numpy as np\n",
    "import seaborn as sns\n",
    "import sklearn \n",
    "import matplotlib.pyplot as plt\n",
    "from scipy.sparse import hstack\n",
    "from sklearn.model_selection import train_test_split\n",
    "from sklearn.preprocessing import OrdinalEncoder, StandardScaler\n",
    "from sklearn.preprocessing import OneHotEncoder\n",
    "import category_encoders as ce\n",
    "from category_encoders import TargetEncoder\n",
    "from sklearn.compose import ColumnTransformer\n",
    "from sklearn.pipeline import Pipeline\n",
    "from sklearn.linear_model import LinearRegression\n",
    "from sklearn.ensemble import RandomForestRegressor\n",
    "from lightgbm import LGBMRegressor\n",
    "from sklearn.metrics import mean_absolute_error, mean_squared_error\n",
    "\n",
    "import warnings\n",
    "warnings.filterwarnings('ignore')"
   ]
  },
  {
   "cell_type": "code",
   "execution_count": 4,
   "metadata": {},
   "outputs": [],
   "source": [
    "try:\n",
    "    data = pd.read_csv('/datasets/autos.csv')\n",
    "except:\n",
    "    data = pd.read_csv('https://code.s3.yandex.net/datasets/autos.csv')"
   ]
  },
  {
   "cell_type": "code",
   "execution_count": 5,
   "metadata": {},
   "outputs": [
    {
     "data": {
      "text/html": [
       "<div>\n",
       "<style scoped>\n",
       "    .dataframe tbody tr th:only-of-type {\n",
       "        vertical-align: middle;\n",
       "    }\n",
       "\n",
       "    .dataframe tbody tr th {\n",
       "        vertical-align: top;\n",
       "    }\n",
       "\n",
       "    .dataframe thead th {\n",
       "        text-align: right;\n",
       "    }\n",
       "</style>\n",
       "<table border=\"1\" class=\"dataframe\">\n",
       "  <thead>\n",
       "    <tr style=\"text-align: right;\">\n",
       "      <th></th>\n",
       "      <th>DateCrawled</th>\n",
       "      <th>Price</th>\n",
       "      <th>VehicleType</th>\n",
       "      <th>RegistrationYear</th>\n",
       "      <th>Gearbox</th>\n",
       "      <th>Power</th>\n",
       "      <th>Model</th>\n",
       "      <th>Kilometer</th>\n",
       "      <th>RegistrationMonth</th>\n",
       "      <th>FuelType</th>\n",
       "      <th>Brand</th>\n",
       "      <th>Repaired</th>\n",
       "      <th>DateCreated</th>\n",
       "      <th>NumberOfPictures</th>\n",
       "      <th>PostalCode</th>\n",
       "      <th>LastSeen</th>\n",
       "    </tr>\n",
       "  </thead>\n",
       "  <tbody>\n",
       "    <tr>\n",
       "      <th>0</th>\n",
       "      <td>2016-03-24 11:52:17</td>\n",
       "      <td>480</td>\n",
       "      <td>NaN</td>\n",
       "      <td>1993</td>\n",
       "      <td>manual</td>\n",
       "      <td>0</td>\n",
       "      <td>golf</td>\n",
       "      <td>150000</td>\n",
       "      <td>0</td>\n",
       "      <td>petrol</td>\n",
       "      <td>volkswagen</td>\n",
       "      <td>NaN</td>\n",
       "      <td>2016-03-24 00:00:00</td>\n",
       "      <td>0</td>\n",
       "      <td>70435</td>\n",
       "      <td>2016-04-07 03:16:57</td>\n",
       "    </tr>\n",
       "    <tr>\n",
       "      <th>1</th>\n",
       "      <td>2016-03-24 10:58:45</td>\n",
       "      <td>18300</td>\n",
       "      <td>coupe</td>\n",
       "      <td>2011</td>\n",
       "      <td>manual</td>\n",
       "      <td>190</td>\n",
       "      <td>NaN</td>\n",
       "      <td>125000</td>\n",
       "      <td>5</td>\n",
       "      <td>gasoline</td>\n",
       "      <td>audi</td>\n",
       "      <td>yes</td>\n",
       "      <td>2016-03-24 00:00:00</td>\n",
       "      <td>0</td>\n",
       "      <td>66954</td>\n",
       "      <td>2016-04-07 01:46:50</td>\n",
       "    </tr>\n",
       "    <tr>\n",
       "      <th>2</th>\n",
       "      <td>2016-03-14 12:52:21</td>\n",
       "      <td>9800</td>\n",
       "      <td>suv</td>\n",
       "      <td>2004</td>\n",
       "      <td>auto</td>\n",
       "      <td>163</td>\n",
       "      <td>grand</td>\n",
       "      <td>125000</td>\n",
       "      <td>8</td>\n",
       "      <td>gasoline</td>\n",
       "      <td>jeep</td>\n",
       "      <td>NaN</td>\n",
       "      <td>2016-03-14 00:00:00</td>\n",
       "      <td>0</td>\n",
       "      <td>90480</td>\n",
       "      <td>2016-04-05 12:47:46</td>\n",
       "    </tr>\n",
       "    <tr>\n",
       "      <th>3</th>\n",
       "      <td>2016-03-17 16:54:04</td>\n",
       "      <td>1500</td>\n",
       "      <td>small</td>\n",
       "      <td>2001</td>\n",
       "      <td>manual</td>\n",
       "      <td>75</td>\n",
       "      <td>golf</td>\n",
       "      <td>150000</td>\n",
       "      <td>6</td>\n",
       "      <td>petrol</td>\n",
       "      <td>volkswagen</td>\n",
       "      <td>no</td>\n",
       "      <td>2016-03-17 00:00:00</td>\n",
       "      <td>0</td>\n",
       "      <td>91074</td>\n",
       "      <td>2016-03-17 17:40:17</td>\n",
       "    </tr>\n",
       "    <tr>\n",
       "      <th>4</th>\n",
       "      <td>2016-03-31 17:25:20</td>\n",
       "      <td>3600</td>\n",
       "      <td>small</td>\n",
       "      <td>2008</td>\n",
       "      <td>manual</td>\n",
       "      <td>69</td>\n",
       "      <td>fabia</td>\n",
       "      <td>90000</td>\n",
       "      <td>7</td>\n",
       "      <td>gasoline</td>\n",
       "      <td>skoda</td>\n",
       "      <td>no</td>\n",
       "      <td>2016-03-31 00:00:00</td>\n",
       "      <td>0</td>\n",
       "      <td>60437</td>\n",
       "      <td>2016-04-06 10:17:21</td>\n",
       "    </tr>\n",
       "    <tr>\n",
       "      <th>...</th>\n",
       "      <td>...</td>\n",
       "      <td>...</td>\n",
       "      <td>...</td>\n",
       "      <td>...</td>\n",
       "      <td>...</td>\n",
       "      <td>...</td>\n",
       "      <td>...</td>\n",
       "      <td>...</td>\n",
       "      <td>...</td>\n",
       "      <td>...</td>\n",
       "      <td>...</td>\n",
       "      <td>...</td>\n",
       "      <td>...</td>\n",
       "      <td>...</td>\n",
       "      <td>...</td>\n",
       "      <td>...</td>\n",
       "    </tr>\n",
       "    <tr>\n",
       "      <th>354364</th>\n",
       "      <td>2016-03-21 09:50:58</td>\n",
       "      <td>0</td>\n",
       "      <td>NaN</td>\n",
       "      <td>2005</td>\n",
       "      <td>manual</td>\n",
       "      <td>0</td>\n",
       "      <td>colt</td>\n",
       "      <td>150000</td>\n",
       "      <td>7</td>\n",
       "      <td>petrol</td>\n",
       "      <td>mitsubishi</td>\n",
       "      <td>yes</td>\n",
       "      <td>2016-03-21 00:00:00</td>\n",
       "      <td>0</td>\n",
       "      <td>2694</td>\n",
       "      <td>2016-03-21 10:42:49</td>\n",
       "    </tr>\n",
       "    <tr>\n",
       "      <th>354365</th>\n",
       "      <td>2016-03-14 17:48:27</td>\n",
       "      <td>2200</td>\n",
       "      <td>NaN</td>\n",
       "      <td>2005</td>\n",
       "      <td>NaN</td>\n",
       "      <td>0</td>\n",
       "      <td>NaN</td>\n",
       "      <td>20000</td>\n",
       "      <td>1</td>\n",
       "      <td>NaN</td>\n",
       "      <td>sonstige_autos</td>\n",
       "      <td>NaN</td>\n",
       "      <td>2016-03-14 00:00:00</td>\n",
       "      <td>0</td>\n",
       "      <td>39576</td>\n",
       "      <td>2016-04-06 00:46:52</td>\n",
       "    </tr>\n",
       "    <tr>\n",
       "      <th>354366</th>\n",
       "      <td>2016-03-05 19:56:21</td>\n",
       "      <td>1199</td>\n",
       "      <td>convertible</td>\n",
       "      <td>2000</td>\n",
       "      <td>auto</td>\n",
       "      <td>101</td>\n",
       "      <td>fortwo</td>\n",
       "      <td>125000</td>\n",
       "      <td>3</td>\n",
       "      <td>petrol</td>\n",
       "      <td>smart</td>\n",
       "      <td>no</td>\n",
       "      <td>2016-03-05 00:00:00</td>\n",
       "      <td>0</td>\n",
       "      <td>26135</td>\n",
       "      <td>2016-03-11 18:17:12</td>\n",
       "    </tr>\n",
       "    <tr>\n",
       "      <th>354367</th>\n",
       "      <td>2016-03-19 18:57:12</td>\n",
       "      <td>9200</td>\n",
       "      <td>bus</td>\n",
       "      <td>1996</td>\n",
       "      <td>manual</td>\n",
       "      <td>102</td>\n",
       "      <td>transporter</td>\n",
       "      <td>150000</td>\n",
       "      <td>3</td>\n",
       "      <td>gasoline</td>\n",
       "      <td>volkswagen</td>\n",
       "      <td>no</td>\n",
       "      <td>2016-03-19 00:00:00</td>\n",
       "      <td>0</td>\n",
       "      <td>87439</td>\n",
       "      <td>2016-04-07 07:15:26</td>\n",
       "    </tr>\n",
       "    <tr>\n",
       "      <th>354368</th>\n",
       "      <td>2016-03-20 19:41:08</td>\n",
       "      <td>3400</td>\n",
       "      <td>wagon</td>\n",
       "      <td>2002</td>\n",
       "      <td>manual</td>\n",
       "      <td>100</td>\n",
       "      <td>golf</td>\n",
       "      <td>150000</td>\n",
       "      <td>6</td>\n",
       "      <td>gasoline</td>\n",
       "      <td>volkswagen</td>\n",
       "      <td>NaN</td>\n",
       "      <td>2016-03-20 00:00:00</td>\n",
       "      <td>0</td>\n",
       "      <td>40764</td>\n",
       "      <td>2016-03-24 12:45:21</td>\n",
       "    </tr>\n",
       "  </tbody>\n",
       "</table>\n",
       "<p>354369 rows × 16 columns</p>\n",
       "</div>"
      ],
      "text/plain": [
       "                DateCrawled  Price  VehicleType  RegistrationYear Gearbox  \\\n",
       "0       2016-03-24 11:52:17    480          NaN              1993  manual   \n",
       "1       2016-03-24 10:58:45  18300        coupe              2011  manual   \n",
       "2       2016-03-14 12:52:21   9800          suv              2004    auto   \n",
       "3       2016-03-17 16:54:04   1500        small              2001  manual   \n",
       "4       2016-03-31 17:25:20   3600        small              2008  manual   \n",
       "...                     ...    ...          ...               ...     ...   \n",
       "354364  2016-03-21 09:50:58      0          NaN              2005  manual   \n",
       "354365  2016-03-14 17:48:27   2200          NaN              2005     NaN   \n",
       "354366  2016-03-05 19:56:21   1199  convertible              2000    auto   \n",
       "354367  2016-03-19 18:57:12   9200          bus              1996  manual   \n",
       "354368  2016-03-20 19:41:08   3400        wagon              2002  manual   \n",
       "\n",
       "        Power        Model  Kilometer  RegistrationMonth  FuelType  \\\n",
       "0           0         golf     150000                  0    petrol   \n",
       "1         190          NaN     125000                  5  gasoline   \n",
       "2         163        grand     125000                  8  gasoline   \n",
       "3          75         golf     150000                  6    petrol   \n",
       "4          69        fabia      90000                  7  gasoline   \n",
       "...       ...          ...        ...                ...       ...   \n",
       "354364      0         colt     150000                  7    petrol   \n",
       "354365      0          NaN      20000                  1       NaN   \n",
       "354366    101       fortwo     125000                  3    petrol   \n",
       "354367    102  transporter     150000                  3  gasoline   \n",
       "354368    100         golf     150000                  6  gasoline   \n",
       "\n",
       "                 Brand Repaired          DateCreated  NumberOfPictures  \\\n",
       "0           volkswagen      NaN  2016-03-24 00:00:00                 0   \n",
       "1                 audi      yes  2016-03-24 00:00:00                 0   \n",
       "2                 jeep      NaN  2016-03-14 00:00:00                 0   \n",
       "3           volkswagen       no  2016-03-17 00:00:00                 0   \n",
       "4                skoda       no  2016-03-31 00:00:00                 0   \n",
       "...                ...      ...                  ...               ...   \n",
       "354364      mitsubishi      yes  2016-03-21 00:00:00                 0   \n",
       "354365  sonstige_autos      NaN  2016-03-14 00:00:00                 0   \n",
       "354366           smart       no  2016-03-05 00:00:00                 0   \n",
       "354367      volkswagen       no  2016-03-19 00:00:00                 0   \n",
       "354368      volkswagen      NaN  2016-03-20 00:00:00                 0   \n",
       "\n",
       "        PostalCode             LastSeen  \n",
       "0            70435  2016-04-07 03:16:57  \n",
       "1            66954  2016-04-07 01:46:50  \n",
       "2            90480  2016-04-05 12:47:46  \n",
       "3            91074  2016-03-17 17:40:17  \n",
       "4            60437  2016-04-06 10:17:21  \n",
       "...            ...                  ...  \n",
       "354364        2694  2016-03-21 10:42:49  \n",
       "354365       39576  2016-04-06 00:46:52  \n",
       "354366       26135  2016-03-11 18:17:12  \n",
       "354367       87439  2016-04-07 07:15:26  \n",
       "354368       40764  2016-03-24 12:45:21  \n",
       "\n",
       "[354369 rows x 16 columns]"
      ]
     },
     "execution_count": 5,
     "metadata": {},
     "output_type": "execute_result"
    }
   ],
   "source": [
    "data"
   ]
  },
  {
   "cell_type": "code",
   "execution_count": 6,
   "metadata": {
    "scrolled": true
   },
   "outputs": [
    {
     "name": "stdout",
     "output_type": "stream",
     "text": [
      "<class 'pandas.core.frame.DataFrame'>\n",
      "RangeIndex: 354369 entries, 0 to 354368\n",
      "Data columns (total 16 columns):\n",
      " #   Column             Non-Null Count   Dtype \n",
      "---  ------             --------------   ----- \n",
      " 0   DateCrawled        354369 non-null  object\n",
      " 1   Price              354369 non-null  int64 \n",
      " 2   VehicleType        316879 non-null  object\n",
      " 3   RegistrationYear   354369 non-null  int64 \n",
      " 4   Gearbox            334536 non-null  object\n",
      " 5   Power              354369 non-null  int64 \n",
      " 6   Model              334664 non-null  object\n",
      " 7   Kilometer          354369 non-null  int64 \n",
      " 8   RegistrationMonth  354369 non-null  int64 \n",
      " 9   FuelType           321474 non-null  object\n",
      " 10  Brand              354369 non-null  object\n",
      " 11  Repaired           283215 non-null  object\n",
      " 12  DateCreated        354369 non-null  object\n",
      " 13  NumberOfPictures   354369 non-null  int64 \n",
      " 14  PostalCode         354369 non-null  int64 \n",
      " 15  LastSeen           354369 non-null  object\n",
      "dtypes: int64(7), object(9)\n",
      "memory usage: 43.3+ MB\n",
      "================================================================================\n"
     ]
    },
    {
     "data": {
      "text/html": [
       "<div>\n",
       "<style scoped>\n",
       "    .dataframe tbody tr th:only-of-type {\n",
       "        vertical-align: middle;\n",
       "    }\n",
       "\n",
       "    .dataframe tbody tr th {\n",
       "        vertical-align: top;\n",
       "    }\n",
       "\n",
       "    .dataframe thead th {\n",
       "        text-align: right;\n",
       "    }\n",
       "</style>\n",
       "<table border=\"1\" class=\"dataframe\">\n",
       "  <thead>\n",
       "    <tr style=\"text-align: right;\">\n",
       "      <th></th>\n",
       "      <th>Price</th>\n",
       "      <th>RegistrationYear</th>\n",
       "      <th>Power</th>\n",
       "      <th>Kilometer</th>\n",
       "      <th>RegistrationMonth</th>\n",
       "      <th>NumberOfPictures</th>\n",
       "      <th>PostalCode</th>\n",
       "    </tr>\n",
       "  </thead>\n",
       "  <tbody>\n",
       "    <tr>\n",
       "      <th>count</th>\n",
       "      <td>354369.000000</td>\n",
       "      <td>354369.000000</td>\n",
       "      <td>354369.000000</td>\n",
       "      <td>354369.000000</td>\n",
       "      <td>354369.000000</td>\n",
       "      <td>354369.0</td>\n",
       "      <td>354369.000000</td>\n",
       "    </tr>\n",
       "    <tr>\n",
       "      <th>mean</th>\n",
       "      <td>4416.656776</td>\n",
       "      <td>2004.234448</td>\n",
       "      <td>110.094337</td>\n",
       "      <td>128211.172535</td>\n",
       "      <td>5.714645</td>\n",
       "      <td>0.0</td>\n",
       "      <td>50508.689087</td>\n",
       "    </tr>\n",
       "    <tr>\n",
       "      <th>std</th>\n",
       "      <td>4514.158514</td>\n",
       "      <td>90.227958</td>\n",
       "      <td>189.850405</td>\n",
       "      <td>37905.341530</td>\n",
       "      <td>3.726421</td>\n",
       "      <td>0.0</td>\n",
       "      <td>25783.096248</td>\n",
       "    </tr>\n",
       "    <tr>\n",
       "      <th>min</th>\n",
       "      <td>0.000000</td>\n",
       "      <td>1000.000000</td>\n",
       "      <td>0.000000</td>\n",
       "      <td>5000.000000</td>\n",
       "      <td>0.000000</td>\n",
       "      <td>0.0</td>\n",
       "      <td>1067.000000</td>\n",
       "    </tr>\n",
       "    <tr>\n",
       "      <th>25%</th>\n",
       "      <td>1050.000000</td>\n",
       "      <td>1999.000000</td>\n",
       "      <td>69.000000</td>\n",
       "      <td>125000.000000</td>\n",
       "      <td>3.000000</td>\n",
       "      <td>0.0</td>\n",
       "      <td>30165.000000</td>\n",
       "    </tr>\n",
       "    <tr>\n",
       "      <th>50%</th>\n",
       "      <td>2700.000000</td>\n",
       "      <td>2003.000000</td>\n",
       "      <td>105.000000</td>\n",
       "      <td>150000.000000</td>\n",
       "      <td>6.000000</td>\n",
       "      <td>0.0</td>\n",
       "      <td>49413.000000</td>\n",
       "    </tr>\n",
       "    <tr>\n",
       "      <th>75%</th>\n",
       "      <td>6400.000000</td>\n",
       "      <td>2008.000000</td>\n",
       "      <td>143.000000</td>\n",
       "      <td>150000.000000</td>\n",
       "      <td>9.000000</td>\n",
       "      <td>0.0</td>\n",
       "      <td>71083.000000</td>\n",
       "    </tr>\n",
       "    <tr>\n",
       "      <th>max</th>\n",
       "      <td>20000.000000</td>\n",
       "      <td>9999.000000</td>\n",
       "      <td>20000.000000</td>\n",
       "      <td>150000.000000</td>\n",
       "      <td>12.000000</td>\n",
       "      <td>0.0</td>\n",
       "      <td>99998.000000</td>\n",
       "    </tr>\n",
       "  </tbody>\n",
       "</table>\n",
       "</div>"
      ],
      "text/plain": [
       "               Price  RegistrationYear          Power      Kilometer  \\\n",
       "count  354369.000000     354369.000000  354369.000000  354369.000000   \n",
       "mean     4416.656776       2004.234448     110.094337  128211.172535   \n",
       "std      4514.158514         90.227958     189.850405   37905.341530   \n",
       "min         0.000000       1000.000000       0.000000    5000.000000   \n",
       "25%      1050.000000       1999.000000      69.000000  125000.000000   \n",
       "50%      2700.000000       2003.000000     105.000000  150000.000000   \n",
       "75%      6400.000000       2008.000000     143.000000  150000.000000   \n",
       "max     20000.000000       9999.000000   20000.000000  150000.000000   \n",
       "\n",
       "       RegistrationMonth  NumberOfPictures     PostalCode  \n",
       "count      354369.000000          354369.0  354369.000000  \n",
       "mean            5.714645               0.0   50508.689087  \n",
       "std             3.726421               0.0   25783.096248  \n",
       "min             0.000000               0.0    1067.000000  \n",
       "25%             3.000000               0.0   30165.000000  \n",
       "50%             6.000000               0.0   49413.000000  \n",
       "75%             9.000000               0.0   71083.000000  \n",
       "max            12.000000               0.0   99998.000000  "
      ]
     },
     "metadata": {},
     "output_type": "display_data"
    }
   ],
   "source": [
    "data.info()\n",
    "print(80*'=')\n",
    "display(data.describe())"
   ]
  },
  {
   "cell_type": "code",
   "execution_count": 7,
   "metadata": {},
   "outputs": [
    {
     "data": {
      "text/html": [
       "<div>\n",
       "<style scoped>\n",
       "    .dataframe tbody tr th:only-of-type {\n",
       "        vertical-align: middle;\n",
       "    }\n",
       "\n",
       "    .dataframe tbody tr th {\n",
       "        vertical-align: top;\n",
       "    }\n",
       "\n",
       "    .dataframe thead th {\n",
       "        text-align: right;\n",
       "    }\n",
       "</style>\n",
       "<table border=\"1\" class=\"dataframe\">\n",
       "  <thead>\n",
       "    <tr style=\"text-align: right;\">\n",
       "      <th></th>\n",
       "      <th>DateCrawled</th>\n",
       "      <th>Price</th>\n",
       "      <th>VehicleType</th>\n",
       "      <th>RegistrationYear</th>\n",
       "      <th>Gearbox</th>\n",
       "      <th>Power</th>\n",
       "      <th>Model</th>\n",
       "      <th>Kilometer</th>\n",
       "      <th>RegistrationMonth</th>\n",
       "      <th>FuelType</th>\n",
       "      <th>Brand</th>\n",
       "      <th>Repaired</th>\n",
       "      <th>DateCreated</th>\n",
       "      <th>NumberOfPictures</th>\n",
       "      <th>PostalCode</th>\n",
       "      <th>LastSeen</th>\n",
       "    </tr>\n",
       "  </thead>\n",
       "  <tbody>\n",
       "    <tr>\n",
       "      <th>0</th>\n",
       "      <td>2016-03-24 11:52:17</td>\n",
       "      <td>480</td>\n",
       "      <td>NaN</td>\n",
       "      <td>1993</td>\n",
       "      <td>manual</td>\n",
       "      <td>0</td>\n",
       "      <td>golf</td>\n",
       "      <td>150000</td>\n",
       "      <td>0</td>\n",
       "      <td>petrol</td>\n",
       "      <td>volkswagen</td>\n",
       "      <td>NaN</td>\n",
       "      <td>2016-03-24 00:00:00</td>\n",
       "      <td>0</td>\n",
       "      <td>70435</td>\n",
       "      <td>2016-04-07 03:16:57</td>\n",
       "    </tr>\n",
       "    <tr>\n",
       "      <th>1</th>\n",
       "      <td>2016-03-24 10:58:45</td>\n",
       "      <td>18300</td>\n",
       "      <td>coupe</td>\n",
       "      <td>2011</td>\n",
       "      <td>manual</td>\n",
       "      <td>190</td>\n",
       "      <td>NaN</td>\n",
       "      <td>125000</td>\n",
       "      <td>5</td>\n",
       "      <td>gasoline</td>\n",
       "      <td>audi</td>\n",
       "      <td>yes</td>\n",
       "      <td>2016-03-24 00:00:00</td>\n",
       "      <td>0</td>\n",
       "      <td>66954</td>\n",
       "      <td>2016-04-07 01:46:50</td>\n",
       "    </tr>\n",
       "    <tr>\n",
       "      <th>2</th>\n",
       "      <td>2016-03-14 12:52:21</td>\n",
       "      <td>9800</td>\n",
       "      <td>suv</td>\n",
       "      <td>2004</td>\n",
       "      <td>auto</td>\n",
       "      <td>163</td>\n",
       "      <td>grand</td>\n",
       "      <td>125000</td>\n",
       "      <td>8</td>\n",
       "      <td>gasoline</td>\n",
       "      <td>jeep</td>\n",
       "      <td>NaN</td>\n",
       "      <td>2016-03-14 00:00:00</td>\n",
       "      <td>0</td>\n",
       "      <td>90480</td>\n",
       "      <td>2016-04-05 12:47:46</td>\n",
       "    </tr>\n",
       "    <tr>\n",
       "      <th>3</th>\n",
       "      <td>2016-03-17 16:54:04</td>\n",
       "      <td>1500</td>\n",
       "      <td>small</td>\n",
       "      <td>2001</td>\n",
       "      <td>manual</td>\n",
       "      <td>75</td>\n",
       "      <td>golf</td>\n",
       "      <td>150000</td>\n",
       "      <td>6</td>\n",
       "      <td>petrol</td>\n",
       "      <td>volkswagen</td>\n",
       "      <td>no</td>\n",
       "      <td>2016-03-17 00:00:00</td>\n",
       "      <td>0</td>\n",
       "      <td>91074</td>\n",
       "      <td>2016-03-17 17:40:17</td>\n",
       "    </tr>\n",
       "    <tr>\n",
       "      <th>4</th>\n",
       "      <td>2016-03-31 17:25:20</td>\n",
       "      <td>3600</td>\n",
       "      <td>small</td>\n",
       "      <td>2008</td>\n",
       "      <td>manual</td>\n",
       "      <td>69</td>\n",
       "      <td>fabia</td>\n",
       "      <td>90000</td>\n",
       "      <td>7</td>\n",
       "      <td>gasoline</td>\n",
       "      <td>skoda</td>\n",
       "      <td>no</td>\n",
       "      <td>2016-03-31 00:00:00</td>\n",
       "      <td>0</td>\n",
       "      <td>60437</td>\n",
       "      <td>2016-04-06 10:17:21</td>\n",
       "    </tr>\n",
       "    <tr>\n",
       "      <th>5</th>\n",
       "      <td>2016-04-04 17:36:23</td>\n",
       "      <td>650</td>\n",
       "      <td>sedan</td>\n",
       "      <td>1995</td>\n",
       "      <td>manual</td>\n",
       "      <td>102</td>\n",
       "      <td>3er</td>\n",
       "      <td>150000</td>\n",
       "      <td>10</td>\n",
       "      <td>petrol</td>\n",
       "      <td>bmw</td>\n",
       "      <td>yes</td>\n",
       "      <td>2016-04-04 00:00:00</td>\n",
       "      <td>0</td>\n",
       "      <td>33775</td>\n",
       "      <td>2016-04-06 19:17:07</td>\n",
       "    </tr>\n",
       "    <tr>\n",
       "      <th>6</th>\n",
       "      <td>2016-04-01 20:48:51</td>\n",
       "      <td>2200</td>\n",
       "      <td>convertible</td>\n",
       "      <td>2004</td>\n",
       "      <td>manual</td>\n",
       "      <td>109</td>\n",
       "      <td>2_reihe</td>\n",
       "      <td>150000</td>\n",
       "      <td>8</td>\n",
       "      <td>petrol</td>\n",
       "      <td>peugeot</td>\n",
       "      <td>no</td>\n",
       "      <td>2016-04-01 00:00:00</td>\n",
       "      <td>0</td>\n",
       "      <td>67112</td>\n",
       "      <td>2016-04-05 18:18:39</td>\n",
       "    </tr>\n",
       "    <tr>\n",
       "      <th>7</th>\n",
       "      <td>2016-03-21 18:54:38</td>\n",
       "      <td>0</td>\n",
       "      <td>sedan</td>\n",
       "      <td>1980</td>\n",
       "      <td>manual</td>\n",
       "      <td>50</td>\n",
       "      <td>other</td>\n",
       "      <td>40000</td>\n",
       "      <td>7</td>\n",
       "      <td>petrol</td>\n",
       "      <td>volkswagen</td>\n",
       "      <td>no</td>\n",
       "      <td>2016-03-21 00:00:00</td>\n",
       "      <td>0</td>\n",
       "      <td>19348</td>\n",
       "      <td>2016-03-25 16:47:58</td>\n",
       "    </tr>\n",
       "    <tr>\n",
       "      <th>8</th>\n",
       "      <td>2016-04-04 23:42:13</td>\n",
       "      <td>14500</td>\n",
       "      <td>bus</td>\n",
       "      <td>2014</td>\n",
       "      <td>manual</td>\n",
       "      <td>125</td>\n",
       "      <td>c_max</td>\n",
       "      <td>30000</td>\n",
       "      <td>8</td>\n",
       "      <td>petrol</td>\n",
       "      <td>ford</td>\n",
       "      <td>NaN</td>\n",
       "      <td>2016-04-04 00:00:00</td>\n",
       "      <td>0</td>\n",
       "      <td>94505</td>\n",
       "      <td>2016-04-04 23:42:13</td>\n",
       "    </tr>\n",
       "    <tr>\n",
       "      <th>9</th>\n",
       "      <td>2016-03-17 10:53:50</td>\n",
       "      <td>999</td>\n",
       "      <td>small</td>\n",
       "      <td>1998</td>\n",
       "      <td>manual</td>\n",
       "      <td>101</td>\n",
       "      <td>golf</td>\n",
       "      <td>150000</td>\n",
       "      <td>0</td>\n",
       "      <td>NaN</td>\n",
       "      <td>volkswagen</td>\n",
       "      <td>NaN</td>\n",
       "      <td>2016-03-17 00:00:00</td>\n",
       "      <td>0</td>\n",
       "      <td>27472</td>\n",
       "      <td>2016-03-31 17:17:06</td>\n",
       "    </tr>\n",
       "  </tbody>\n",
       "</table>\n",
       "</div>"
      ],
      "text/plain": [
       "           DateCrawled  Price  VehicleType  RegistrationYear Gearbox  Power  \\\n",
       "0  2016-03-24 11:52:17    480          NaN              1993  manual      0   \n",
       "1  2016-03-24 10:58:45  18300        coupe              2011  manual    190   \n",
       "2  2016-03-14 12:52:21   9800          suv              2004    auto    163   \n",
       "3  2016-03-17 16:54:04   1500        small              2001  manual     75   \n",
       "4  2016-03-31 17:25:20   3600        small              2008  manual     69   \n",
       "5  2016-04-04 17:36:23    650        sedan              1995  manual    102   \n",
       "6  2016-04-01 20:48:51   2200  convertible              2004  manual    109   \n",
       "7  2016-03-21 18:54:38      0        sedan              1980  manual     50   \n",
       "8  2016-04-04 23:42:13  14500          bus              2014  manual    125   \n",
       "9  2016-03-17 10:53:50    999        small              1998  manual    101   \n",
       "\n",
       "     Model  Kilometer  RegistrationMonth  FuelType       Brand Repaired  \\\n",
       "0     golf     150000                  0    petrol  volkswagen      NaN   \n",
       "1      NaN     125000                  5  gasoline        audi      yes   \n",
       "2    grand     125000                  8  gasoline        jeep      NaN   \n",
       "3     golf     150000                  6    petrol  volkswagen       no   \n",
       "4    fabia      90000                  7  gasoline       skoda       no   \n",
       "5      3er     150000                 10    petrol         bmw      yes   \n",
       "6  2_reihe     150000                  8    petrol     peugeot       no   \n",
       "7    other      40000                  7    petrol  volkswagen       no   \n",
       "8    c_max      30000                  8    petrol        ford      NaN   \n",
       "9     golf     150000                  0       NaN  volkswagen      NaN   \n",
       "\n",
       "           DateCreated  NumberOfPictures  PostalCode             LastSeen  \n",
       "0  2016-03-24 00:00:00                 0       70435  2016-04-07 03:16:57  \n",
       "1  2016-03-24 00:00:00                 0       66954  2016-04-07 01:46:50  \n",
       "2  2016-03-14 00:00:00                 0       90480  2016-04-05 12:47:46  \n",
       "3  2016-03-17 00:00:00                 0       91074  2016-03-17 17:40:17  \n",
       "4  2016-03-31 00:00:00                 0       60437  2016-04-06 10:17:21  \n",
       "5  2016-04-04 00:00:00                 0       33775  2016-04-06 19:17:07  \n",
       "6  2016-04-01 00:00:00                 0       67112  2016-04-05 18:18:39  \n",
       "7  2016-03-21 00:00:00                 0       19348  2016-03-25 16:47:58  \n",
       "8  2016-04-04 00:00:00                 0       94505  2016-04-04 23:42:13  \n",
       "9  2016-03-17 00:00:00                 0       27472  2016-03-31 17:17:06  "
      ]
     },
     "execution_count": 7,
     "metadata": {},
     "output_type": "execute_result"
    }
   ],
   "source": [
    "data.head(10)"
   ]
  },
  {
   "cell_type": "markdown",
   "metadata": {},
   "source": [
    "Заметил что столбец 0, 12, 15 неправильного типа. Им присвоено object, вместо полагаемого DateTime"
   ]
  },
  {
   "cell_type": "code",
   "execution_count": 8,
   "metadata": {},
   "outputs": [],
   "source": [
    "#Исправили замечание\n",
    "data['DateCrawled'] = pd.to_datetime(data['DateCrawled'], format='%Y-%m-%d %H:%M:%S')\n",
    "data['DateCreated'] = pd.to_datetime(data['DateCreated'], format='%Y-%m-%d %H:%M:%S')\n",
    "data['LastSeen'] = pd.to_datetime(data['LastSeen'], format='%Y-%m-%d %H:%M:%S')"
   ]
  },
  {
   "cell_type": "code",
   "execution_count": 9,
   "metadata": {},
   "outputs": [
    {
     "data": {
      "text/plain": [
       "0"
      ]
     },
     "execution_count": 9,
     "metadata": {},
     "output_type": "execute_result"
    }
   ],
   "source": [
    "data = data.drop_duplicates(keep='last')\n",
    "data.duplicated().sum()"
   ]
  },
  {
   "cell_type": "markdown",
   "metadata": {},
   "source": [
    "Обнаружено и удалено 4 явных дубликата"
   ]
  },
  {
   "cell_type": "code",
   "execution_count": 10,
   "metadata": {},
   "outputs": [],
   "source": [
    "data.fillna(value={'VehicleType': 'unknown', \n",
    "                   'Gearbox': 'unknown',\n",
    "                   'Model': 'unknown', \n",
    "                   'FuelType': 'unknown', \n",
    "                   'NotRepaired': 'unknown'}, inplace=True)\n",
    "# Заполнение пропущенных значений"
   ]
  },
  {
   "cell_type": "code",
   "execution_count": 11,
   "metadata": {},
   "outputs": [],
   "source": [
    "data = data[data['Price'] > 100]\n",
    "data = data[data['Power'] < 1000]\n",
    "#Удалили аномальные значения"
   ]
  },
  {
   "cell_type": "code",
   "execution_count": 12,
   "metadata": {},
   "outputs": [],
   "source": [
    "data = data.loc[(data['RegistrationYear'] <= 2021) & (data['RegistrationYear'] >= 1900)]"
   ]
  },
  {
   "cell_type": "markdown",
   "metadata": {},
   "source": [
    "<b>В ходе этапа обработки данных сделали следующее:<br>\n",
    "1. Исправили неправильные типы данных\n",
    "2. Удалили явные дубликаты\n",
    "3. Заполнили пропущенные значения \n",
    "4. Удалили аномальные значения"
   ]
  },
  {
   "cell_type": "markdown",
   "metadata": {},
   "source": [
    "<b> Допустим, можно было бы обработать FuelType, заполнив значениями по такой-же модели автомобиля<br>\n",
    "Достать категории GearBox тоже наверняка как-то можно, но вроде это не целесообразно, данных должно быть достаточно для прогнозирования.<br>\n",
    "    Модель восстановить даже по бренду не является возможным, как и узнать NotRepaired. Удалять данные не разумно ибо от датасета бублик останется)"
   ]
  },
  {
   "cell_type": "markdown",
   "metadata": {},
   "source": [
    "\n",
    " Самое интересное, что на нескольких сайтов по продажам подержанных автомобилей в Германии (страну можно определить по почтовым индексам, большинство из них из Германии) показало, что цены начинаются действительно с 0 и 1 евро, но это единичные объявления и не понятно, то ли это ошибка при заполнении формы, то ли машины на металлолом. Но я  все-таки склоняюсь к тому, чтобы избавиться от таких данных\n",
    "\n"
   ]
  },
  {
   "cell_type": "markdown",
   "metadata": {},
   "source": [
    "## Обучение моделей"
   ]
  },
  {
   "cell_type": "code",
   "execution_count": 13,
   "metadata": {},
   "outputs": [],
   "source": [
    "# Разделение на признаки и целевую переменную\n",
    "features = data.drop('Price', axis=1)\n",
    "target = data['Price']\n",
    "\n",
    "# Разделение на обучающую и тестовую выборки\n",
    "features_train, features_test, target_train, target_test = train_test_split(features, target, test_size=0.2, random_state=42)\n",
    "features_train, features_val, target_train, target_val = train_test_split(features_train, target_train, test_size=0.2, random_state=42)\n",
    "\n",
    "# Преобразование столбца с типом данных datetime64 в числовой формат\n",
    "features_train['DateCrawled'] = features_train['DateCrawled'].astype('int64')\n",
    "features_test['DateCrawled'] = features_test['DateCrawled'].astype('int64')\n",
    "features_val['DateCrawled'] = features_val['DateCrawled'].astype('int64')\n",
    "\n",
    "# Создание наборов данных для разных методов кодировки\n",
    "# Набор данных 1: TargetEncoder и BinaryEncoder для всех моделей\n",
    "encoder1 = TargetEncoder(cols=['VehicleType', 'Gearbox', 'Model', 'FuelType', 'Brand', 'Repaired'])\n",
    "features_train_enc1 = encoder1.fit_transform(features_train, target_train)\n",
    "features_test_enc1 = encoder1.transform(features_test)\n",
    "features_val_enc1 = encoder1.transform(features_val)\n",
    "\n",
    "# Удаление дат из набора данных\n",
    "features_train_enc1.drop(['DateCrawled', 'DateCreated', 'LastSeen'], axis=1, inplace=True)\n",
    "features_test_enc1.drop(['DateCrawled', 'DateCreated', 'LastSeen'], axis=1, inplace=True)\n",
    "features_val_enc1.drop(['DateCrawled', 'DateCreated', 'LastSeen'], axis=1, inplace=True)\n",
    "\n",
    "# Набор данных 2: OneHotEncoder для линейных моделей и TargetEncoder для остальных моделей\n",
    "encoder2 = OneHotEncoder(handle_unknown='ignore', drop='first')\n",
    "encoder2.fit(features_train[['VehicleType', 'Gearbox', 'Model', 'FuelType', 'Brand', 'Repaired']])\n",
    "features_train_enc2 = encoder2.transform(features_train[['VehicleType', 'Gearbox', 'Model', 'FuelType', 'Brand', 'Repaired']])\n",
    "features_test_enc2 = encoder2.transform(features_test[['VehicleType', 'Gearbox', 'Model', 'FuelType', 'Brand', 'Repaired']])\n",
    "features_val_enc2 = encoder2.transform(features_val[['VehicleType', 'Gearbox', 'Model', 'FuelType', 'Brand', 'Repaired']])\n",
    "\n",
    "# Объединение закодированных категориальных признаков с числовыми признаками\n",
    "features_train_enc2 = hstack((features_train_enc2, features_train[['RegistrationYear', 'RegistrationMonth', 'Kilometer', 'PostalCode', 'DateCrawled']]))\n",
    "features_test_enc2 = hstack((features_test_enc2, features_test[['RegistrationYear', 'RegistrationMonth', 'Kilometer', 'PostalCode', 'DateCrawled']]))\n",
    "features_val_enc2 = hstack((features_val_enc2, features_val[['RegistrationYear', 'RegistrationMonth', 'Kilometer', 'PostalCode', 'DateCrawled']]))\n",
    "\n",
    "# Преобразование разреженной матрицы в формат CSC и удаление ненужных столбцов\n",
    "features_train_enc2 = features_train_enc2.tocsc()[:, :-4]\n",
    "features_test_enc2 = features_test_enc2.tocsc()[:, :-4]\n",
    "features_val_enc2 = features_val_enc2.tocsc()[:, :-4]"
   ]
  },
  {
   "cell_type": "code",
   "execution_count": 14,
   "metadata": {},
   "outputs": [
    {
     "name": "stdout",
     "output_type": "stream",
     "text": [
      "CPU times: user 14.9 s, sys: 19 s, total: 33.9 s\n",
      "Wall time: 33.9 s\n"
     ]
    },
    {
     "data": {
      "text/html": [
       "<style>#sk-container-id-1 {color: black;background-color: white;}#sk-container-id-1 pre{padding: 0;}#sk-container-id-1 div.sk-toggleable {background-color: white;}#sk-container-id-1 label.sk-toggleable__label {cursor: pointer;display: block;width: 100%;margin-bottom: 0;padding: 0.3em;box-sizing: border-box;text-align: center;}#sk-container-id-1 label.sk-toggleable__label-arrow:before {content: \"▸\";float: left;margin-right: 0.25em;color: #696969;}#sk-container-id-1 label.sk-toggleable__label-arrow:hover:before {color: black;}#sk-container-id-1 div.sk-estimator:hover label.sk-toggleable__label-arrow:before {color: black;}#sk-container-id-1 div.sk-toggleable__content {max-height: 0;max-width: 0;overflow: hidden;text-align: left;background-color: #f0f8ff;}#sk-container-id-1 div.sk-toggleable__content pre {margin: 0.2em;color: black;border-radius: 0.25em;background-color: #f0f8ff;}#sk-container-id-1 input.sk-toggleable__control:checked~div.sk-toggleable__content {max-height: 200px;max-width: 100%;overflow: auto;}#sk-container-id-1 input.sk-toggleable__control:checked~label.sk-toggleable__label-arrow:before {content: \"▾\";}#sk-container-id-1 div.sk-estimator input.sk-toggleable__control:checked~label.sk-toggleable__label {background-color: #d4ebff;}#sk-container-id-1 div.sk-label input.sk-toggleable__control:checked~label.sk-toggleable__label {background-color: #d4ebff;}#sk-container-id-1 input.sk-hidden--visually {border: 0;clip: rect(1px 1px 1px 1px);clip: rect(1px, 1px, 1px, 1px);height: 1px;margin: -1px;overflow: hidden;padding: 0;position: absolute;width: 1px;}#sk-container-id-1 div.sk-estimator {font-family: monospace;background-color: #f0f8ff;border: 1px dotted black;border-radius: 0.25em;box-sizing: border-box;margin-bottom: 0.5em;}#sk-container-id-1 div.sk-estimator:hover {background-color: #d4ebff;}#sk-container-id-1 div.sk-parallel-item::after {content: \"\";width: 100%;border-bottom: 1px solid gray;flex-grow: 1;}#sk-container-id-1 div.sk-label:hover label.sk-toggleable__label {background-color: #d4ebff;}#sk-container-id-1 div.sk-serial::before {content: \"\";position: absolute;border-left: 1px solid gray;box-sizing: border-box;top: 0;bottom: 0;left: 50%;z-index: 0;}#sk-container-id-1 div.sk-serial {display: flex;flex-direction: column;align-items: center;background-color: white;padding-right: 0.2em;padding-left: 0.2em;position: relative;}#sk-container-id-1 div.sk-item {position: relative;z-index: 1;}#sk-container-id-1 div.sk-parallel {display: flex;align-items: stretch;justify-content: center;background-color: white;position: relative;}#sk-container-id-1 div.sk-item::before, #sk-container-id-1 div.sk-parallel-item::before {content: \"\";position: absolute;border-left: 1px solid gray;box-sizing: border-box;top: 0;bottom: 0;left: 50%;z-index: -1;}#sk-container-id-1 div.sk-parallel-item {display: flex;flex-direction: column;z-index: 1;position: relative;background-color: white;}#sk-container-id-1 div.sk-parallel-item:first-child::after {align-self: flex-end;width: 50%;}#sk-container-id-1 div.sk-parallel-item:last-child::after {align-self: flex-start;width: 50%;}#sk-container-id-1 div.sk-parallel-item:only-child::after {width: 0;}#sk-container-id-1 div.sk-dashed-wrapped {border: 1px dashed gray;margin: 0 0.4em 0.5em 0.4em;box-sizing: border-box;padding-bottom: 0.4em;background-color: white;}#sk-container-id-1 div.sk-label label {font-family: monospace;font-weight: bold;display: inline-block;line-height: 1.2em;}#sk-container-id-1 div.sk-label-container {text-align: center;}#sk-container-id-1 div.sk-container {/* jupyter's `normalize.less` sets `[hidden] { display: none; }` but bootstrap.min.css set `[hidden] { display: none !important; }` so we also need the `!important` here to be able to override the default hidden behavior on the sphinx rendered scikit-learn.org. See: https://github.com/scikit-learn/scikit-learn/issues/21755 */display: inline-block !important;position: relative;}#sk-container-id-1 div.sk-text-repr-fallback {display: none;}</style><div id=\"sk-container-id-1\" class=\"sk-top-container\"><div class=\"sk-text-repr-fallback\"><pre>LinearRegression()</pre><b>In a Jupyter environment, please rerun this cell to show the HTML representation or trust the notebook. <br />On GitHub, the HTML representation is unable to render, please try loading this page with nbviewer.org.</b></div><div class=\"sk-container\" hidden><div class=\"sk-item\"><div class=\"sk-estimator sk-toggleable\"><input class=\"sk-toggleable__control sk-hidden--visually\" id=\"sk-estimator-id-1\" type=\"checkbox\" checked><label for=\"sk-estimator-id-1\" class=\"sk-toggleable__label sk-toggleable__label-arrow\">LinearRegression</label><div class=\"sk-toggleable__content\"><pre>LinearRegression()</pre></div></div></div></div></div>"
      ],
      "text/plain": [
       "LinearRegression()"
      ]
     },
     "execution_count": 14,
     "metadata": {},
     "output_type": "execute_result"
    }
   ],
   "source": [
    "%%time\n",
    "# Линейная регрессия с OneHotEncoder\n",
    "linear_model = LinearRegression()\n",
    "linear_model.fit(features_train_enc2, target_train)\n"
   ]
  },
  {
   "cell_type": "code",
   "execution_count": 15,
   "metadata": {},
   "outputs": [
    {
     "name": "stdout",
     "output_type": "stream",
     "text": [
      "CPU times: user 18.7 ms, sys: 10.8 ms, total: 29.5 ms\n",
      "Wall time: 87.5 ms\n"
     ]
    }
   ],
   "source": [
    "%%time\n",
    "linear_predictions = linear_model.predict(features_train_enc2)\n",
    "linear_rmse = np.sqrt(mean_squared_error(target_train, linear_predictions))"
   ]
  },
  {
   "cell_type": "code",
   "execution_count": 16,
   "metadata": {},
   "outputs": [
    {
     "name": "stdout",
     "output_type": "stream",
     "text": [
      "CPU times: user 2.42 ms, sys: 0 ns, total: 2.42 ms\n",
      "Wall time: 2.04 ms\n"
     ]
    }
   ],
   "source": [
    "%%time\n",
    "linear_predictions_val = linear_model.predict(features_val_enc2)\n",
    "linear_rmse_val = mean_squared_error(target_val, linear_predictions_val, squared=False)"
   ]
  },
  {
   "cell_type": "code",
   "execution_count": 17,
   "metadata": {},
   "outputs": [
    {
     "name": "stdout",
     "output_type": "stream",
     "text": [
      "RMSE на валидационной выборке: 3093.921980795153 \n",
      "RMSE на тренировочной выборке: 3086.429889183905\n"
     ]
    }
   ],
   "source": [
    "print('RMSE на валидационной выборке:', linear_rmse_val,\n",
    "      '\\nRMSE на тренировочной выборке:', linear_rmse)"
   ]
  },
  {
   "cell_type": "markdown",
   "metadata": {},
   "source": [
    "\n",
    "Нам нужно время обучения и время предсказания  вычислить  и проанализировать отдельно друг от друга\n",
    "    \n",
    "- время обучения это  чистый `.fit()` модели - без подбора гиперпараметров и без предсказаний,  то есть время обучения gridsearch не подойдет\n",
    "    \n",
    "- время предсказания это только `.predict()` без обучения\n",
    "\n"
   ]
  },
  {
   "cell_type": "code",
   "execution_count": 18,
   "metadata": {
    "scrolled": true
   },
   "outputs": [
    {
     "name": "stdout",
     "output_type": "stream",
     "text": [
      "CPU times: user 1min 42s, sys: 1.46 s, total: 1min 44s\n",
      "Wall time: 1min 44s\n"
     ]
    },
    {
     "data": {
      "text/html": [
       "<style>#sk-container-id-2 {color: black;background-color: white;}#sk-container-id-2 pre{padding: 0;}#sk-container-id-2 div.sk-toggleable {background-color: white;}#sk-container-id-2 label.sk-toggleable__label {cursor: pointer;display: block;width: 100%;margin-bottom: 0;padding: 0.3em;box-sizing: border-box;text-align: center;}#sk-container-id-2 label.sk-toggleable__label-arrow:before {content: \"▸\";float: left;margin-right: 0.25em;color: #696969;}#sk-container-id-2 label.sk-toggleable__label-arrow:hover:before {color: black;}#sk-container-id-2 div.sk-estimator:hover label.sk-toggleable__label-arrow:before {color: black;}#sk-container-id-2 div.sk-toggleable__content {max-height: 0;max-width: 0;overflow: hidden;text-align: left;background-color: #f0f8ff;}#sk-container-id-2 div.sk-toggleable__content pre {margin: 0.2em;color: black;border-radius: 0.25em;background-color: #f0f8ff;}#sk-container-id-2 input.sk-toggleable__control:checked~div.sk-toggleable__content {max-height: 200px;max-width: 100%;overflow: auto;}#sk-container-id-2 input.sk-toggleable__control:checked~label.sk-toggleable__label-arrow:before {content: \"▾\";}#sk-container-id-2 div.sk-estimator input.sk-toggleable__control:checked~label.sk-toggleable__label {background-color: #d4ebff;}#sk-container-id-2 div.sk-label input.sk-toggleable__control:checked~label.sk-toggleable__label {background-color: #d4ebff;}#sk-container-id-2 input.sk-hidden--visually {border: 0;clip: rect(1px 1px 1px 1px);clip: rect(1px, 1px, 1px, 1px);height: 1px;margin: -1px;overflow: hidden;padding: 0;position: absolute;width: 1px;}#sk-container-id-2 div.sk-estimator {font-family: monospace;background-color: #f0f8ff;border: 1px dotted black;border-radius: 0.25em;box-sizing: border-box;margin-bottom: 0.5em;}#sk-container-id-2 div.sk-estimator:hover {background-color: #d4ebff;}#sk-container-id-2 div.sk-parallel-item::after {content: \"\";width: 100%;border-bottom: 1px solid gray;flex-grow: 1;}#sk-container-id-2 div.sk-label:hover label.sk-toggleable__label {background-color: #d4ebff;}#sk-container-id-2 div.sk-serial::before {content: \"\";position: absolute;border-left: 1px solid gray;box-sizing: border-box;top: 0;bottom: 0;left: 50%;z-index: 0;}#sk-container-id-2 div.sk-serial {display: flex;flex-direction: column;align-items: center;background-color: white;padding-right: 0.2em;padding-left: 0.2em;position: relative;}#sk-container-id-2 div.sk-item {position: relative;z-index: 1;}#sk-container-id-2 div.sk-parallel {display: flex;align-items: stretch;justify-content: center;background-color: white;position: relative;}#sk-container-id-2 div.sk-item::before, #sk-container-id-2 div.sk-parallel-item::before {content: \"\";position: absolute;border-left: 1px solid gray;box-sizing: border-box;top: 0;bottom: 0;left: 50%;z-index: -1;}#sk-container-id-2 div.sk-parallel-item {display: flex;flex-direction: column;z-index: 1;position: relative;background-color: white;}#sk-container-id-2 div.sk-parallel-item:first-child::after {align-self: flex-end;width: 50%;}#sk-container-id-2 div.sk-parallel-item:last-child::after {align-self: flex-start;width: 50%;}#sk-container-id-2 div.sk-parallel-item:only-child::after {width: 0;}#sk-container-id-2 div.sk-dashed-wrapped {border: 1px dashed gray;margin: 0 0.4em 0.5em 0.4em;box-sizing: border-box;padding-bottom: 0.4em;background-color: white;}#sk-container-id-2 div.sk-label label {font-family: monospace;font-weight: bold;display: inline-block;line-height: 1.2em;}#sk-container-id-2 div.sk-label-container {text-align: center;}#sk-container-id-2 div.sk-container {/* jupyter's `normalize.less` sets `[hidden] { display: none; }` but bootstrap.min.css set `[hidden] { display: none !important; }` so we also need the `!important` here to be able to override the default hidden behavior on the sphinx rendered scikit-learn.org. See: https://github.com/scikit-learn/scikit-learn/issues/21755 */display: inline-block !important;position: relative;}#sk-container-id-2 div.sk-text-repr-fallback {display: none;}</style><div id=\"sk-container-id-2\" class=\"sk-top-container\"><div class=\"sk-text-repr-fallback\"><pre>RandomForestRegressor()</pre><b>In a Jupyter environment, please rerun this cell to show the HTML representation or trust the notebook. <br />On GitHub, the HTML representation is unable to render, please try loading this page with nbviewer.org.</b></div><div class=\"sk-container\" hidden><div class=\"sk-item\"><div class=\"sk-estimator sk-toggleable\"><input class=\"sk-toggleable__control sk-hidden--visually\" id=\"sk-estimator-id-2\" type=\"checkbox\" checked><label for=\"sk-estimator-id-2\" class=\"sk-toggleable__label sk-toggleable__label-arrow\">RandomForestRegressor</label><div class=\"sk-toggleable__content\"><pre>RandomForestRegressor()</pre></div></div></div></div></div>"
      ],
      "text/plain": [
       "RandomForestRegressor()"
      ]
     },
     "execution_count": 18,
     "metadata": {},
     "output_type": "execute_result"
    }
   ],
   "source": [
    "%%time\n",
    "# Случайный лес с TargetEncoder и BinaryEncoder\n",
    "rf_model = RandomForestRegressor()\n",
    "rf_model.fit(features_train_enc1, target_train)"
   ]
  },
  {
   "cell_type": "code",
   "execution_count": 19,
   "metadata": {},
   "outputs": [
    {
     "name": "stdout",
     "output_type": "stream",
     "text": [
      "CPU times: user 11.6 s, sys: 59.2 ms, total: 11.6 s\n",
      "Wall time: 11.6 s\n"
     ]
    }
   ],
   "source": [
    "%%time\n",
    "rf_predictions = rf_model.predict(features_train_enc1)\n",
    "rf_rmse = np.sqrt(mean_squared_error(target_train, rf_predictions))"
   ]
  },
  {
   "cell_type": "code",
   "execution_count": 20,
   "metadata": {},
   "outputs": [
    {
     "name": "stdout",
     "output_type": "stream",
     "text": [
      "CPU times: user 2.99 s, sys: 35.4 ms, total: 3.02 s\n",
      "Wall time: 3.03 s\n"
     ]
    }
   ],
   "source": [
    "%%time\n",
    "rf_predictions_val = rf_model.predict(features_val_enc1)\n",
    "rf_rmse_val = mean_squared_error(target_val, rf_predictions_val, squared=False)"
   ]
  },
  {
   "cell_type": "code",
   "execution_count": 21,
   "metadata": {},
   "outputs": [
    {
     "name": "stdout",
     "output_type": "stream",
     "text": [
      "RMSE на валидационной выборке: 1570.5504527746757 \n",
      "RMSE на тренировочной выборке 595.4886696851785\n"
     ]
    }
   ],
   "source": [
    "print('RMSE на валидационной выборке:', rf_rmse_val,\n",
    "      '\\nRMSE на тренировочной выборке', rf_rmse)"
   ]
  },
  {
   "cell_type": "code",
   "execution_count": 22,
   "metadata": {},
   "outputs": [
    {
     "name": "stdout",
     "output_type": "stream",
     "text": [
      "CPU times: user 3min 59s, sys: 2.13 s, total: 4min 1s\n",
      "Wall time: 4min 3s\n"
     ]
    },
    {
     "data": {
      "text/html": [
       "<style>#sk-container-id-3 {color: black;background-color: white;}#sk-container-id-3 pre{padding: 0;}#sk-container-id-3 div.sk-toggleable {background-color: white;}#sk-container-id-3 label.sk-toggleable__label {cursor: pointer;display: block;width: 100%;margin-bottom: 0;padding: 0.3em;box-sizing: border-box;text-align: center;}#sk-container-id-3 label.sk-toggleable__label-arrow:before {content: \"▸\";float: left;margin-right: 0.25em;color: #696969;}#sk-container-id-3 label.sk-toggleable__label-arrow:hover:before {color: black;}#sk-container-id-3 div.sk-estimator:hover label.sk-toggleable__label-arrow:before {color: black;}#sk-container-id-3 div.sk-toggleable__content {max-height: 0;max-width: 0;overflow: hidden;text-align: left;background-color: #f0f8ff;}#sk-container-id-3 div.sk-toggleable__content pre {margin: 0.2em;color: black;border-radius: 0.25em;background-color: #f0f8ff;}#sk-container-id-3 input.sk-toggleable__control:checked~div.sk-toggleable__content {max-height: 200px;max-width: 100%;overflow: auto;}#sk-container-id-3 input.sk-toggleable__control:checked~label.sk-toggleable__label-arrow:before {content: \"▾\";}#sk-container-id-3 div.sk-estimator input.sk-toggleable__control:checked~label.sk-toggleable__label {background-color: #d4ebff;}#sk-container-id-3 div.sk-label input.sk-toggleable__control:checked~label.sk-toggleable__label {background-color: #d4ebff;}#sk-container-id-3 input.sk-hidden--visually {border: 0;clip: rect(1px 1px 1px 1px);clip: rect(1px, 1px, 1px, 1px);height: 1px;margin: -1px;overflow: hidden;padding: 0;position: absolute;width: 1px;}#sk-container-id-3 div.sk-estimator {font-family: monospace;background-color: #f0f8ff;border: 1px dotted black;border-radius: 0.25em;box-sizing: border-box;margin-bottom: 0.5em;}#sk-container-id-3 div.sk-estimator:hover {background-color: #d4ebff;}#sk-container-id-3 div.sk-parallel-item::after {content: \"\";width: 100%;border-bottom: 1px solid gray;flex-grow: 1;}#sk-container-id-3 div.sk-label:hover label.sk-toggleable__label {background-color: #d4ebff;}#sk-container-id-3 div.sk-serial::before {content: \"\";position: absolute;border-left: 1px solid gray;box-sizing: border-box;top: 0;bottom: 0;left: 50%;z-index: 0;}#sk-container-id-3 div.sk-serial {display: flex;flex-direction: column;align-items: center;background-color: white;padding-right: 0.2em;padding-left: 0.2em;position: relative;}#sk-container-id-3 div.sk-item {position: relative;z-index: 1;}#sk-container-id-3 div.sk-parallel {display: flex;align-items: stretch;justify-content: center;background-color: white;position: relative;}#sk-container-id-3 div.sk-item::before, #sk-container-id-3 div.sk-parallel-item::before {content: \"\";position: absolute;border-left: 1px solid gray;box-sizing: border-box;top: 0;bottom: 0;left: 50%;z-index: -1;}#sk-container-id-3 div.sk-parallel-item {display: flex;flex-direction: column;z-index: 1;position: relative;background-color: white;}#sk-container-id-3 div.sk-parallel-item:first-child::after {align-self: flex-end;width: 50%;}#sk-container-id-3 div.sk-parallel-item:last-child::after {align-self: flex-start;width: 50%;}#sk-container-id-3 div.sk-parallel-item:only-child::after {width: 0;}#sk-container-id-3 div.sk-dashed-wrapped {border: 1px dashed gray;margin: 0 0.4em 0.5em 0.4em;box-sizing: border-box;padding-bottom: 0.4em;background-color: white;}#sk-container-id-3 div.sk-label label {font-family: monospace;font-weight: bold;display: inline-block;line-height: 1.2em;}#sk-container-id-3 div.sk-label-container {text-align: center;}#sk-container-id-3 div.sk-container {/* jupyter's `normalize.less` sets `[hidden] { display: none; }` but bootstrap.min.css set `[hidden] { display: none !important; }` so we also need the `!important` here to be able to override the default hidden behavior on the sphinx rendered scikit-learn.org. See: https://github.com/scikit-learn/scikit-learn/issues/21755 */display: inline-block !important;position: relative;}#sk-container-id-3 div.sk-text-repr-fallback {display: none;}</style><div id=\"sk-container-id-3\" class=\"sk-top-container\"><div class=\"sk-text-repr-fallback\"><pre>LGBMRegressor()</pre><b>In a Jupyter environment, please rerun this cell to show the HTML representation or trust the notebook. <br />On GitHub, the HTML representation is unable to render, please try loading this page with nbviewer.org.</b></div><div class=\"sk-container\" hidden><div class=\"sk-item\"><div class=\"sk-estimator sk-toggleable\"><input class=\"sk-toggleable__control sk-hidden--visually\" id=\"sk-estimator-id-3\" type=\"checkbox\" checked><label for=\"sk-estimator-id-3\" class=\"sk-toggleable__label sk-toggleable__label-arrow\">LGBMRegressor</label><div class=\"sk-toggleable__content\"><pre>LGBMRegressor()</pre></div></div></div></div></div>"
      ],
      "text/plain": [
       "LGBMRegressor()"
      ]
     },
     "execution_count": 22,
     "metadata": {},
     "output_type": "execute_result"
    }
   ],
   "source": [
    "%%time\n",
    "lgbm_model = LGBMRegressor()\n",
    "lgbm_model.fit(features_train_enc1, target_train)"
   ]
  },
  {
   "cell_type": "code",
   "execution_count": 23,
   "metadata": {},
   "outputs": [
    {
     "name": "stdout",
     "output_type": "stream",
     "text": [
      "CPU times: user 1.78 s, sys: 21.5 ms, total: 1.8 s\n",
      "Wall time: 1.8 s\n"
     ]
    }
   ],
   "source": [
    "%%time\n",
    "lgbm_predictions = lgbm_model.predict(features_train_enc1)\n",
    "lgbm_rmse = np.sqrt(mean_squared_error(target_train, lgbm_predictions))"
   ]
  },
  {
   "cell_type": "code",
   "execution_count": 24,
   "metadata": {},
   "outputs": [
    {
     "name": "stdout",
     "output_type": "stream",
     "text": [
      "CPU times: user 501 ms, sys: 0 ns, total: 501 ms\n",
      "Wall time: 505 ms\n"
     ]
    }
   ],
   "source": [
    "%%time\n",
    "lgbm_predictions_val = lgbm_model.predict(features_val_enc1)\n",
    "lgbm_rmse_val = np.sqrt(mean_squared_error(target_val, lgbm_predictions_val))"
   ]
  },
  {
   "cell_type": "code",
   "execution_count": 25,
   "metadata": {},
   "outputs": [
    {
     "name": "stdout",
     "output_type": "stream",
     "text": [
      "RMSE на валидационной выборке: 1713.8247527045348 \n",
      "RMSE на тренировочной выборке 1683.5564367649731\n"
     ]
    }
   ],
   "source": [
    "print('RMSE на валидационной выборке:', lgbm_rmse_val,\n",
    "      '\\nRMSE на тренировочной выборке', lgbm_rmse)"
   ]
  },
  {
   "cell_type": "markdown",
   "metadata": {},
   "source": [
    "<b> Вывод по разделу: <br>\n",
    "    <br>Проделали огромную работу от разделения на выборки и кодирование данных до обучения и вычисления метрик. Экспериментальным методом получили:<br>\n",
    "   <br> 1. Не конкурентно способность линейной регрессии, значение RMSE превысило 2500, что является плохим показателем, но она имеет лучшее время обучения.<br>\n",
    "    <br>2. Отличный результат показало Случайное дерево решений, значение метрики RMSE достигает порядка 1700, что является лучшим результатом. Так-же время обучения менее 2-ух минут, что является отличным временем обучения в нашей ситуации.<br>\n",
    "    <br>3. Результаты которая показала модель LGMB ухудшились после тестирования на валидационной выборке. Значение метрики получили почти 1800, что является не лучшим и не худшим показателем между двумя предыдущими моделями, а так-же время обучения целых 4 минуты, что является худшим показателем. <br>\n",
    "    <br>Учитывая все полученные данные, будет оптимальным выбрать модель Случайный лес, т.к. значение метрики RMSE не превысило 2500 и мы имеем отличные результаты в скорости обучения, дальнейший анализ и тестирование будем проводить на ней."
   ]
  },
  {
   "cell_type": "markdown",
   "metadata": {},
   "source": [
    "## Анализ моделей"
   ]
  },
  {
   "cell_type": "code",
   "execution_count": 30,
   "metadata": {},
   "outputs": [
    {
     "name": "stdout",
     "output_type": "stream",
     "text": [
      "RMSE на валидационной выборке: 1570.5504527746757 \n",
      "RMSE на тестовой выборке 1584.7116601769037\n",
      "CPU times: user 3.74 s, sys: 398 µs, total: 3.74 s\n",
      "Wall time: 3.74 s\n"
     ]
    }
   ],
   "source": [
    "%%time\n",
    "best_model = rf_model\n",
    "\n",
    "best_predictions = best_model.predict(features_test_enc1)\n",
    "best_rmse = np.sqrt(mean_squared_error(target_test, best_predictions))\n",
    "best_rmse_val = rf_rmse_val\n",
    "\n",
    "print('RMSE на валидационной выборке:', rf_rmse_val,\n",
    "      '\\nRMSE на тестовой выборке', best_rmse)"
   ]
  },
  {
   "cell_type": "markdown",
   "metadata": {},
   "source": [
    "<b>Значение RMSE на тестовой выборке всего 1584. Это является хорошим результатом, мы имеем право оставить эту модель как лучшую из представленных."
   ]
  },
  {
   "cell_type": "markdown",
   "metadata": {},
   "source": [
    "<b> Вывод: <br>\n",
    "Нам важно: <br>\n",
    "    <br>1. качество предсказаний\n",
    "    <br>2. скорость предсказаний \n",
    "    <br>3. время обучения\n",
    "\n",
    "Под критерии подходит модель Cлучайного леса, она дала нам хорошее качество предсказания, а так-же лучшее время обучения для представленного качества. Качество предсказаний полностью удовлетворяет, RMSE не достигает даже 1600, поэтому модель имеет право на дальнейшую жизнь. Так-как LGBM показала плохую скорость обучения, то мы не можем ее использовать хотя она и дала неплохое качество. Линейная модель быстро обучается, но медленно предсказывает и делает это крайне плохо. "
   ]
  }
 ],
 "metadata": {
  "ExecuteTimeLog": [
   {
    "duration": 1943,
    "start_time": "2023-10-27T15:58:28.899Z"
   },
   {
    "duration": 4,
    "start_time": "2023-10-27T15:58:32.797Z"
   },
   {
    "duration": 1453,
    "start_time": "2023-10-27T16:00:22.138Z"
   },
   {
    "duration": 27,
    "start_time": "2023-10-27T16:00:23.593Z"
   },
   {
    "duration": 267,
    "start_time": "2023-10-27T16:00:47.026Z"
   },
   {
    "duration": 16,
    "start_time": "2023-10-27T16:04:19.811Z"
   },
   {
    "duration": 325,
    "start_time": "2023-10-27T16:07:09.323Z"
   },
   {
    "duration": 40,
    "start_time": "2023-10-27T16:07:15.229Z"
   },
   {
    "duration": 107,
    "start_time": "2023-10-27T16:07:23.545Z"
   },
   {
    "duration": 115,
    "start_time": "2023-10-27T16:07:35.185Z"
   },
   {
    "duration": 10,
    "start_time": "2023-10-27T16:07:39.129Z"
   },
   {
    "duration": 403,
    "start_time": "2023-10-27T16:07:46.007Z"
   },
   {
    "duration": 364,
    "start_time": "2023-10-27T16:07:50.584Z"
   },
   {
    "duration": 641,
    "start_time": "2023-10-27T16:08:13.453Z"
   },
   {
    "duration": 978,
    "start_time": "2023-10-27T16:08:18.613Z"
   },
   {
    "duration": 1074,
    "start_time": "2023-10-27T16:08:45.197Z"
   },
   {
    "duration": 982,
    "start_time": "2023-10-27T16:08:53.517Z"
   },
   {
    "duration": 964,
    "start_time": "2023-10-27T16:08:56.275Z"
   },
   {
    "duration": 635,
    "start_time": "2023-10-27T16:09:01.935Z"
   },
   {
    "duration": 55,
    "start_time": "2023-10-30T14:30:36.666Z"
   },
   {
    "duration": 1733,
    "start_time": "2023-10-30T14:30:39.730Z"
   },
   {
    "duration": 1321,
    "start_time": "2023-10-30T14:30:41.465Z"
   },
   {
    "duration": 28,
    "start_time": "2023-10-30T14:30:42.787Z"
   },
   {
    "duration": 262,
    "start_time": "2023-10-30T14:30:42.817Z"
   },
   {
    "duration": 16,
    "start_time": "2023-10-30T14:30:43.082Z"
   },
   {
    "duration": 334,
    "start_time": "2023-10-30T14:30:43.099Z"
   },
   {
    "duration": 710,
    "start_time": "2023-10-30T14:30:43.434Z"
   },
   {
    "duration": 108,
    "start_time": "2023-10-30T14:30:44.147Z"
   },
   {
    "duration": 61,
    "start_time": "2023-10-30T14:31:21.649Z"
   },
   {
    "duration": 90,
    "start_time": "2023-10-30T15:11:06.325Z"
   },
   {
    "duration": 892,
    "start_time": "2023-10-30T15:11:06.418Z"
   },
   {
    "duration": 23,
    "start_time": "2023-10-30T15:11:07.312Z"
   },
   {
    "duration": 250,
    "start_time": "2023-10-30T15:11:07.347Z"
   },
   {
    "duration": 16,
    "start_time": "2023-10-30T15:11:07.599Z"
   },
   {
    "duration": 287,
    "start_time": "2023-10-30T15:11:07.617Z"
   },
   {
    "duration": 630,
    "start_time": "2023-10-30T15:11:07.906Z"
   },
   {
    "duration": 82,
    "start_time": "2023-10-30T15:11:08.538Z"
   },
   {
    "duration": 65,
    "start_time": "2023-10-30T15:11:08.622Z"
   },
   {
    "duration": 20,
    "start_time": "2023-10-30T15:11:08.689Z"
   },
   {
    "duration": 1308,
    "start_time": "2023-10-30T15:11:08.711Z"
   },
   {
    "duration": 3180,
    "start_time": "2023-10-30T15:11:10.021Z"
   },
   {
    "duration": 296556,
    "start_time": "2023-10-30T15:11:13.202Z"
   },
   {
    "duration": 1189,
    "start_time": "2023-10-30T15:16:09.759Z"
   },
   {
    "duration": 115,
    "start_time": "2023-10-30T15:16:10.951Z"
   },
   {
    "duration": 6,
    "start_time": "2023-10-30T15:16:20.320Z"
   },
   {
    "duration": 6,
    "start_time": "2023-10-30T15:17:31.627Z"
   },
   {
    "duration": 4,
    "start_time": "2023-10-30T15:17:41.021Z"
   },
   {
    "duration": 881,
    "start_time": "2023-10-30T15:17:41.027Z"
   },
   {
    "duration": 25,
    "start_time": "2023-10-30T15:17:41.910Z"
   },
   {
    "duration": 265,
    "start_time": "2023-10-30T15:17:41.946Z"
   },
   {
    "duration": 15,
    "start_time": "2023-10-30T15:17:42.214Z"
   },
   {
    "duration": 250,
    "start_time": "2023-10-30T15:17:42.231Z"
   },
   {
    "duration": 659,
    "start_time": "2023-10-30T15:17:42.483Z"
   },
   {
    "duration": 7,
    "start_time": "2023-10-30T15:17:43.147Z"
   },
   {
    "duration": 87,
    "start_time": "2023-10-30T15:17:43.156Z"
   },
   {
    "duration": 20,
    "start_time": "2023-10-30T15:17:43.247Z"
   },
   {
    "duration": 1301,
    "start_time": "2023-10-30T15:17:43.269Z"
   },
   {
    "duration": 3137,
    "start_time": "2023-10-30T15:17:44.572Z"
   },
   {
    "duration": 145643,
    "start_time": "2023-10-30T15:17:47.711Z"
   },
   {
    "duration": 1013,
    "start_time": "2023-10-30T15:20:13.356Z"
   },
   {
    "duration": 81,
    "start_time": "2023-10-30T15:20:14.371Z"
   },
   {
    "duration": 80,
    "start_time": "2023-10-30T15:20:14.453Z"
   },
   {
    "duration": 4,
    "start_time": "2023-10-30T15:22:25.320Z"
   },
   {
    "duration": 880,
    "start_time": "2023-10-30T15:22:25.326Z"
   },
   {
    "duration": 23,
    "start_time": "2023-10-30T15:22:26.207Z"
   },
   {
    "duration": 262,
    "start_time": "2023-10-30T15:22:26.231Z"
   },
   {
    "duration": 16,
    "start_time": "2023-10-30T15:22:26.495Z"
   },
   {
    "duration": 265,
    "start_time": "2023-10-30T15:22:26.513Z"
   },
   {
    "duration": 601,
    "start_time": "2023-10-30T15:22:26.780Z"
   },
   {
    "duration": 86,
    "start_time": "2023-10-30T15:22:27.384Z"
   },
   {
    "duration": 61,
    "start_time": "2023-10-30T15:22:27.472Z"
   },
   {
    "duration": 36,
    "start_time": "2023-10-30T15:22:27.534Z"
   },
   {
    "duration": 1240,
    "start_time": "2023-10-30T15:22:27.572Z"
   },
   {
    "duration": 3139,
    "start_time": "2023-10-30T15:22:28.814Z"
   },
   {
    "duration": 51298,
    "start_time": "2023-10-30T15:22:31.954Z"
   },
   {
    "duration": 1014,
    "start_time": "2023-10-30T15:23:23.255Z"
   },
   {
    "duration": 6,
    "start_time": "2023-10-30T15:23:24.271Z"
   },
   {
    "duration": 80,
    "start_time": "2023-10-30T15:23:52.047Z"
   },
   {
    "duration": 45,
    "start_time": "2023-11-01T17:51:22.811Z"
   },
   {
    "duration": 1528,
    "start_time": "2023-11-01T17:51:25.628Z"
   },
   {
    "duration": 1052,
    "start_time": "2023-11-01T17:51:27.158Z"
   },
   {
    "duration": 31,
    "start_time": "2023-11-01T17:51:28.211Z"
   },
   {
    "duration": 202,
    "start_time": "2023-11-01T17:51:28.244Z"
   },
   {
    "duration": 13,
    "start_time": "2023-11-01T17:51:28.448Z"
   },
   {
    "duration": 249,
    "start_time": "2023-11-01T17:51:28.463Z"
   },
   {
    "duration": 551,
    "start_time": "2023-11-01T17:51:28.713Z"
   },
   {
    "duration": 56,
    "start_time": "2023-11-01T17:51:29.265Z"
   },
   {
    "duration": 67,
    "start_time": "2023-11-01T17:51:29.322Z"
   },
   {
    "duration": 26,
    "start_time": "2023-11-01T17:51:29.391Z"
   },
   {
    "duration": 32,
    "start_time": "2023-11-01T17:51:29.418Z"
   },
   {
    "duration": 866,
    "start_time": "2023-11-01T17:51:29.451Z"
   },
   {
    "duration": 2558,
    "start_time": "2023-11-01T17:51:30.318Z"
   },
   {
    "duration": 5,
    "start_time": "2023-11-01T18:09:58.844Z"
   },
   {
    "duration": 698,
    "start_time": "2023-11-01T18:09:58.850Z"
   },
   {
    "duration": 19,
    "start_time": "2023-11-01T18:09:59.550Z"
   },
   {
    "duration": 257,
    "start_time": "2023-11-01T18:09:59.571Z"
   },
   {
    "duration": 21,
    "start_time": "2023-11-01T18:09:59.830Z"
   },
   {
    "duration": 246,
    "start_time": "2023-11-01T18:09:59.853Z"
   },
   {
    "duration": 501,
    "start_time": "2023-11-01T18:10:00.101Z"
   },
   {
    "duration": 66,
    "start_time": "2023-11-01T18:10:00.604Z"
   },
   {
    "duration": 102,
    "start_time": "2023-11-01T18:10:00.672Z"
   },
   {
    "duration": 27,
    "start_time": "2023-11-01T18:10:00.775Z"
   },
   {
    "duration": 90,
    "start_time": "2023-11-01T18:10:00.803Z"
   },
   {
    "duration": 1199,
    "start_time": "2023-11-01T18:10:00.894Z"
   },
   {
    "duration": 3328,
    "start_time": "2023-11-01T18:10:02.095Z"
   },
   {
    "duration": 1109028,
    "start_time": "2023-11-01T18:10:05.424Z"
   },
   {
    "duration": 1194,
    "start_time": "2023-11-01T18:28:34.454Z"
   },
   {
    "duration": 7,
    "start_time": "2023-11-01T18:28:35.649Z"
   },
   {
    "duration": 82,
    "start_time": "2023-11-01T19:04:23.036Z"
   },
   {
    "duration": 57,
    "start_time": "2023-11-02T15:50:01.187Z"
   },
   {
    "duration": 113,
    "start_time": "2023-11-02T15:51:22.706Z"
   },
   {
    "duration": 1831,
    "start_time": "2023-11-02T15:51:25.522Z"
   },
   {
    "duration": 1224,
    "start_time": "2023-11-02T15:51:27.355Z"
   },
   {
    "duration": 26,
    "start_time": "2023-11-02T15:51:28.580Z"
   },
   {
    "duration": 260,
    "start_time": "2023-11-02T15:51:28.608Z"
   },
   {
    "duration": 15,
    "start_time": "2023-11-02T15:51:28.870Z"
   },
   {
    "duration": 319,
    "start_time": "2023-11-02T15:51:28.886Z"
   },
   {
    "duration": 679,
    "start_time": "2023-11-02T15:51:29.207Z"
   },
   {
    "duration": 84,
    "start_time": "2023-11-02T15:51:29.888Z"
   },
   {
    "duration": 58,
    "start_time": "2023-11-02T15:51:29.973Z"
   },
   {
    "duration": 35,
    "start_time": "2023-11-02T15:51:30.032Z"
   },
   {
    "duration": 62,
    "start_time": "2023-11-02T15:51:30.068Z"
   },
   {
    "duration": 1384,
    "start_time": "2023-11-02T15:51:30.132Z"
   },
   {
    "duration": 3128,
    "start_time": "2023-11-02T15:51:31.518Z"
   },
   {
    "duration": 43209,
    "start_time": "2023-11-02T15:51:34.649Z"
   },
   {
    "duration": 3786,
    "start_time": "2023-11-02T15:52:17.861Z"
   },
   {
    "duration": 8,
    "start_time": "2023-11-02T15:52:21.649Z"
   },
   {
    "duration": 2987,
    "start_time": "2023-11-02T19:31:33.146Z"
   },
   {
    "duration": 4,
    "start_time": "2023-11-02T19:35:41.122Z"
   },
   {
    "duration": 855,
    "start_time": "2023-11-02T19:35:41.127Z"
   },
   {
    "duration": 24,
    "start_time": "2023-11-02T19:35:41.983Z"
   },
   {
    "duration": 263,
    "start_time": "2023-11-02T19:35:42.008Z"
   },
   {
    "duration": 14,
    "start_time": "2023-11-02T19:35:42.273Z"
   },
   {
    "duration": 247,
    "start_time": "2023-11-02T19:35:42.289Z"
   },
   {
    "duration": 572,
    "start_time": "2023-11-02T19:35:42.537Z"
   },
   {
    "duration": 85,
    "start_time": "2023-11-02T19:35:43.111Z"
   },
   {
    "duration": 54,
    "start_time": "2023-11-02T19:35:43.198Z"
   },
   {
    "duration": 28,
    "start_time": "2023-11-02T19:35:43.253Z"
   },
   {
    "duration": 18,
    "start_time": "2023-11-02T19:35:43.283Z"
   },
   {
    "duration": 125,
    "start_time": "2023-11-02T19:35:43.303Z"
   },
   {
    "duration": 3226,
    "start_time": "2023-11-02T19:35:43.430Z"
   },
   {
    "duration": 0,
    "start_time": "2023-11-02T19:35:46.658Z"
   },
   {
    "duration": 0,
    "start_time": "2023-11-02T19:35:46.659Z"
   },
   {
    "duration": 0,
    "start_time": "2023-11-02T19:35:46.660Z"
   },
   {
    "duration": 0,
    "start_time": "2023-11-02T19:35:46.662Z"
   },
   {
    "duration": 0,
    "start_time": "2023-11-02T19:35:46.663Z"
   },
   {
    "duration": 4,
    "start_time": "2023-11-02T19:36:11.257Z"
   },
   {
    "duration": 891,
    "start_time": "2023-11-02T19:36:11.264Z"
   },
   {
    "duration": 22,
    "start_time": "2023-11-02T19:36:12.157Z"
   },
   {
    "duration": 266,
    "start_time": "2023-11-02T19:36:12.181Z"
   },
   {
    "duration": 14,
    "start_time": "2023-11-02T19:36:12.449Z"
   },
   {
    "duration": 239,
    "start_time": "2023-11-02T19:36:12.465Z"
   },
   {
    "duration": 638,
    "start_time": "2023-11-02T19:36:12.706Z"
   },
   {
    "duration": 73,
    "start_time": "2023-11-02T19:36:13.346Z"
   },
   {
    "duration": 73,
    "start_time": "2023-11-02T19:36:13.421Z"
   },
   {
    "duration": 28,
    "start_time": "2023-11-02T19:36:13.496Z"
   },
   {
    "duration": 34,
    "start_time": "2023-11-02T19:36:13.526Z"
   },
   {
    "duration": 128,
    "start_time": "2023-11-02T19:36:13.562Z"
   },
   {
    "duration": 3186,
    "start_time": "2023-11-02T19:36:13.692Z"
   },
   {
    "duration": 168,
    "start_time": "2023-11-02T19:36:16.881Z"
   },
   {
    "duration": 113,
    "start_time": "2023-11-02T19:36:17.051Z"
   },
   {
    "duration": 186,
    "start_time": "2023-11-02T19:36:17.166Z"
   },
   {
    "duration": 133,
    "start_time": "2023-11-02T19:36:17.354Z"
   },
   {
    "duration": 8,
    "start_time": "2023-11-02T19:36:17.489Z"
   },
   {
    "duration": 4,
    "start_time": "2023-11-02T19:37:28.427Z"
   },
   {
    "duration": 856,
    "start_time": "2023-11-02T19:37:28.433Z"
   },
   {
    "duration": 23,
    "start_time": "2023-11-02T19:37:29.291Z"
   },
   {
    "duration": 260,
    "start_time": "2023-11-02T19:37:29.316Z"
   },
   {
    "duration": 15,
    "start_time": "2023-11-02T19:37:29.579Z"
   },
   {
    "duration": 241,
    "start_time": "2023-11-02T19:37:29.595Z"
   },
   {
    "duration": 675,
    "start_time": "2023-11-02T19:37:29.838Z"
   },
   {
    "duration": 79,
    "start_time": "2023-11-02T19:37:30.515Z"
   },
   {
    "duration": 72,
    "start_time": "2023-11-02T19:37:30.596Z"
   },
   {
    "duration": 32,
    "start_time": "2023-11-02T19:37:30.670Z"
   },
   {
    "duration": 31,
    "start_time": "2023-11-02T19:37:30.704Z"
   },
   {
    "duration": 151,
    "start_time": "2023-11-02T19:37:30.737Z"
   },
   {
    "duration": 3,
    "start_time": "2023-11-02T19:37:30.890Z"
   },
   {
    "duration": 189,
    "start_time": "2023-11-02T19:37:30.895Z"
   },
   {
    "duration": 101,
    "start_time": "2023-11-02T19:37:31.086Z"
   },
   {
    "duration": 105,
    "start_time": "2023-11-02T19:37:31.189Z"
   },
   {
    "duration": 92,
    "start_time": "2023-11-02T19:37:31.295Z"
   },
   {
    "duration": 7,
    "start_time": "2023-11-02T19:37:31.389Z"
   },
   {
    "duration": 121,
    "start_time": "2023-11-02T19:37:51.860Z"
   },
   {
    "duration": 100,
    "start_time": "2023-11-02T19:41:27.706Z"
   },
   {
    "duration": 4,
    "start_time": "2023-11-02T19:41:31.969Z"
   },
   {
    "duration": 858,
    "start_time": "2023-11-02T19:41:31.975Z"
   },
   {
    "duration": 29,
    "start_time": "2023-11-02T19:41:32.835Z"
   },
   {
    "duration": 253,
    "start_time": "2023-11-02T19:41:32.866Z"
   },
   {
    "duration": 14,
    "start_time": "2023-11-02T19:41:33.122Z"
   },
   {
    "duration": 266,
    "start_time": "2023-11-02T19:41:33.137Z"
   },
   {
    "duration": 581,
    "start_time": "2023-11-02T19:41:33.405Z"
   },
   {
    "duration": 84,
    "start_time": "2023-11-02T19:41:33.988Z"
   },
   {
    "duration": 78,
    "start_time": "2023-11-02T19:41:34.074Z"
   },
   {
    "duration": 41,
    "start_time": "2023-11-02T19:41:34.154Z"
   },
   {
    "duration": 21,
    "start_time": "2023-11-02T19:41:34.197Z"
   },
   {
    "duration": 128,
    "start_time": "2023-11-02T19:41:34.219Z"
   },
   {
    "duration": 12,
    "start_time": "2023-11-02T19:41:34.348Z"
   },
   {
    "duration": 0,
    "start_time": "2023-11-02T19:41:34.362Z"
   },
   {
    "duration": 0,
    "start_time": "2023-11-02T19:41:34.363Z"
   },
   {
    "duration": 0,
    "start_time": "2023-11-02T19:41:34.365Z"
   },
   {
    "duration": 0,
    "start_time": "2023-11-02T19:41:34.366Z"
   },
   {
    "duration": 0,
    "start_time": "2023-11-02T19:41:34.367Z"
   },
   {
    "duration": 7,
    "start_time": "2023-11-02T19:41:59.569Z"
   },
   {
    "duration": 887,
    "start_time": "2023-11-02T19:41:59.578Z"
   },
   {
    "duration": 23,
    "start_time": "2023-11-02T19:42:00.467Z"
   },
   {
    "duration": 259,
    "start_time": "2023-11-02T19:42:00.492Z"
   },
   {
    "duration": 15,
    "start_time": "2023-11-02T19:42:00.754Z"
   },
   {
    "duration": 276,
    "start_time": "2023-11-02T19:42:00.771Z"
   },
   {
    "duration": 624,
    "start_time": "2023-11-02T19:42:01.049Z"
   },
   {
    "duration": 79,
    "start_time": "2023-11-02T19:42:01.675Z"
   },
   {
    "duration": 50,
    "start_time": "2023-11-02T19:42:01.756Z"
   },
   {
    "duration": 40,
    "start_time": "2023-11-02T19:42:01.808Z"
   },
   {
    "duration": 19,
    "start_time": "2023-11-02T19:42:01.851Z"
   },
   {
    "duration": 133,
    "start_time": "2023-11-02T19:42:01.872Z"
   },
   {
    "duration": 12,
    "start_time": "2023-11-02T19:42:02.006Z"
   },
   {
    "duration": 0,
    "start_time": "2023-11-02T19:42:02.019Z"
   },
   {
    "duration": 0,
    "start_time": "2023-11-02T19:42:02.021Z"
   },
   {
    "duration": 0,
    "start_time": "2023-11-02T19:42:02.023Z"
   },
   {
    "duration": 0,
    "start_time": "2023-11-02T19:42:02.024Z"
   },
   {
    "duration": 0,
    "start_time": "2023-11-02T19:42:02.026Z"
   },
   {
    "duration": 10,
    "start_time": "2023-11-02T19:42:18.351Z"
   },
   {
    "duration": 10,
    "start_time": "2023-11-02T19:42:29.220Z"
   },
   {
    "duration": 4,
    "start_time": "2023-11-02T19:43:18.903Z"
   },
   {
    "duration": 5,
    "start_time": "2023-11-02T19:43:31.383Z"
   },
   {
    "duration": 928,
    "start_time": "2023-11-02T19:43:31.390Z"
   },
   {
    "duration": 30,
    "start_time": "2023-11-02T19:43:32.320Z"
   },
   {
    "duration": 265,
    "start_time": "2023-11-02T19:43:32.352Z"
   },
   {
    "duration": 15,
    "start_time": "2023-11-02T19:43:32.621Z"
   },
   {
    "duration": 259,
    "start_time": "2023-11-02T19:43:32.637Z"
   },
   {
    "duration": 634,
    "start_time": "2023-11-02T19:43:32.897Z"
   },
   {
    "duration": 78,
    "start_time": "2023-11-02T19:43:33.533Z"
   },
   {
    "duration": 68,
    "start_time": "2023-11-02T19:43:33.613Z"
   },
   {
    "duration": 27,
    "start_time": "2023-11-02T19:43:33.683Z"
   },
   {
    "duration": 19,
    "start_time": "2023-11-02T19:43:33.712Z"
   },
   {
    "duration": 105,
    "start_time": "2023-11-02T19:43:33.747Z"
   },
   {
    "duration": 3,
    "start_time": "2023-11-02T19:43:33.854Z"
   },
   {
    "duration": 118,
    "start_time": "2023-11-02T19:43:33.860Z"
   },
   {
    "duration": 86,
    "start_time": "2023-11-02T19:43:33.979Z"
   },
   {
    "duration": 101,
    "start_time": "2023-11-02T19:43:34.067Z"
   },
   {
    "duration": 85,
    "start_time": "2023-11-02T19:43:34.171Z"
   },
   {
    "duration": 8,
    "start_time": "2023-11-02T19:43:34.258Z"
   },
   {
    "duration": 181,
    "start_time": "2023-11-02T19:43:57.947Z"
   },
   {
    "duration": 162,
    "start_time": "2023-11-02T19:44:17.256Z"
   },
   {
    "duration": 142,
    "start_time": "2023-11-02T19:44:23.178Z"
   },
   {
    "duration": 6,
    "start_time": "2023-11-02T19:46:45.675Z"
   },
   {
    "duration": 857,
    "start_time": "2023-11-02T19:46:45.683Z"
   },
   {
    "duration": 25,
    "start_time": "2023-11-02T19:46:46.542Z"
   },
   {
    "duration": 254,
    "start_time": "2023-11-02T19:46:46.568Z"
   },
   {
    "duration": 23,
    "start_time": "2023-11-02T19:46:46.825Z"
   },
   {
    "duration": 269,
    "start_time": "2023-11-02T19:46:46.850Z"
   },
   {
    "duration": 583,
    "start_time": "2023-11-02T19:46:47.121Z"
   },
   {
    "duration": 80,
    "start_time": "2023-11-02T19:46:47.705Z"
   },
   {
    "duration": 61,
    "start_time": "2023-11-02T19:46:47.787Z"
   },
   {
    "duration": 27,
    "start_time": "2023-11-02T19:46:47.850Z"
   },
   {
    "duration": 23,
    "start_time": "2023-11-02T19:46:47.879Z"
   },
   {
    "duration": 136,
    "start_time": "2023-11-02T19:46:47.904Z"
   },
   {
    "duration": 840,
    "start_time": "2023-11-02T19:46:48.041Z"
   },
   {
    "duration": 0,
    "start_time": "2023-11-02T19:46:48.884Z"
   },
   {
    "duration": 0,
    "start_time": "2023-11-02T19:46:48.885Z"
   },
   {
    "duration": 0,
    "start_time": "2023-11-02T19:46:48.886Z"
   },
   {
    "duration": 0,
    "start_time": "2023-11-02T19:46:48.888Z"
   },
   {
    "duration": 0,
    "start_time": "2023-11-02T19:46:48.890Z"
   },
   {
    "duration": 883,
    "start_time": "2023-11-02T19:47:43.882Z"
   },
   {
    "duration": 881,
    "start_time": "2023-11-02T19:47:56.868Z"
   },
   {
    "duration": 5,
    "start_time": "2023-11-02T19:48:31.796Z"
   },
   {
    "duration": 874,
    "start_time": "2023-11-02T19:48:31.802Z"
   },
   {
    "duration": 24,
    "start_time": "2023-11-02T19:48:32.678Z"
   },
   {
    "duration": 262,
    "start_time": "2023-11-02T19:48:32.704Z"
   },
   {
    "duration": 15,
    "start_time": "2023-11-02T19:48:32.968Z"
   },
   {
    "duration": 264,
    "start_time": "2023-11-02T19:48:32.984Z"
   },
   {
    "duration": 611,
    "start_time": "2023-11-02T19:48:33.250Z"
   },
   {
    "duration": 84,
    "start_time": "2023-11-02T19:48:33.863Z"
   },
   {
    "duration": 57,
    "start_time": "2023-11-02T19:48:33.949Z"
   },
   {
    "duration": 41,
    "start_time": "2023-11-02T19:48:34.008Z"
   },
   {
    "duration": 18,
    "start_time": "2023-11-02T19:48:34.051Z"
   },
   {
    "duration": 122,
    "start_time": "2023-11-02T19:48:34.071Z"
   },
   {
    "duration": 923,
    "start_time": "2023-11-02T19:48:34.195Z"
   },
   {
    "duration": 0,
    "start_time": "2023-11-02T19:48:35.120Z"
   },
   {
    "duration": 0,
    "start_time": "2023-11-02T19:48:35.121Z"
   },
   {
    "duration": 0,
    "start_time": "2023-11-02T19:48:35.122Z"
   },
   {
    "duration": 0,
    "start_time": "2023-11-02T19:48:35.123Z"
   },
   {
    "duration": 0,
    "start_time": "2023-11-02T19:48:35.124Z"
   },
   {
    "duration": 895,
    "start_time": "2023-11-02T19:48:43.997Z"
   },
   {
    "duration": 86,
    "start_time": "2023-11-02T19:48:52.997Z"
   },
   {
    "duration": 967,
    "start_time": "2023-11-02T20:21:32.865Z"
   },
   {
    "duration": 140,
    "start_time": "2023-11-02T20:21:39.341Z"
   },
   {
    "duration": 1040,
    "start_time": "2023-11-02T20:21:42.185Z"
   },
   {
    "duration": 1613,
    "start_time": "2023-11-02T20:22:28.247Z"
   },
   {
    "duration": 998,
    "start_time": "2023-11-02T20:22:29.862Z"
   },
   {
    "duration": 28,
    "start_time": "2023-11-02T20:22:30.862Z"
   },
   {
    "duration": 327,
    "start_time": "2023-11-02T20:22:30.892Z"
   },
   {
    "duration": 26,
    "start_time": "2023-11-02T20:22:31.221Z"
   },
   {
    "duration": 335,
    "start_time": "2023-11-02T20:22:31.249Z"
   },
   {
    "duration": 752,
    "start_time": "2023-11-02T20:22:31.586Z"
   },
   {
    "duration": 80,
    "start_time": "2023-11-02T20:22:32.340Z"
   },
   {
    "duration": 80,
    "start_time": "2023-11-02T20:22:32.422Z"
   },
   {
    "duration": 30,
    "start_time": "2023-11-02T20:22:32.504Z"
   },
   {
    "duration": 29,
    "start_time": "2023-11-02T20:22:32.536Z"
   },
   {
    "duration": 129,
    "start_time": "2023-11-02T20:22:32.567Z"
   },
   {
    "duration": 1193,
    "start_time": "2023-11-02T20:22:32.698Z"
   },
   {
    "duration": 0,
    "start_time": "2023-11-02T20:22:33.893Z"
   },
   {
    "duration": 0,
    "start_time": "2023-11-02T20:22:33.895Z"
   },
   {
    "duration": 0,
    "start_time": "2023-11-02T20:22:33.896Z"
   },
   {
    "duration": 0,
    "start_time": "2023-11-02T20:22:33.897Z"
   },
   {
    "duration": 0,
    "start_time": "2023-11-02T20:22:33.898Z"
   },
   {
    "duration": 4283,
    "start_time": "2023-11-02T20:52:31.669Z"
   },
   {
    "duration": 1226,
    "start_time": "2023-11-02T20:52:35.954Z"
   },
   {
    "duration": 25,
    "start_time": "2023-11-02T20:52:37.181Z"
   },
   {
    "duration": 250,
    "start_time": "2023-11-02T20:52:37.207Z"
   },
   {
    "duration": 14,
    "start_time": "2023-11-02T20:52:37.459Z"
   },
   {
    "duration": 297,
    "start_time": "2023-11-02T20:52:37.475Z"
   },
   {
    "duration": 603,
    "start_time": "2023-11-02T20:52:37.774Z"
   },
   {
    "duration": 61,
    "start_time": "2023-11-02T20:52:38.379Z"
   },
   {
    "duration": 64,
    "start_time": "2023-11-02T20:52:38.441Z"
   },
   {
    "duration": 25,
    "start_time": "2023-11-02T20:52:38.506Z"
   },
   {
    "duration": 39,
    "start_time": "2023-11-02T20:52:38.533Z"
   },
   {
    "duration": 126,
    "start_time": "2023-11-02T20:52:38.574Z"
   },
   {
    "duration": 1002,
    "start_time": "2023-11-02T20:52:38.702Z"
   },
   {
    "duration": 0,
    "start_time": "2023-11-02T20:52:39.706Z"
   },
   {
    "duration": 0,
    "start_time": "2023-11-02T20:52:39.707Z"
   },
   {
    "duration": 0,
    "start_time": "2023-11-02T20:52:39.709Z"
   },
   {
    "duration": 0,
    "start_time": "2023-11-02T20:52:39.709Z"
   },
   {
    "duration": 1,
    "start_time": "2023-11-02T20:52:39.710Z"
   },
   {
    "duration": 57,
    "start_time": "2023-11-03T08:22:16.455Z"
   },
   {
    "duration": 1968,
    "start_time": "2023-11-03T08:22:20.531Z"
   },
   {
    "duration": 1434,
    "start_time": "2023-11-03T08:22:22.503Z"
   },
   {
    "duration": 60,
    "start_time": "2023-11-03T08:22:23.938Z"
   },
   {
    "duration": 366,
    "start_time": "2023-11-03T08:22:24.001Z"
   },
   {
    "duration": 20,
    "start_time": "2023-11-03T08:22:24.372Z"
   },
   {
    "duration": 382,
    "start_time": "2023-11-03T08:22:24.394Z"
   },
   {
    "duration": 721,
    "start_time": "2023-11-03T08:22:24.778Z"
   },
   {
    "duration": 95,
    "start_time": "2023-11-03T08:22:25.501Z"
   },
   {
    "duration": 82,
    "start_time": "2023-11-03T08:22:25.598Z"
   },
   {
    "duration": 27,
    "start_time": "2023-11-03T08:22:25.686Z"
   },
   {
    "duration": 19,
    "start_time": "2023-11-03T08:22:25.714Z"
   },
   {
    "duration": 104,
    "start_time": "2023-11-03T08:22:25.735Z"
   },
   {
    "duration": 3762,
    "start_time": "2023-11-03T08:22:25.861Z"
   },
   {
    "duration": 293,
    "start_time": "2023-11-03T08:22:29.624Z"
   },
   {
    "duration": 106,
    "start_time": "2023-11-03T08:22:29.918Z"
   },
   {
    "duration": 150,
    "start_time": "2023-11-03T08:22:30.026Z"
   },
   {
    "duration": 98,
    "start_time": "2023-11-03T08:22:30.178Z"
   },
   {
    "duration": 9,
    "start_time": "2023-11-03T08:22:30.277Z"
   },
   {
    "duration": 96236,
    "start_time": "2023-11-03T08:22:46.705Z"
   },
   {
    "duration": 1690,
    "start_time": "2023-11-03T15:24:52.875Z"
   },
   {
    "duration": 1233,
    "start_time": "2023-11-03T15:24:54.567Z"
   },
   {
    "duration": 28,
    "start_time": "2023-11-03T15:24:55.802Z"
   },
   {
    "duration": 301,
    "start_time": "2023-11-03T15:24:55.832Z"
   },
   {
    "duration": 17,
    "start_time": "2023-11-03T15:24:56.136Z"
   },
   {
    "duration": 315,
    "start_time": "2023-11-03T15:24:56.156Z"
   },
   {
    "duration": 675,
    "start_time": "2023-11-03T15:24:56.473Z"
   },
   {
    "duration": 84,
    "start_time": "2023-11-03T15:24:57.150Z"
   },
   {
    "duration": 68,
    "start_time": "2023-11-03T15:24:57.236Z"
   },
   {
    "duration": 29,
    "start_time": "2023-11-03T15:24:57.305Z"
   },
   {
    "duration": 125,
    "start_time": "2023-11-03T15:24:57.336Z"
   },
   {
    "duration": 0,
    "start_time": "2023-11-03T15:24:57.463Z"
   },
   {
    "duration": 0,
    "start_time": "2023-11-03T15:24:57.465Z"
   },
   {
    "duration": 0,
    "start_time": "2023-11-03T15:24:57.466Z"
   },
   {
    "duration": 0,
    "start_time": "2023-11-03T15:24:57.469Z"
   },
   {
    "duration": 0,
    "start_time": "2023-11-03T15:24:57.470Z"
   },
   {
    "duration": 4,
    "start_time": "2023-11-03T15:25:34.118Z"
   },
   {
    "duration": 945,
    "start_time": "2023-11-03T15:25:34.124Z"
   },
   {
    "duration": 21,
    "start_time": "2023-11-03T15:25:35.071Z"
   },
   {
    "duration": 247,
    "start_time": "2023-11-03T15:25:35.102Z"
   },
   {
    "duration": 14,
    "start_time": "2023-11-03T15:25:35.351Z"
   },
   {
    "duration": 235,
    "start_time": "2023-11-03T15:25:35.367Z"
   },
   {
    "duration": 594,
    "start_time": "2023-11-03T15:25:35.604Z"
   },
   {
    "duration": 70,
    "start_time": "2023-11-03T15:25:36.201Z"
   },
   {
    "duration": 67,
    "start_time": "2023-11-03T15:25:36.272Z"
   },
   {
    "duration": 27,
    "start_time": "2023-11-03T15:25:36.341Z"
   },
   {
    "duration": 417,
    "start_time": "2023-11-03T15:25:36.370Z"
   },
   {
    "duration": 68,
    "start_time": "2023-11-03T15:25:36.789Z"
   },
   {
    "duration": 181,
    "start_time": "2023-11-03T15:25:36.859Z"
   },
   {
    "duration": 264,
    "start_time": "2023-11-03T15:25:37.042Z"
   },
   {
    "duration": 137,
    "start_time": "2023-11-03T15:25:37.307Z"
   },
   {
    "duration": 10,
    "start_time": "2023-11-03T15:25:37.446Z"
   },
   {
    "duration": 30,
    "start_time": "2023-11-03T15:26:59.202Z"
   },
   {
    "duration": 878,
    "start_time": "2023-11-03T15:26:59.235Z"
   },
   {
    "duration": 22,
    "start_time": "2023-11-03T15:27:00.115Z"
   },
   {
    "duration": 246,
    "start_time": "2023-11-03T15:27:00.139Z"
   },
   {
    "duration": 23,
    "start_time": "2023-11-03T15:27:00.387Z"
   },
   {
    "duration": 310,
    "start_time": "2023-11-03T15:27:00.413Z"
   },
   {
    "duration": 602,
    "start_time": "2023-11-03T15:27:00.725Z"
   },
   {
    "duration": 76,
    "start_time": "2023-11-03T15:27:01.329Z"
   },
   {
    "duration": 337,
    "start_time": "2023-11-03T15:27:01.407Z"
   },
   {
    "duration": 86,
    "start_time": "2023-11-03T15:27:01.746Z"
   },
   {
    "duration": 426,
    "start_time": "2023-11-03T15:27:01.833Z"
   },
   {
    "duration": 69,
    "start_time": "2023-11-03T15:27:02.261Z"
   },
   {
    "duration": 3150,
    "start_time": "2023-11-03T15:27:02.332Z"
   },
   {
    "duration": 143,
    "start_time": "2023-11-03T15:27:05.484Z"
   },
   {
    "duration": 173,
    "start_time": "2023-11-03T15:27:05.628Z"
   },
   {
    "duration": 9,
    "start_time": "2023-11-03T15:27:05.803Z"
   },
   {
    "duration": 5,
    "start_time": "2023-11-03T15:45:27.445Z"
   },
   {
    "duration": 892,
    "start_time": "2023-11-03T15:45:27.452Z"
   },
   {
    "duration": 22,
    "start_time": "2023-11-03T15:45:28.346Z"
   },
   {
    "duration": 276,
    "start_time": "2023-11-03T15:45:28.370Z"
   },
   {
    "duration": 16,
    "start_time": "2023-11-03T15:45:28.648Z"
   },
   {
    "duration": 258,
    "start_time": "2023-11-03T15:45:28.666Z"
   },
   {
    "duration": 639,
    "start_time": "2023-11-03T15:45:28.926Z"
   },
   {
    "duration": 87,
    "start_time": "2023-11-03T15:45:29.567Z"
   },
   {
    "duration": 68,
    "start_time": "2023-11-03T15:45:29.656Z"
   },
   {
    "duration": 27,
    "start_time": "2023-11-03T15:45:29.725Z"
   },
   {
    "duration": 123,
    "start_time": "2023-11-03T15:45:29.754Z"
   },
   {
    "duration": 0,
    "start_time": "2023-11-03T15:45:29.879Z"
   },
   {
    "duration": 0,
    "start_time": "2023-11-03T15:45:29.881Z"
   },
   {
    "duration": 0,
    "start_time": "2023-11-03T15:45:29.882Z"
   },
   {
    "duration": 0,
    "start_time": "2023-11-03T15:45:29.883Z"
   },
   {
    "duration": 32,
    "start_time": "2023-11-03T15:45:46.005Z"
   },
   {
    "duration": 0,
    "start_time": "2023-11-03T15:45:46.039Z"
   },
   {
    "duration": 0,
    "start_time": "2023-11-03T15:45:46.040Z"
   },
   {
    "duration": 0,
    "start_time": "2023-11-03T15:45:46.041Z"
   },
   {
    "duration": 0,
    "start_time": "2023-11-03T15:45:46.042Z"
   },
   {
    "duration": 0,
    "start_time": "2023-11-03T15:45:46.043Z"
   },
   {
    "duration": 0,
    "start_time": "2023-11-03T15:45:46.044Z"
   },
   {
    "duration": 0,
    "start_time": "2023-11-03T15:45:46.046Z"
   },
   {
    "duration": 0,
    "start_time": "2023-11-03T15:45:46.047Z"
   },
   {
    "duration": 0,
    "start_time": "2023-11-03T15:45:46.048Z"
   },
   {
    "duration": 0,
    "start_time": "2023-11-03T15:45:46.049Z"
   },
   {
    "duration": 0,
    "start_time": "2023-11-03T15:45:46.050Z"
   },
   {
    "duration": 0,
    "start_time": "2023-11-03T15:45:46.051Z"
   },
   {
    "duration": 0,
    "start_time": "2023-11-03T15:45:46.052Z"
   },
   {
    "duration": 0,
    "start_time": "2023-11-03T15:45:46.054Z"
   },
   {
    "duration": 11,
    "start_time": "2023-11-03T15:46:08.658Z"
   },
   {
    "duration": 0,
    "start_time": "2023-11-03T15:46:08.671Z"
   },
   {
    "duration": 0,
    "start_time": "2023-11-03T15:46:08.672Z"
   },
   {
    "duration": 0,
    "start_time": "2023-11-03T15:46:08.673Z"
   },
   {
    "duration": 0,
    "start_time": "2023-11-03T15:46:08.674Z"
   },
   {
    "duration": 0,
    "start_time": "2023-11-03T15:46:08.675Z"
   },
   {
    "duration": 0,
    "start_time": "2023-11-03T15:46:08.676Z"
   },
   {
    "duration": 0,
    "start_time": "2023-11-03T15:46:08.677Z"
   },
   {
    "duration": 0,
    "start_time": "2023-11-03T15:46:08.678Z"
   },
   {
    "duration": 0,
    "start_time": "2023-11-03T15:46:08.679Z"
   },
   {
    "duration": 0,
    "start_time": "2023-11-03T15:46:08.680Z"
   },
   {
    "duration": 0,
    "start_time": "2023-11-03T15:46:08.681Z"
   },
   {
    "duration": 0,
    "start_time": "2023-11-03T15:46:08.682Z"
   },
   {
    "duration": 0,
    "start_time": "2023-11-03T15:46:08.683Z"
   },
   {
    "duration": 0,
    "start_time": "2023-11-03T15:46:08.684Z"
   },
   {
    "duration": 12,
    "start_time": "2023-11-03T15:47:02.042Z"
   },
   {
    "duration": 10,
    "start_time": "2023-11-03T15:51:34.491Z"
   },
   {
    "duration": 1884,
    "start_time": "2023-11-03T16:02:54.652Z"
   },
   {
    "duration": 1337,
    "start_time": "2023-11-03T16:03:09.604Z"
   },
   {
    "duration": 1494,
    "start_time": "2023-11-03T16:03:10.943Z"
   },
   {
    "duration": 0,
    "start_time": "2023-11-03T16:03:12.440Z"
   },
   {
    "duration": 0,
    "start_time": "2023-11-03T16:03:12.442Z"
   },
   {
    "duration": 0,
    "start_time": "2023-11-03T16:03:12.443Z"
   },
   {
    "duration": 0,
    "start_time": "2023-11-03T16:03:12.445Z"
   },
   {
    "duration": 0,
    "start_time": "2023-11-03T16:03:12.447Z"
   },
   {
    "duration": 0,
    "start_time": "2023-11-03T16:03:12.448Z"
   },
   {
    "duration": 0,
    "start_time": "2023-11-03T16:03:12.449Z"
   },
   {
    "duration": 0,
    "start_time": "2023-11-03T16:03:12.451Z"
   },
   {
    "duration": 0,
    "start_time": "2023-11-03T16:03:12.453Z"
   },
   {
    "duration": 0,
    "start_time": "2023-11-03T16:03:12.454Z"
   },
   {
    "duration": 0,
    "start_time": "2023-11-03T16:03:12.455Z"
   },
   {
    "duration": 0,
    "start_time": "2023-11-03T16:03:12.457Z"
   },
   {
    "duration": 0,
    "start_time": "2023-11-03T16:03:12.458Z"
   },
   {
    "duration": 0,
    "start_time": "2023-11-03T16:03:12.460Z"
   },
   {
    "duration": 2995,
    "start_time": "2023-11-03T16:03:45.651Z"
   },
   {
    "duration": 166,
    "start_time": "2023-11-03T16:04:08.627Z"
   },
   {
    "duration": 2373,
    "start_time": "2023-11-03T16:04:20.645Z"
   },
   {
    "duration": 5,
    "start_time": "2023-11-03T16:04:23.021Z"
   },
   {
    "duration": 916,
    "start_time": "2023-11-03T16:04:23.027Z"
   },
   {
    "duration": 29,
    "start_time": "2023-11-03T16:04:23.944Z"
   },
   {
    "duration": 279,
    "start_time": "2023-11-03T16:04:23.975Z"
   },
   {
    "duration": 16,
    "start_time": "2023-11-03T16:04:24.256Z"
   },
   {
    "duration": 339,
    "start_time": "2023-11-03T16:04:24.273Z"
   },
   {
    "duration": 773,
    "start_time": "2023-11-03T16:04:24.615Z"
   },
   {
    "duration": 73,
    "start_time": "2023-11-03T16:04:25.390Z"
   },
   {
    "duration": 131,
    "start_time": "2023-11-03T16:04:25.465Z"
   },
   {
    "duration": 112,
    "start_time": "2023-11-03T16:04:25.598Z"
   },
   {
    "duration": 1750,
    "start_time": "2023-11-03T16:04:25.711Z"
   },
   {
    "duration": 0,
    "start_time": "2023-11-03T16:04:27.463Z"
   },
   {
    "duration": 0,
    "start_time": "2023-11-03T16:04:27.465Z"
   },
   {
    "duration": 0,
    "start_time": "2023-11-03T16:04:27.467Z"
   },
   {
    "duration": 0,
    "start_time": "2023-11-03T16:04:27.468Z"
   },
   {
    "duration": 2433,
    "start_time": "2023-11-03T16:05:05.392Z"
   },
   {
    "duration": 6,
    "start_time": "2023-11-03T16:05:07.827Z"
   },
   {
    "duration": 988,
    "start_time": "2023-11-03T16:05:07.834Z"
   },
   {
    "duration": 22,
    "start_time": "2023-11-03T16:05:08.824Z"
   },
   {
    "duration": 294,
    "start_time": "2023-11-03T16:05:08.849Z"
   },
   {
    "duration": 15,
    "start_time": "2023-11-03T16:05:09.145Z"
   },
   {
    "duration": 270,
    "start_time": "2023-11-03T16:05:09.162Z"
   },
   {
    "duration": 638,
    "start_time": "2023-11-03T16:05:09.434Z"
   },
   {
    "duration": 77,
    "start_time": "2023-11-03T16:05:10.074Z"
   },
   {
    "duration": 118,
    "start_time": "2023-11-03T16:05:10.152Z"
   },
   {
    "duration": 45,
    "start_time": "2023-11-03T16:05:10.272Z"
   },
   {
    "duration": 4665,
    "start_time": "2023-11-03T16:05:10.320Z"
   },
   {
    "duration": 34415,
    "start_time": "2023-11-03T16:05:14.987Z"
   },
   {
    "duration": 153,
    "start_time": "2023-11-03T16:05:49.406Z"
   },
   {
    "duration": 90,
    "start_time": "2023-11-03T16:05:49.561Z"
   },
   {
    "duration": 17,
    "start_time": "2023-11-03T16:05:49.653Z"
   },
   {
    "duration": 30319,
    "start_time": "2023-11-03T16:07:11.206Z"
   },
   {
    "duration": 235,
    "start_time": "2023-11-03T16:07:41.602Z"
   },
   {
    "duration": 2326,
    "start_time": "2023-11-03T16:11:56.170Z"
   },
   {
    "duration": 1595,
    "start_time": "2023-11-03T16:11:58.498Z"
   },
   {
    "duration": 954,
    "start_time": "2023-11-03T16:12:00.095Z"
   },
   {
    "duration": 26,
    "start_time": "2023-11-03T16:12:01.051Z"
   },
   {
    "duration": 751,
    "start_time": "2023-11-03T16:12:01.078Z"
   },
   {
    "duration": 16,
    "start_time": "2023-11-03T16:12:01.831Z"
   },
   {
    "duration": 389,
    "start_time": "2023-11-03T16:12:01.849Z"
   },
   {
    "duration": 887,
    "start_time": "2023-11-03T16:12:02.240Z"
   },
   {
    "duration": 86,
    "start_time": "2023-11-03T16:12:03.129Z"
   },
   {
    "duration": 60,
    "start_time": "2023-11-03T16:12:03.218Z"
   },
   {
    "duration": 46,
    "start_time": "2023-11-03T16:12:03.280Z"
   },
   {
    "duration": 4137,
    "start_time": "2023-11-03T16:12:03.328Z"
   },
   {
    "duration": 30635,
    "start_time": "2023-11-03T16:12:07.467Z"
   },
   {
    "duration": 383,
    "start_time": "2023-11-03T16:12:38.106Z"
   },
   {
    "duration": 122,
    "start_time": "2023-11-03T16:12:38.491Z"
   },
   {
    "duration": 16,
    "start_time": "2023-11-03T16:12:38.615Z"
   },
   {
    "duration": 3310,
    "start_time": "2023-11-03T20:10:22.415Z"
   },
   {
    "duration": 3991,
    "start_time": "2023-11-03T20:10:25.727Z"
   },
   {
    "duration": 1086,
    "start_time": "2023-11-03T20:10:29.719Z"
   },
   {
    "duration": 33,
    "start_time": "2023-11-03T20:10:30.806Z"
   },
   {
    "duration": 208,
    "start_time": "2023-11-03T20:10:30.841Z"
   },
   {
    "duration": 14,
    "start_time": "2023-11-03T20:10:31.051Z"
   },
   {
    "duration": 248,
    "start_time": "2023-11-03T20:10:31.066Z"
   },
   {
    "duration": 583,
    "start_time": "2023-11-03T20:10:31.316Z"
   },
   {
    "duration": 75,
    "start_time": "2023-11-03T20:10:31.900Z"
   },
   {
    "duration": 53,
    "start_time": "2023-11-03T20:10:31.977Z"
   },
   {
    "duration": 37,
    "start_time": "2023-11-03T20:10:32.040Z"
   },
   {
    "duration": 3394,
    "start_time": "2023-11-03T20:10:32.079Z"
   },
   {
    "duration": 21774,
    "start_time": "2023-11-03T20:10:35.474Z"
   },
   {
    "duration": 423,
    "start_time": "2023-11-03T20:10:57.251Z"
   },
   {
    "duration": 114,
    "start_time": "2023-11-03T20:10:57.676Z"
   },
   {
    "duration": 10,
    "start_time": "2023-11-03T20:10:57.791Z"
   },
   {
    "duration": 19,
    "start_time": "2023-11-03T20:11:55.264Z"
   },
   {
    "duration": 21,
    "start_time": "2023-11-03T20:12:26.514Z"
   },
   {
    "duration": 25,
    "start_time": "2023-11-03T20:12:35.592Z"
   },
   {
    "duration": 4,
    "start_time": "2023-11-03T20:13:43.746Z"
   },
   {
    "duration": 100,
    "start_time": "2023-11-04T20:20:52.816Z"
   },
   {
    "duration": 0,
    "start_time": "2023-11-04T20:20:52.918Z"
   },
   {
    "duration": 0,
    "start_time": "2023-11-04T20:20:52.920Z"
   },
   {
    "duration": 0,
    "start_time": "2023-11-04T20:20:52.922Z"
   },
   {
    "duration": 0,
    "start_time": "2023-11-04T20:20:52.923Z"
   },
   {
    "duration": 0,
    "start_time": "2023-11-04T20:20:52.924Z"
   },
   {
    "duration": 0,
    "start_time": "2023-11-04T20:20:52.925Z"
   },
   {
    "duration": 0,
    "start_time": "2023-11-04T20:20:52.928Z"
   },
   {
    "duration": 0,
    "start_time": "2023-11-04T20:20:52.929Z"
   },
   {
    "duration": 1,
    "start_time": "2023-11-04T20:20:52.930Z"
   },
   {
    "duration": 0,
    "start_time": "2023-11-04T20:20:52.932Z"
   },
   {
    "duration": 0,
    "start_time": "2023-11-04T20:20:52.933Z"
   },
   {
    "duration": 0,
    "start_time": "2023-11-04T20:20:52.934Z"
   },
   {
    "duration": 0,
    "start_time": "2023-11-04T20:20:52.935Z"
   },
   {
    "duration": 0,
    "start_time": "2023-11-04T20:20:52.937Z"
   },
   {
    "duration": 0,
    "start_time": "2023-11-04T20:20:52.938Z"
   },
   {
    "duration": 82,
    "start_time": "2023-11-04T20:21:32.505Z"
   },
   {
    "duration": 3145,
    "start_time": "2023-11-04T20:21:38.595Z"
   },
   {
    "duration": 2152,
    "start_time": "2023-11-04T20:21:52.331Z"
   },
   {
    "duration": 2141,
    "start_time": "2023-11-04T20:21:54.486Z"
   },
   {
    "duration": 1518,
    "start_time": "2023-11-04T20:21:56.629Z"
   },
   {
    "duration": 1159,
    "start_time": "2023-11-04T20:21:58.148Z"
   },
   {
    "duration": 25,
    "start_time": "2023-11-04T20:21:59.309Z"
   },
   {
    "duration": 231,
    "start_time": "2023-11-04T20:21:59.335Z"
   },
   {
    "duration": 20,
    "start_time": "2023-11-04T20:21:59.568Z"
   },
   {
    "duration": 323,
    "start_time": "2023-11-04T20:21:59.589Z"
   },
   {
    "duration": 617,
    "start_time": "2023-11-04T20:21:59.915Z"
   },
   {
    "duration": 68,
    "start_time": "2023-11-04T20:22:00.533Z"
   },
   {
    "duration": 71,
    "start_time": "2023-11-04T20:22:00.603Z"
   },
   {
    "duration": 27,
    "start_time": "2023-11-04T20:22:00.675Z"
   },
   {
    "duration": 3872,
    "start_time": "2023-11-04T20:22:00.703Z"
   },
   {
    "duration": 31873,
    "start_time": "2023-11-04T20:22:04.578Z"
   },
   {
    "duration": 369,
    "start_time": "2023-11-04T20:22:36.457Z"
   },
   {
    "duration": 108,
    "start_time": "2023-11-04T20:22:36.828Z"
   },
   {
    "duration": 9,
    "start_time": "2023-11-04T20:22:36.938Z"
   },
   {
    "duration": 2227,
    "start_time": "2023-11-04T20:24:40.977Z"
   },
   {
    "duration": 2379,
    "start_time": "2023-11-04T20:24:43.206Z"
   },
   {
    "duration": 5,
    "start_time": "2023-11-04T20:24:45.588Z"
   },
   {
    "duration": 854,
    "start_time": "2023-11-04T20:24:45.596Z"
   },
   {
    "duration": 38,
    "start_time": "2023-11-04T20:24:46.452Z"
   },
   {
    "duration": 288,
    "start_time": "2023-11-04T20:24:46.492Z"
   },
   {
    "duration": 13,
    "start_time": "2023-11-04T20:24:46.782Z"
   },
   {
    "duration": 228,
    "start_time": "2023-11-04T20:24:46.796Z"
   },
   {
    "duration": 648,
    "start_time": "2023-11-04T20:24:47.026Z"
   },
   {
    "duration": 127,
    "start_time": "2023-11-04T20:24:47.677Z"
   },
   {
    "duration": 72,
    "start_time": "2023-11-04T20:24:47.806Z"
   },
   {
    "duration": 27,
    "start_time": "2023-11-04T20:24:47.880Z"
   },
   {
    "duration": 2138,
    "start_time": "2023-11-04T20:24:47.909Z"
   },
   {
    "duration": 0,
    "start_time": "2023-11-04T20:24:50.049Z"
   },
   {
    "duration": 0,
    "start_time": "2023-11-04T20:24:50.050Z"
   },
   {
    "duration": 0,
    "start_time": "2023-11-04T20:24:50.051Z"
   },
   {
    "duration": 0,
    "start_time": "2023-11-04T20:24:50.052Z"
   },
   {
    "duration": 2061,
    "start_time": "2023-11-04T20:27:30.007Z"
   },
   {
    "duration": 2151,
    "start_time": "2023-11-04T20:28:04.547Z"
   },
   {
    "duration": 2214,
    "start_time": "2023-11-04T20:31:33.255Z"
   },
   {
    "duration": 2111,
    "start_time": "2023-11-04T20:35:23.714Z"
   },
   {
    "duration": 2319,
    "start_time": "2023-11-04T20:35:31.935Z"
   },
   {
    "duration": 2238,
    "start_time": "2023-11-04T20:35:34.257Z"
   },
   {
    "duration": 6,
    "start_time": "2023-11-04T20:35:36.498Z"
   },
   {
    "duration": 811,
    "start_time": "2023-11-04T20:35:36.508Z"
   },
   {
    "duration": 31,
    "start_time": "2023-11-04T20:35:37.321Z"
   },
   {
    "duration": 259,
    "start_time": "2023-11-04T20:35:37.354Z"
   },
   {
    "duration": 15,
    "start_time": "2023-11-04T20:35:37.615Z"
   },
   {
    "duration": 237,
    "start_time": "2023-11-04T20:35:37.645Z"
   },
   {
    "duration": 568,
    "start_time": "2023-11-04T20:35:37.884Z"
   },
   {
    "duration": 65,
    "start_time": "2023-11-04T20:35:38.454Z"
   },
   {
    "duration": 78,
    "start_time": "2023-11-04T20:35:38.521Z"
   },
   {
    "duration": 26,
    "start_time": "2023-11-04T20:35:38.601Z"
   },
   {
    "duration": 2146,
    "start_time": "2023-11-04T20:35:38.629Z"
   },
   {
    "duration": 0,
    "start_time": "2023-11-04T20:35:40.776Z"
   },
   {
    "duration": 0,
    "start_time": "2023-11-04T20:35:40.778Z"
   },
   {
    "duration": 0,
    "start_time": "2023-11-04T20:35:40.779Z"
   },
   {
    "duration": 0,
    "start_time": "2023-11-04T20:35:40.780Z"
   },
   {
    "duration": 2152,
    "start_time": "2023-11-04T20:36:45.571Z"
   },
   {
    "duration": 4122,
    "start_time": "2023-11-04T20:36:59.044Z"
   },
   {
    "duration": 1961,
    "start_time": "2023-11-04T20:37:12.393Z"
   },
   {
    "duration": 232,
    "start_time": "2023-11-04T20:37:14.446Z"
   },
   {
    "duration": 3949,
    "start_time": "2023-11-04T20:37:38.127Z"
   },
   {
    "duration": 2110,
    "start_time": "2023-11-04T20:38:07.987Z"
   },
   {
    "duration": 2241,
    "start_time": "2023-11-04T20:40:39.394Z"
   },
   {
    "duration": 2305,
    "start_time": "2023-11-04T20:40:41.638Z"
   },
   {
    "duration": 6,
    "start_time": "2023-11-04T20:40:43.945Z"
   },
   {
    "duration": 850,
    "start_time": "2023-11-04T20:40:43.953Z"
   },
   {
    "duration": 22,
    "start_time": "2023-11-04T20:40:44.805Z"
   },
   {
    "duration": 254,
    "start_time": "2023-11-04T20:40:44.828Z"
   },
   {
    "duration": 14,
    "start_time": "2023-11-04T20:40:45.084Z"
   },
   {
    "duration": 268,
    "start_time": "2023-11-04T20:40:45.100Z"
   },
   {
    "duration": 550,
    "start_time": "2023-11-04T20:40:45.370Z"
   },
   {
    "duration": 78,
    "start_time": "2023-11-04T20:40:45.921Z"
   },
   {
    "duration": 72,
    "start_time": "2023-11-04T20:40:46.000Z"
   },
   {
    "duration": 31,
    "start_time": "2023-11-04T20:40:46.074Z"
   },
   {
    "duration": 2224,
    "start_time": "2023-11-04T20:40:46.107Z"
   },
   {
    "duration": 0,
    "start_time": "2023-11-04T20:40:48.333Z"
   },
   {
    "duration": 0,
    "start_time": "2023-11-04T20:40:48.334Z"
   },
   {
    "duration": 0,
    "start_time": "2023-11-04T20:40:48.343Z"
   },
   {
    "duration": 0,
    "start_time": "2023-11-04T20:40:48.344Z"
   },
   {
    "duration": 4076,
    "start_time": "2023-11-04T20:42:20.904Z"
   },
   {
    "duration": 4201,
    "start_time": "2023-11-04T20:42:31.412Z"
   },
   {
    "duration": 4188,
    "start_time": "2023-11-04T20:42:42.837Z"
   },
   {
    "duration": 2255,
    "start_time": "2023-11-04T20:42:56.534Z"
   },
   {
    "duration": 2232,
    "start_time": "2023-11-04T20:42:58.793Z"
   },
   {
    "duration": 5,
    "start_time": "2023-11-04T20:43:01.028Z"
   },
   {
    "duration": 859,
    "start_time": "2023-11-04T20:43:01.034Z"
   },
   {
    "duration": 24,
    "start_time": "2023-11-04T20:43:01.895Z"
   },
   {
    "duration": 273,
    "start_time": "2023-11-04T20:43:01.921Z"
   },
   {
    "duration": 15,
    "start_time": "2023-11-04T20:43:02.196Z"
   },
   {
    "duration": 280,
    "start_time": "2023-11-04T20:43:02.213Z"
   },
   {
    "duration": 554,
    "start_time": "2023-11-04T20:43:02.495Z"
   },
   {
    "duration": 68,
    "start_time": "2023-11-04T20:43:03.051Z"
   },
   {
    "duration": 71,
    "start_time": "2023-11-04T20:43:03.120Z"
   },
   {
    "duration": 27,
    "start_time": "2023-11-04T20:43:03.192Z"
   },
   {
    "duration": 4181,
    "start_time": "2023-11-04T20:43:03.220Z"
   },
   {
    "duration": 27041,
    "start_time": "2023-11-04T20:43:07.404Z"
   },
   {
    "duration": 252,
    "start_time": "2023-11-04T20:43:34.447Z"
   },
   {
    "duration": 104,
    "start_time": "2023-11-04T20:43:34.701Z"
   },
   {
    "duration": 10,
    "start_time": "2023-11-04T20:43:34.807Z"
   },
   {
    "duration": 2584,
    "start_time": "2023-11-04T20:45:09.253Z"
   },
   {
    "duration": 2466,
    "start_time": "2023-11-04T20:45:11.839Z"
   },
   {
    "duration": 6,
    "start_time": "2023-11-04T20:45:14.307Z"
   },
   {
    "duration": 1066,
    "start_time": "2023-11-04T20:45:14.315Z"
   },
   {
    "duration": 22,
    "start_time": "2023-11-04T20:45:15.383Z"
   },
   {
    "duration": 318,
    "start_time": "2023-11-04T20:45:15.406Z"
   },
   {
    "duration": 34,
    "start_time": "2023-11-04T20:45:15.726Z"
   },
   {
    "duration": 301,
    "start_time": "2023-11-04T20:45:15.762Z"
   },
   {
    "duration": 667,
    "start_time": "2023-11-04T20:45:16.065Z"
   },
   {
    "duration": 137,
    "start_time": "2023-11-04T20:45:16.735Z"
   },
   {
    "duration": 54,
    "start_time": "2023-11-04T20:45:16.874Z"
   },
   {
    "duration": 37,
    "start_time": "2023-11-04T20:45:16.944Z"
   },
   {
    "duration": 1607,
    "start_time": "2023-11-04T20:45:16.984Z"
   },
   {
    "duration": 1,
    "start_time": "2023-11-04T20:45:18.592Z"
   },
   {
    "duration": 0,
    "start_time": "2023-11-04T20:45:18.594Z"
   },
   {
    "duration": 0,
    "start_time": "2023-11-04T20:45:18.596Z"
   },
   {
    "duration": 0,
    "start_time": "2023-11-04T20:45:18.597Z"
   },
   {
    "duration": 4076,
    "start_time": "2023-11-04T20:45:38.531Z"
   },
   {
    "duration": 207,
    "start_time": "2023-11-04T20:45:42.609Z"
   },
   {
    "duration": 4045,
    "start_time": "2023-11-04T20:56:24.554Z"
   },
   {
    "duration": 1477,
    "start_time": "2023-11-04T20:56:56.441Z"
   },
   {
    "duration": 2300,
    "start_time": "2023-11-04T20:57:42.418Z"
   },
   {
    "duration": 31323,
    "start_time": "2023-11-04T20:57:58.926Z"
   },
   {
    "duration": 229,
    "start_time": "2023-11-04T20:58:30.252Z"
   },
   {
    "duration": 1470,
    "start_time": "2023-11-04T21:06:35.405Z"
   },
   {
    "duration": 1412,
    "start_time": "2023-11-04T21:06:55.673Z"
   },
   {
    "duration": 2347,
    "start_time": "2023-11-04T21:07:11.448Z"
   },
   {
    "duration": 1466,
    "start_time": "2023-11-04T21:07:20.477Z"
   },
   {
    "duration": 2211,
    "start_time": "2023-11-04T21:07:34.714Z"
   },
   {
    "duration": 1733,
    "start_time": "2023-11-04T21:08:22.766Z"
   },
   {
    "duration": 1524,
    "start_time": "2023-11-04T21:08:26.778Z"
   },
   {
    "duration": 1502,
    "start_time": "2023-11-04T21:08:36.062Z"
   },
   {
    "duration": 1443,
    "start_time": "2023-11-04T21:08:49.230Z"
   },
   {
    "duration": 1521,
    "start_time": "2023-11-04T21:08:57.663Z"
   },
   {
    "duration": 2297,
    "start_time": "2023-11-04T21:09:44.895Z"
   },
   {
    "duration": 2419,
    "start_time": "2023-11-04T21:10:04.443Z"
   },
   {
    "duration": 2268,
    "start_time": "2023-11-04T21:10:06.865Z"
   },
   {
    "duration": 6,
    "start_time": "2023-11-04T21:10:09.135Z"
   },
   {
    "duration": 811,
    "start_time": "2023-11-04T21:10:09.143Z"
   },
   {
    "duration": 24,
    "start_time": "2023-11-04T21:10:09.956Z"
   },
   {
    "duration": 243,
    "start_time": "2023-11-04T21:10:09.981Z"
   },
   {
    "duration": 24,
    "start_time": "2023-11-04T21:10:10.226Z"
   },
   {
    "duration": 242,
    "start_time": "2023-11-04T21:10:10.252Z"
   },
   {
    "duration": 578,
    "start_time": "2023-11-04T21:10:10.496Z"
   },
   {
    "duration": 78,
    "start_time": "2023-11-04T21:10:11.078Z"
   },
   {
    "duration": 49,
    "start_time": "2023-11-04T21:10:11.158Z"
   },
   {
    "duration": 36,
    "start_time": "2023-11-04T21:10:11.209Z"
   },
   {
    "duration": 2356,
    "start_time": "2023-11-04T21:10:11.247Z"
   },
   {
    "duration": 27842,
    "start_time": "2023-11-04T21:10:13.605Z"
   },
   {
    "duration": 131690,
    "start_time": "2023-11-04T21:10:41.449Z"
   },
   {
    "duration": 475502,
    "start_time": "2023-11-04T21:12:53.143Z"
   },
   {
    "duration": 19,
    "start_time": "2023-11-04T21:20:48.647Z"
   },
   {
    "duration": 6,
    "start_time": "2023-11-04T21:21:39.369Z"
   },
   {
    "duration": 6,
    "start_time": "2023-11-04T21:22:56.529Z"
   },
   {
    "duration": 7,
    "start_time": "2023-11-04T21:23:02.497Z"
   },
   {
    "duration": 6,
    "start_time": "2023-11-04T21:23:20.030Z"
   },
   {
    "duration": 2281,
    "start_time": "2023-11-04T21:25:09.934Z"
   },
   {
    "duration": 2193,
    "start_time": "2023-11-04T21:25:12.218Z"
   },
   {
    "duration": 1375,
    "start_time": "2023-11-04T21:25:14.414Z"
   },
   {
    "duration": 899,
    "start_time": "2023-11-04T21:25:15.791Z"
   },
   {
    "duration": 29,
    "start_time": "2023-11-04T21:25:16.691Z"
   },
   {
    "duration": 289,
    "start_time": "2023-11-04T21:25:16.722Z"
   },
   {
    "duration": 15,
    "start_time": "2023-11-04T21:25:17.013Z"
   },
   {
    "duration": 292,
    "start_time": "2023-11-04T21:25:17.043Z"
   },
   {
    "duration": 664,
    "start_time": "2023-11-04T21:25:17.337Z"
   },
   {
    "duration": 67,
    "start_time": "2023-11-04T21:25:18.004Z"
   },
   {
    "duration": 75,
    "start_time": "2023-11-04T21:25:18.073Z"
   },
   {
    "duration": 28,
    "start_time": "2023-11-04T21:25:18.150Z"
   },
   {
    "duration": 2428,
    "start_time": "2023-11-04T21:25:18.180Z"
   },
   {
    "duration": 34135,
    "start_time": "2023-11-04T21:25:20.610Z"
   },
   {
    "duration": 8,
    "start_time": "2023-11-04T21:25:54.747Z"
   },
   {
    "duration": 135161,
    "start_time": "2023-11-04T21:25:54.757Z"
   },
   {
    "duration": 6,
    "start_time": "2023-11-04T21:28:09.920Z"
   },
   {
    "duration": 477237,
    "start_time": "2023-11-04T21:28:09.928Z"
   },
   {
    "duration": 80,
    "start_time": "2023-11-04T21:36:07.168Z"
   },
   {
    "duration": 168,
    "start_time": "2023-11-04T21:36:07.250Z"
   },
   {
    "duration": 3808,
    "start_time": "2023-11-05T05:30:00.938Z"
   },
   {
    "duration": 7403,
    "start_time": "2023-11-05T05:30:04.748Z"
   },
   {
    "duration": 1427,
    "start_time": "2023-11-05T05:30:12.153Z"
   },
   {
    "duration": 1187,
    "start_time": "2023-11-05T05:30:13.582Z"
   },
   {
    "duration": 25,
    "start_time": "2023-11-05T05:30:14.772Z"
   },
   {
    "duration": 238,
    "start_time": "2023-11-05T05:30:14.799Z"
   },
   {
    "duration": 14,
    "start_time": "2023-11-05T05:30:15.039Z"
   },
   {
    "duration": 291,
    "start_time": "2023-11-05T05:30:15.054Z"
   },
   {
    "duration": 637,
    "start_time": "2023-11-05T05:30:15.346Z"
   },
   {
    "duration": 72,
    "start_time": "2023-11-05T05:30:15.985Z"
   },
   {
    "duration": 68,
    "start_time": "2023-11-05T05:30:16.058Z"
   },
   {
    "duration": 26,
    "start_time": "2023-11-05T05:30:16.128Z"
   },
   {
    "duration": 2356,
    "start_time": "2023-11-05T05:30:16.156Z"
   },
   {
    "duration": 18,
    "start_time": "2023-11-05T05:30:26.414Z"
   },
   {
    "duration": 4,
    "start_time": "2023-11-05T05:30:52.082Z"
   },
   {
    "duration": 4,
    "start_time": "2023-11-05T05:30:57.520Z"
   },
   {
    "duration": 4,
    "start_time": "2023-11-05T05:31:01.103Z"
   },
   {
    "duration": 4,
    "start_time": "2023-11-05T05:31:08.855Z"
   },
   {
    "duration": 6,
    "start_time": "2023-11-05T05:31:11.008Z"
   },
   {
    "duration": 4,
    "start_time": "2023-11-05T05:31:12.382Z"
   },
   {
    "duration": 13,
    "start_time": "2023-11-05T05:31:20.094Z"
   },
   {
    "duration": 3,
    "start_time": "2023-11-05T05:31:29.562Z"
   },
   {
    "duration": 3151,
    "start_time": "2023-11-05T05:32:18.204Z"
   },
   {
    "duration": 87,
    "start_time": "2023-11-05T05:32:43.047Z"
   },
   {
    "duration": 3031,
    "start_time": "2023-11-05T05:32:47.307Z"
   },
   {
    "duration": 4,
    "start_time": "2023-11-05T05:32:50.340Z"
   },
   {
    "duration": 3120,
    "start_time": "2023-11-05T05:33:01.112Z"
   },
   {
    "duration": 4230,
    "start_time": "2023-11-05T05:33:15.370Z"
   },
   {
    "duration": 2841,
    "start_time": "2023-11-05T05:33:32.095Z"
   },
   {
    "duration": 2213,
    "start_time": "2023-11-05T05:33:34.938Z"
   },
   {
    "duration": 1897,
    "start_time": "2023-11-05T05:33:37.153Z"
   },
   {
    "duration": 1177,
    "start_time": "2023-11-05T05:33:39.052Z"
   },
   {
    "duration": 24,
    "start_time": "2023-11-05T05:33:40.231Z"
   },
   {
    "duration": 246,
    "start_time": "2023-11-05T05:33:40.256Z"
   },
   {
    "duration": 14,
    "start_time": "2023-11-05T05:33:40.504Z"
   },
   {
    "duration": 302,
    "start_time": "2023-11-05T05:33:40.519Z"
   },
   {
    "duration": 598,
    "start_time": "2023-11-05T05:33:40.822Z"
   },
   {
    "duration": 82,
    "start_time": "2023-11-05T05:33:41.422Z"
   },
   {
    "duration": 55,
    "start_time": "2023-11-05T05:33:41.506Z"
   },
   {
    "duration": 38,
    "start_time": "2023-11-05T05:33:41.563Z"
   },
   {
    "duration": 2328,
    "start_time": "2023-11-05T05:33:41.603Z"
   },
   {
    "duration": 2772,
    "start_time": "2023-11-05T05:38:36.228Z"
   },
   {
    "duration": 2182,
    "start_time": "2023-11-05T05:38:39.002Z"
   },
   {
    "duration": 1376,
    "start_time": "2023-11-05T05:38:41.186Z"
   },
   {
    "duration": 881,
    "start_time": "2023-11-05T05:38:42.564Z"
   },
   {
    "duration": 24,
    "start_time": "2023-11-05T05:38:43.448Z"
   },
   {
    "duration": 245,
    "start_time": "2023-11-05T05:38:43.474Z"
   },
   {
    "duration": 14,
    "start_time": "2023-11-05T05:38:43.720Z"
   },
   {
    "duration": 257,
    "start_time": "2023-11-05T05:38:43.735Z"
   },
   {
    "duration": 711,
    "start_time": "2023-11-05T05:38:43.994Z"
   },
   {
    "duration": 125,
    "start_time": "2023-11-05T05:38:44.707Z"
   },
   {
    "duration": 55,
    "start_time": "2023-11-05T05:38:44.833Z"
   },
   {
    "duration": 47,
    "start_time": "2023-11-05T05:38:44.890Z"
   },
   {
    "duration": 2472,
    "start_time": "2023-11-05T05:38:44.938Z"
   },
   {
    "duration": 5,
    "start_time": "2023-11-05T05:39:07.785Z"
   },
   {
    "duration": 10586,
    "start_time": "2023-11-05T05:39:31.788Z"
   },
   {
    "duration": 2179,
    "start_time": "2023-11-05T05:39:51.485Z"
   },
   {
    "duration": 10351,
    "start_time": "2023-11-05T05:39:54.267Z"
   },
   {
    "duration": 3051,
    "start_time": "2023-11-05T05:40:15.780Z"
   },
   {
    "duration": 9695,
    "start_time": "2023-11-05T05:40:18.885Z"
   },
   {
    "duration": 2798,
    "start_time": "2023-11-05T05:40:35.251Z"
   },
   {
    "duration": 0,
    "start_time": "2023-11-05T05:40:38.051Z"
   },
   {
    "duration": 2287,
    "start_time": "2023-11-05T05:40:56.374Z"
   },
   {
    "duration": 72,
    "start_time": "2023-11-05T05:41:35.596Z"
   },
   {
    "duration": 85,
    "start_time": "2023-11-05T05:41:40.992Z"
   },
   {
    "duration": 137,
    "start_time": "2023-11-05T05:41:44.375Z"
   },
   {
    "duration": 53,
    "start_time": "2023-11-05T05:42:27.934Z"
   },
   {
    "duration": 2810,
    "start_time": "2023-11-05T05:42:30.691Z"
   },
   {
    "duration": 2252,
    "start_time": "2023-11-05T05:42:33.503Z"
   },
   {
    "duration": 2055,
    "start_time": "2023-11-05T05:42:35.757Z"
   },
   {
    "duration": 1236,
    "start_time": "2023-11-05T05:42:37.814Z"
   },
   {
    "duration": 26,
    "start_time": "2023-11-05T05:42:39.052Z"
   },
   {
    "duration": 246,
    "start_time": "2023-11-05T05:42:39.080Z"
   },
   {
    "duration": 15,
    "start_time": "2023-11-05T05:42:39.328Z"
   },
   {
    "duration": 297,
    "start_time": "2023-11-05T05:42:39.346Z"
   },
   {
    "duration": 651,
    "start_time": "2023-11-05T05:42:39.645Z"
   },
   {
    "duration": 72,
    "start_time": "2023-11-05T05:42:40.300Z"
   },
   {
    "duration": 67,
    "start_time": "2023-11-05T05:42:40.374Z"
   },
   {
    "duration": 27,
    "start_time": "2023-11-05T05:42:40.443Z"
   },
   {
    "duration": 138,
    "start_time": "2023-11-05T05:42:40.472Z"
   },
   {
    "duration": 2549,
    "start_time": "2023-11-05T05:43:35.898Z"
   },
   {
    "duration": 2193,
    "start_time": "2023-11-05T05:43:38.449Z"
   },
   {
    "duration": 1861,
    "start_time": "2023-11-05T05:43:40.645Z"
   },
   {
    "duration": 1160,
    "start_time": "2023-11-05T05:43:42.508Z"
   },
   {
    "duration": 25,
    "start_time": "2023-11-05T05:43:43.670Z"
   },
   {
    "duration": 237,
    "start_time": "2023-11-05T05:43:43.700Z"
   },
   {
    "duration": 13,
    "start_time": "2023-11-05T05:43:43.939Z"
   },
   {
    "duration": 269,
    "start_time": "2023-11-05T05:43:43.954Z"
   },
   {
    "duration": 686,
    "start_time": "2023-11-05T05:43:44.225Z"
   },
   {
    "duration": 68,
    "start_time": "2023-11-05T05:43:44.913Z"
   },
   {
    "duration": 64,
    "start_time": "2023-11-05T05:43:44.983Z"
   },
   {
    "duration": 26,
    "start_time": "2023-11-05T05:43:45.049Z"
   },
   {
    "duration": 57,
    "start_time": "2023-11-05T06:30:28.486Z"
   },
   {
    "duration": 9270,
    "start_time": "2023-11-05T06:30:35.291Z"
   },
   {
    "duration": 2327,
    "start_time": "2023-11-05T06:30:44.564Z"
   },
   {
    "duration": 1957,
    "start_time": "2023-11-05T06:30:46.893Z"
   },
   {
    "duration": 1297,
    "start_time": "2023-11-05T06:30:48.852Z"
   },
   {
    "duration": 27,
    "start_time": "2023-11-05T06:30:50.152Z"
   },
   {
    "duration": 302,
    "start_time": "2023-11-05T06:30:50.181Z"
   },
   {
    "duration": 25,
    "start_time": "2023-11-05T06:30:50.486Z"
   },
   {
    "duration": 306,
    "start_time": "2023-11-05T06:30:50.513Z"
   },
   {
    "duration": 642,
    "start_time": "2023-11-05T06:30:50.821Z"
   },
   {
    "duration": 113,
    "start_time": "2023-11-05T06:30:51.465Z"
   },
   {
    "duration": 59,
    "start_time": "2023-11-05T06:30:51.580Z"
   },
   {
    "duration": 27,
    "start_time": "2023-11-05T06:30:51.641Z"
   },
   {
    "duration": 2935,
    "start_time": "2023-11-05T06:30:54.260Z"
   },
   {
    "duration": 2974,
    "start_time": "2023-11-05T06:31:18.536Z"
   },
   {
    "duration": 2750,
    "start_time": "2023-11-05T06:31:21.513Z"
   },
   {
    "duration": 2285,
    "start_time": "2023-11-05T06:31:24.266Z"
   },
   {
    "duration": 1279,
    "start_time": "2023-11-05T06:31:26.554Z"
   },
   {
    "duration": 26,
    "start_time": "2023-11-05T06:31:27.835Z"
   },
   {
    "duration": 289,
    "start_time": "2023-11-05T06:31:27.863Z"
   },
   {
    "duration": 21,
    "start_time": "2023-11-05T06:31:28.154Z"
   },
   {
    "duration": 326,
    "start_time": "2023-11-05T06:31:28.176Z"
   },
   {
    "duration": 738,
    "start_time": "2023-11-05T06:31:28.505Z"
   },
   {
    "duration": 95,
    "start_time": "2023-11-05T06:31:29.245Z"
   },
   {
    "duration": 82,
    "start_time": "2023-11-05T06:31:29.342Z"
   },
   {
    "duration": 31,
    "start_time": "2023-11-05T06:31:29.427Z"
   },
   {
    "duration": 140,
    "start_time": "2023-11-05T06:43:04.643Z"
   },
   {
    "duration": 2754,
    "start_time": "2023-11-05T06:43:08.177Z"
   },
   {
    "duration": 2133,
    "start_time": "2023-11-05T06:43:10.934Z"
   },
   {
    "duration": 4,
    "start_time": "2023-11-05T06:43:13.070Z"
   },
   {
    "duration": 810,
    "start_time": "2023-11-05T06:43:13.076Z"
   },
   {
    "duration": 27,
    "start_time": "2023-11-05T06:43:13.888Z"
   },
   {
    "duration": 238,
    "start_time": "2023-11-05T06:43:13.917Z"
   },
   {
    "duration": 15,
    "start_time": "2023-11-05T06:43:14.157Z"
   },
   {
    "duration": 233,
    "start_time": "2023-11-05T06:43:14.174Z"
   },
   {
    "duration": 619,
    "start_time": "2023-11-05T06:43:14.409Z"
   },
   {
    "duration": 74,
    "start_time": "2023-11-05T06:43:15.030Z"
   },
   {
    "duration": 57,
    "start_time": "2023-11-05T06:43:15.106Z"
   },
   {
    "duration": 41,
    "start_time": "2023-11-05T06:43:15.165Z"
   },
   {
    "duration": 187,
    "start_time": "2023-11-05T06:43:15.208Z"
   },
   {
    "duration": 3,
    "start_time": "2023-11-05T06:43:15.401Z"
   },
   {
    "duration": 16,
    "start_time": "2023-11-05T06:46:18.313Z"
   },
   {
    "duration": 89,
    "start_time": "2023-11-05T06:47:35.183Z"
   },
   {
    "duration": 10,
    "start_time": "2023-11-05T06:47:37.900Z"
   },
   {
    "duration": 2354,
    "start_time": "2023-11-05T06:47:39.575Z"
   },
   {
    "duration": 4,
    "start_time": "2023-11-05T06:47:43.288Z"
   },
   {
    "duration": 5,
    "start_time": "2023-11-05T06:48:07.743Z"
   },
   {
    "duration": 7,
    "start_time": "2023-11-05T06:48:18.666Z"
   },
   {
    "duration": 4,
    "start_time": "2023-11-05T06:48:38.547Z"
   },
   {
    "duration": 13,
    "start_time": "2023-11-05T06:49:49.190Z"
   },
   {
    "duration": 85,
    "start_time": "2023-11-05T06:50:14.468Z"
   },
   {
    "duration": 66,
    "start_time": "2023-11-05T06:50:17.475Z"
   },
   {
    "duration": 11,
    "start_time": "2023-11-05T06:50:43.006Z"
   },
   {
    "duration": 11,
    "start_time": "2023-11-05T06:50:50.475Z"
   },
   {
    "duration": 63,
    "start_time": "2023-11-05T06:50:53.448Z"
   },
   {
    "duration": 66,
    "start_time": "2023-11-05T06:51:04.827Z"
   },
   {
    "duration": 31,
    "start_time": "2023-11-05T06:51:08.231Z"
   },
   {
    "duration": 63,
    "start_time": "2023-11-05T06:51:16.269Z"
   },
   {
    "duration": 47,
    "start_time": "2023-11-05T06:51:24.434Z"
   },
   {
    "duration": 98,
    "start_time": "2023-11-05T06:51:32.310Z"
   },
   {
    "duration": 55,
    "start_time": "2023-11-05T06:51:46.347Z"
   },
   {
    "duration": 42,
    "start_time": "2023-11-05T06:51:54.246Z"
   },
   {
    "duration": 139,
    "start_time": "2023-11-05T06:52:08.794Z"
   },
   {
    "duration": 79,
    "start_time": "2023-11-05T06:52:14.639Z"
   },
   {
    "duration": 171,
    "start_time": "2023-11-05T06:52:20.694Z"
   },
   {
    "duration": 186,
    "start_time": "2023-11-05T06:52:35.028Z"
   },
   {
    "duration": 184,
    "start_time": "2023-11-05T06:53:25.736Z"
   },
   {
    "duration": 19,
    "start_time": "2023-11-05T06:53:37.471Z"
   },
   {
    "duration": 17,
    "start_time": "2023-11-05T06:53:39.715Z"
   },
   {
    "duration": 65,
    "start_time": "2023-11-05T06:53:58.624Z"
   },
   {
    "duration": 16,
    "start_time": "2023-11-05T06:54:06.319Z"
   },
   {
    "duration": 25,
    "start_time": "2023-11-05T06:54:11.302Z"
   },
   {
    "duration": 24,
    "start_time": "2023-11-05T06:54:22.925Z"
   },
   {
    "duration": 26,
    "start_time": "2023-11-05T06:54:24.979Z"
   },
   {
    "duration": 13,
    "start_time": "2023-11-05T06:54:40.468Z"
   },
   {
    "duration": 44,
    "start_time": "2023-11-05T18:47:36.505Z"
   },
   {
    "duration": 3053,
    "start_time": "2023-11-05T18:48:45.455Z"
   },
   {
    "duration": 7230,
    "start_time": "2023-11-05T18:48:48.510Z"
   },
   {
    "duration": 1466,
    "start_time": "2023-11-05T18:48:55.742Z"
   },
   {
    "duration": 2816,
    "start_time": "2023-11-05T18:48:57.210Z"
   },
   {
    "duration": 31,
    "start_time": "2023-11-05T18:49:00.029Z"
   },
   {
    "duration": 320,
    "start_time": "2023-11-05T18:49:00.062Z"
   },
   {
    "duration": 14,
    "start_time": "2023-11-05T18:49:00.384Z"
   },
   {
    "duration": 303,
    "start_time": "2023-11-05T18:49:00.399Z"
   },
   {
    "duration": 613,
    "start_time": "2023-11-05T18:49:00.703Z"
   },
   {
    "duration": 77,
    "start_time": "2023-11-05T18:49:01.318Z"
   },
   {
    "duration": 59,
    "start_time": "2023-11-05T18:49:01.397Z"
   },
   {
    "duration": 28,
    "start_time": "2023-11-05T18:49:01.458Z"
   },
   {
    "duration": 2293,
    "start_time": "2023-11-05T18:49:01.488Z"
   },
   {
    "duration": 32971,
    "start_time": "2023-11-05T18:49:03.783Z"
   },
   {
    "duration": 98,
    "start_time": "2023-11-05T18:49:36.757Z"
   },
   {
    "duration": 34,
    "start_time": "2023-11-05T18:49:36.857Z"
   },
   {
    "duration": 136553,
    "start_time": "2023-11-05T18:49:36.894Z"
   },
   {
    "duration": 5,
    "start_time": "2023-11-05T18:51:53.449Z"
   },
   {
    "duration": 11590,
    "start_time": "2023-11-05T18:51:53.456Z"
   },
   {
    "duration": 7,
    "start_time": "2023-11-05T18:52:05.048Z"
   },
   {
    "duration": 107,
    "start_time": "2023-11-05T18:52:05.057Z"
   },
   {
    "duration": 13875,
    "start_time": "2023-11-05T18:52:10.531Z"
   },
   {
    "duration": 2300,
    "start_time": "2023-11-05T18:53:27.655Z"
   },
   {
    "duration": 2312,
    "start_time": "2023-11-05T18:53:29.957Z"
   },
   {
    "duration": 6,
    "start_time": "2023-11-05T18:53:32.271Z"
   },
   {
    "duration": 849,
    "start_time": "2023-11-05T18:53:32.279Z"
   },
   {
    "duration": 27,
    "start_time": "2023-11-05T18:53:33.130Z"
   },
   {
    "duration": 231,
    "start_time": "2023-11-05T18:53:33.159Z"
   },
   {
    "duration": 16,
    "start_time": "2023-11-05T18:53:33.391Z"
   },
   {
    "duration": 249,
    "start_time": "2023-11-05T18:53:33.409Z"
   },
   {
    "duration": 628,
    "start_time": "2023-11-05T18:53:33.659Z"
   },
   {
    "duration": 79,
    "start_time": "2023-11-05T18:53:34.289Z"
   },
   {
    "duration": 58,
    "start_time": "2023-11-05T18:53:34.370Z"
   },
   {
    "duration": 33,
    "start_time": "2023-11-05T18:53:34.429Z"
   },
   {
    "duration": 2170,
    "start_time": "2023-11-05T18:53:34.464Z"
   },
   {
    "duration": 30309,
    "start_time": "2023-11-05T18:53:36.643Z"
   },
   {
    "duration": 102,
    "start_time": "2023-11-05T18:54:06.954Z"
   },
   {
    "duration": 10,
    "start_time": "2023-11-05T18:54:07.059Z"
   },
   {
    "duration": 122507,
    "start_time": "2023-11-05T18:54:07.070Z"
   },
   {
    "duration": 13920,
    "start_time": "2023-11-05T18:56:09.579Z"
   },
   {
    "duration": 5,
    "start_time": "2023-11-05T18:56:23.501Z"
   },
   {
    "duration": 9347,
    "start_time": "2023-11-05T18:56:23.507Z"
   },
   {
    "duration": 2092,
    "start_time": "2023-11-05T18:56:32.855Z"
   },
   {
    "duration": 6,
    "start_time": "2023-11-05T18:56:34.948Z"
   },
   {
    "duration": 20,
    "start_time": "2023-11-05T18:56:34.955Z"
   },
   {
    "duration": 4,
    "start_time": "2023-11-05T19:04:51.887Z"
   },
   {
    "duration": 1932,
    "start_time": "2023-11-05T19:04:55.643Z"
   },
   {
    "duration": 440,
    "start_time": "2023-11-05T19:11:20.324Z"
   },
   {
    "duration": 568,
    "start_time": "2023-11-05T19:13:56.380Z"
   },
   {
    "duration": 530,
    "start_time": "2023-11-05T19:14:09.827Z"
   },
   {
    "duration": 476,
    "start_time": "2023-11-05T19:17:31.592Z"
   },
   {
    "duration": 3403,
    "start_time": "2023-11-06T19:40:28.297Z"
   },
   {
    "duration": 8072,
    "start_time": "2023-11-06T19:40:31.702Z"
   },
   {
    "duration": 1450,
    "start_time": "2023-11-06T19:40:39.776Z"
   },
   {
    "duration": 1138,
    "start_time": "2023-11-06T19:40:41.228Z"
   },
   {
    "duration": 25,
    "start_time": "2023-11-06T19:40:42.367Z"
   },
   {
    "duration": 239,
    "start_time": "2023-11-06T19:40:42.394Z"
   },
   {
    "duration": 14,
    "start_time": "2023-11-06T19:40:42.635Z"
   },
   {
    "duration": 307,
    "start_time": "2023-11-06T19:40:42.651Z"
   },
   {
    "duration": 665,
    "start_time": "2023-11-06T19:40:42.960Z"
   },
   {
    "duration": 67,
    "start_time": "2023-11-06T19:40:43.628Z"
   },
   {
    "duration": 82,
    "start_time": "2023-11-06T19:40:43.697Z"
   },
   {
    "duration": 28,
    "start_time": "2023-11-06T19:40:43.781Z"
   },
   {
    "duration": 2105,
    "start_time": "2023-11-06T19:40:43.811Z"
   },
   {
    "duration": 29711,
    "start_time": "2023-11-06T19:40:45.919Z"
   },
   {
    "duration": 101,
    "start_time": "2023-11-06T19:41:15.632Z"
   },
   {
    "duration": 92,
    "start_time": "2023-11-06T19:41:15.737Z"
   },
   {
    "duration": 98428,
    "start_time": "2023-11-06T19:41:15.831Z"
   },
   {
    "duration": 11271,
    "start_time": "2023-11-06T19:42:54.260Z"
   },
   {
    "duration": 5,
    "start_time": "2023-11-06T19:43:05.533Z"
   },
   {
    "duration": 5094,
    "start_time": "2023-11-06T19:43:05.540Z"
   },
   {
    "duration": 1732,
    "start_time": "2023-11-06T19:43:10.636Z"
   },
   {
    "duration": 5,
    "start_time": "2023-11-06T19:43:12.423Z"
   },
   {
    "duration": 507,
    "start_time": "2023-11-06T19:43:12.429Z"
   },
   {
    "duration": 119,
    "start_time": "2023-11-06T19:49:27.715Z"
   },
   {
    "duration": 3,
    "start_time": "2023-11-06T19:56:58.242Z"
   },
   {
    "duration": 606,
    "start_time": "2023-11-06T19:57:01.773Z"
   },
   {
    "duration": 712,
    "start_time": "2023-11-06T20:04:15.570Z"
   },
   {
    "duration": 2502,
    "start_time": "2023-11-06T20:07:43.578Z"
   },
   {
    "duration": 2106,
    "start_time": "2023-11-06T20:09:28.645Z"
   },
   {
    "duration": 2050,
    "start_time": "2023-11-06T20:09:37.087Z"
   },
   {
    "duration": 165,
    "start_time": "2023-11-06T20:10:55.771Z"
   },
   {
    "duration": 3254,
    "start_time": "2023-11-06T21:10:10.860Z"
   },
   {
    "duration": 6850,
    "start_time": "2023-11-06T21:10:14.116Z"
   },
   {
    "duration": 1333,
    "start_time": "2023-11-06T21:10:20.968Z"
   },
   {
    "duration": 1092,
    "start_time": "2023-11-06T21:10:22.303Z"
   },
   {
    "duration": 24,
    "start_time": "2023-11-06T21:10:23.397Z"
   },
   {
    "duration": 245,
    "start_time": "2023-11-06T21:10:23.422Z"
   },
   {
    "duration": 16,
    "start_time": "2023-11-06T21:10:23.668Z"
   },
   {
    "duration": 279,
    "start_time": "2023-11-06T21:10:23.685Z"
   },
   {
    "duration": 648,
    "start_time": "2023-11-06T21:10:23.966Z"
   },
   {
    "duration": 69,
    "start_time": "2023-11-06T21:10:24.616Z"
   },
   {
    "duration": 67,
    "start_time": "2023-11-06T21:10:24.687Z"
   },
   {
    "duration": 27,
    "start_time": "2023-11-06T21:10:24.756Z"
   },
   {
    "duration": 817,
    "start_time": "2023-11-06T21:10:51.134Z"
   },
   {
    "duration": 2256,
    "start_time": "2023-11-06T21:10:56.331Z"
   },
   {
    "duration": 40598,
    "start_time": "2023-11-06T21:10:58.810Z"
   },
   {
    "duration": 2248,
    "start_time": "2023-11-06T21:11:39.412Z"
   },
   {
    "duration": 24,
    "start_time": "2023-11-06T21:12:02.898Z"
   },
   {
    "duration": 32,
    "start_time": "2023-11-06T21:12:07.884Z"
   },
   {
    "duration": 2135,
    "start_time": "2023-11-06T21:12:10.588Z"
   },
   {
    "duration": 2040,
    "start_time": "2023-11-06T21:13:21.474Z"
   },
   {
    "duration": 29921,
    "start_time": "2023-11-06T21:15:46.585Z"
   },
   {
    "duration": 100,
    "start_time": "2023-11-06T21:16:16.509Z"
   },
   {
    "duration": 91,
    "start_time": "2023-11-06T21:16:16.611Z"
   },
   {
    "duration": 3172,
    "start_time": "2023-11-07T14:53:40.967Z"
   },
   {
    "duration": 7507,
    "start_time": "2023-11-07T14:53:44.142Z"
   },
   {
    "duration": 1572,
    "start_time": "2023-11-07T14:53:51.651Z"
   },
   {
    "duration": 1266,
    "start_time": "2023-11-07T14:53:53.225Z"
   },
   {
    "duration": 38,
    "start_time": "2023-11-07T14:53:54.494Z"
   },
   {
    "duration": 275,
    "start_time": "2023-11-07T14:53:54.534Z"
   },
   {
    "duration": 14,
    "start_time": "2023-11-07T14:53:54.810Z"
   },
   {
    "duration": 287,
    "start_time": "2023-11-07T14:53:54.843Z"
   },
   {
    "duration": 683,
    "start_time": "2023-11-07T14:53:55.132Z"
   },
   {
    "duration": 265,
    "start_time": "2023-11-07T14:53:55.818Z"
   },
   {
    "duration": 806,
    "start_time": "2023-11-07T14:53:56.084Z"
   },
   {
    "duration": 225,
    "start_time": "2023-11-07T14:53:56.892Z"
   },
   {
    "duration": 2278,
    "start_time": "2023-11-07T14:53:57.121Z"
   },
   {
    "duration": 30344,
    "start_time": "2023-11-07T14:53:59.400Z"
   },
   {
    "duration": 98,
    "start_time": "2023-11-07T14:54:29.747Z"
   },
   {
    "duration": 278,
    "start_time": "2023-11-07T14:54:29.847Z"
   },
   {
    "duration": 5,
    "start_time": "2023-11-07T14:54:30.127Z"
   },
   {
    "duration": 99778,
    "start_time": "2023-11-07T14:54:30.134Z"
   },
   {
    "duration": 11012,
    "start_time": "2023-11-07T14:56:09.914Z"
   },
   {
    "duration": 6,
    "start_time": "2023-11-07T14:56:20.928Z"
   },
   {
    "duration": 2534,
    "start_time": "2023-11-07T15:03:39.641Z"
   },
   {
    "duration": 2624,
    "start_time": "2023-11-07T15:03:42.177Z"
   },
   {
    "duration": 1496,
    "start_time": "2023-11-07T15:03:44.806Z"
   },
   {
    "duration": 1016,
    "start_time": "2023-11-07T15:03:46.305Z"
   },
   {
    "duration": 32,
    "start_time": "2023-11-07T15:03:47.323Z"
   },
   {
    "duration": 295,
    "start_time": "2023-11-07T15:03:47.357Z"
   },
   {
    "duration": 14,
    "start_time": "2023-11-07T15:03:47.654Z"
   },
   {
    "duration": 326,
    "start_time": "2023-11-07T15:03:47.671Z"
   },
   {
    "duration": 767,
    "start_time": "2023-11-07T15:03:47.999Z"
   },
   {
    "duration": 143,
    "start_time": "2023-11-07T15:03:48.770Z"
   },
   {
    "duration": 82,
    "start_time": "2023-11-07T15:03:48.916Z"
   },
   {
    "duration": 31,
    "start_time": "2023-11-07T15:03:48.999Z"
   },
   {
    "duration": 2441,
    "start_time": "2023-11-07T15:03:49.043Z"
   },
   {
    "duration": 26365,
    "start_time": "2023-11-07T15:03:51.486Z"
   },
   {
    "duration": 105,
    "start_time": "2023-11-07T15:04:17.854Z"
   },
   {
    "duration": 6,
    "start_time": "2023-11-07T15:04:18.045Z"
   },
   {
    "duration": 34,
    "start_time": "2023-11-07T15:04:18.053Z"
   },
   {
    "duration": 112325,
    "start_time": "2023-11-07T15:04:18.089Z"
   },
   {
    "duration": 11994,
    "start_time": "2023-11-07T15:06:10.416Z"
   },
   {
    "duration": 7,
    "start_time": "2023-11-07T15:06:22.412Z"
   },
   {
    "duration": 2204,
    "start_time": "2023-11-07T15:10:54.566Z"
   },
   {
    "duration": 2147,
    "start_time": "2023-11-07T15:10:56.772Z"
   },
   {
    "duration": 1347,
    "start_time": "2023-11-07T15:10:58.920Z"
   },
   {
    "duration": 907,
    "start_time": "2023-11-07T15:11:00.269Z"
   },
   {
    "duration": 38,
    "start_time": "2023-11-07T15:11:01.178Z"
   },
   {
    "duration": 249,
    "start_time": "2023-11-07T15:11:01.218Z"
   },
   {
    "duration": 17,
    "start_time": "2023-11-07T15:11:01.469Z"
   },
   {
    "duration": 321,
    "start_time": "2023-11-07T15:11:01.487Z"
   },
   {
    "duration": 684,
    "start_time": "2023-11-07T15:11:01.810Z"
   },
   {
    "duration": 74,
    "start_time": "2023-11-07T15:11:02.496Z"
   },
   {
    "duration": 76,
    "start_time": "2023-11-07T15:11:02.572Z"
   },
   {
    "duration": 28,
    "start_time": "2023-11-07T15:11:02.649Z"
   },
   {
    "duration": 2311,
    "start_time": "2023-11-07T15:11:02.678Z"
   },
   {
    "duration": 30653,
    "start_time": "2023-11-07T15:11:04.992Z"
   },
   {
    "duration": 102,
    "start_time": "2023-11-07T15:11:35.648Z"
   },
   {
    "duration": 6,
    "start_time": "2023-11-07T15:11:35.751Z"
   },
   {
    "duration": 7,
    "start_time": "2023-11-07T15:11:35.759Z"
   },
   {
    "duration": 102348,
    "start_time": "2023-11-07T15:11:35.767Z"
   },
   {
    "duration": 11319,
    "start_time": "2023-11-07T15:13:18.118Z"
   },
   {
    "duration": 6,
    "start_time": "2023-11-07T15:13:29.444Z"
   },
   {
    "duration": 2517,
    "start_time": "2023-11-07T15:17:13.265Z"
   },
   {
    "duration": 2355,
    "start_time": "2023-11-07T15:17:15.784Z"
   },
   {
    "duration": 1467,
    "start_time": "2023-11-07T15:17:18.141Z"
   },
   {
    "duration": 970,
    "start_time": "2023-11-07T15:17:19.609Z"
   },
   {
    "duration": 25,
    "start_time": "2023-11-07T15:17:20.581Z"
   },
   {
    "duration": 276,
    "start_time": "2023-11-07T15:17:20.607Z"
   },
   {
    "duration": 14,
    "start_time": "2023-11-07T15:17:20.884Z"
   },
   {
    "duration": 358,
    "start_time": "2023-11-07T15:17:20.900Z"
   },
   {
    "duration": 720,
    "start_time": "2023-11-07T15:17:21.261Z"
   },
   {
    "duration": 91,
    "start_time": "2023-11-07T15:17:21.983Z"
   },
   {
    "duration": 68,
    "start_time": "2023-11-07T15:17:22.076Z"
   },
   {
    "duration": 32,
    "start_time": "2023-11-07T15:17:22.146Z"
   },
   {
    "duration": 2651,
    "start_time": "2023-11-07T15:17:22.180Z"
   },
   {
    "duration": 26814,
    "start_time": "2023-11-07T15:17:24.834Z"
   },
   {
    "duration": 100,
    "start_time": "2023-11-07T15:17:51.650Z"
   },
   {
    "duration": 9,
    "start_time": "2023-11-07T15:17:51.752Z"
   },
   {
    "duration": 25,
    "start_time": "2023-11-07T15:17:51.763Z"
   },
   {
    "duration": 106863,
    "start_time": "2023-11-07T15:17:51.789Z"
   },
   {
    "duration": 10915,
    "start_time": "2023-11-07T15:19:38.654Z"
   },
   {
    "duration": 412,
    "start_time": "2023-11-07T15:19:49.571Z"
   },
   {
    "duration": 11,
    "start_time": "2023-11-07T15:19:49.985Z"
   },
   {
    "duration": 0,
    "start_time": "2023-11-07T15:19:49.998Z"
   },
   {
    "duration": 0,
    "start_time": "2023-11-07T15:19:49.999Z"
   },
   {
    "duration": 0,
    "start_time": "2023-11-07T15:19:50.000Z"
   },
   {
    "duration": 0,
    "start_time": "2023-11-07T15:19:50.001Z"
   },
   {
    "duration": 2396,
    "start_time": "2023-11-07T15:21:22.951Z"
   },
   {
    "duration": 3226,
    "start_time": "2023-11-07T15:21:30.544Z"
   },
   {
    "duration": 3126,
    "start_time": "2023-11-07T15:21:49.305Z"
   },
   {
    "duration": 4,
    "start_time": "2023-11-07T15:21:52.433Z"
   },
   {
    "duration": 253387,
    "start_time": "2023-11-07T15:22:42.664Z"
   },
   {
    "duration": 1790,
    "start_time": "2023-11-07T15:26:56.053Z"
   },
   {
    "duration": 546,
    "start_time": "2023-11-07T15:26:57.846Z"
   },
   {
    "duration": 9,
    "start_time": "2023-11-07T15:26:58.394Z"
   },
   {
    "duration": 382,
    "start_time": "2023-11-07T15:29:12.896Z"
   },
   {
    "duration": 11,
    "start_time": "2023-11-07T15:29:16.981Z"
   },
   {
    "duration": 3,
    "start_time": "2023-11-07T15:29:22.891Z"
   },
   {
    "duration": 2268,
    "start_time": "2023-11-07T15:29:49.145Z"
   },
   {
    "duration": 2234,
    "start_time": "2023-11-07T15:29:51.415Z"
   },
   {
    "duration": 1420,
    "start_time": "2023-11-07T15:29:53.651Z"
   },
   {
    "duration": 948,
    "start_time": "2023-11-07T15:29:55.073Z"
   },
   {
    "duration": 31,
    "start_time": "2023-11-07T15:29:56.024Z"
   },
   {
    "duration": 294,
    "start_time": "2023-11-07T15:29:56.057Z"
   },
   {
    "duration": 17,
    "start_time": "2023-11-07T15:29:56.353Z"
   },
   {
    "duration": 350,
    "start_time": "2023-11-07T15:29:56.371Z"
   },
   {
    "duration": 769,
    "start_time": "2023-11-07T15:29:56.723Z"
   },
   {
    "duration": 99,
    "start_time": "2023-11-07T15:29:57.494Z"
   },
   {
    "duration": 80,
    "start_time": "2023-11-07T15:29:57.594Z"
   },
   {
    "duration": 30,
    "start_time": "2023-11-07T15:29:57.676Z"
   },
   {
    "duration": 2356,
    "start_time": "2023-11-07T15:29:57.710Z"
   },
   {
    "duration": 33880,
    "start_time": "2023-11-07T15:30:00.070Z"
   },
   {
    "duration": 93,
    "start_time": "2023-11-07T15:30:33.953Z"
   },
   {
    "duration": 100,
    "start_time": "2023-11-07T15:30:34.048Z"
   },
   {
    "duration": 14,
    "start_time": "2023-11-07T15:30:34.149Z"
   },
   {
    "duration": 104365,
    "start_time": "2023-11-07T15:30:34.165Z"
   },
   {
    "duration": 11628,
    "start_time": "2023-11-07T15:32:18.532Z"
   },
   {
    "duration": 3037,
    "start_time": "2023-11-07T15:32:30.163Z"
   },
   {
    "duration": 3,
    "start_time": "2023-11-07T15:32:33.201Z"
   },
   {
    "duration": 243953,
    "start_time": "2023-11-07T15:32:33.206Z"
   },
   {
    "duration": 1886,
    "start_time": "2023-11-07T15:36:37.162Z"
   },
   {
    "duration": 510,
    "start_time": "2023-11-07T15:36:39.051Z"
   },
   {
    "duration": 4,
    "start_time": "2023-11-07T15:36:39.563Z"
   },
   {
    "duration": 596,
    "start_time": "2023-11-07T15:36:39.569Z"
   },
   {
    "duration": 3681,
    "start_time": "2023-11-07T15:46:10.421Z"
   },
   {
    "duration": 3876,
    "start_time": "2023-11-07T15:47:05.913Z"
   },
   {
    "duration": 3709,
    "start_time": "2023-11-07T15:47:14.614Z"
   },
   {
    "duration": 3744,
    "start_time": "2023-11-07T15:48:05.865Z"
   }
  ],
  "kernelspec": {
   "display_name": "Python 3 (ipykernel)",
   "language": "python",
   "name": "python3"
  },
  "language_info": {
   "codemirror_mode": {
    "name": "ipython",
    "version": 3
   },
   "file_extension": ".py",
   "mimetype": "text/x-python",
   "name": "python",
   "nbconvert_exporter": "python",
   "pygments_lexer": "ipython3",
   "version": "3.9.5"
  },
  "toc": {
   "base_numbering": 1,
   "nav_menu": {},
   "number_sections": true,
   "sideBar": true,
   "skip_h1_title": true,
   "title_cell": "Table of Contents",
   "title_sidebar": "Contents",
   "toc_cell": false,
   "toc_position": {},
   "toc_section_display": true,
   "toc_window_display": false
  }
 },
 "nbformat": 4,
 "nbformat_minor": 2
}
