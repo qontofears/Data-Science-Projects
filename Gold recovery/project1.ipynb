{
 "cells": [
  {
   "cell_type": "markdown",
   "metadata": {
    "toc": true
   },
   "source": [
    "<h1>Содержание<span class=\"tocSkip\"></span></h1>\n",
    "<div class=\"toc\"><ul class=\"toc-item\"><li><span><a href=\"#Подготовка-данных\" data-toc-modified-id=\"Подготовка-данных-1\"><span class=\"toc-item-num\">1&nbsp;&nbsp;</span>Подготовка данных</a></span></li><li><span><a href=\"#Анализ-данных\" data-toc-modified-id=\"Анализ-данных-2\"><span class=\"toc-item-num\">2&nbsp;&nbsp;</span>Анализ данных</a></span></li><li><span><a href=\"#Модель\" data-toc-modified-id=\"Модель-3\"><span class=\"toc-item-num\">3&nbsp;&nbsp;</span>Модель</a></span></li><li><span><a href=\"#Чек-лист-готовности-проекта\" data-toc-modified-id=\"Чек-лист-готовности-проекта-4\"><span class=\"toc-item-num\">4&nbsp;&nbsp;</span>Чек-лист готовности проекта</a></span></li></ul></div>"
   ]
  },
  {
   "cell_type": "markdown",
   "metadata": {},
   "source": [
    "# Восстановление золота из руды"
   ]
  },
  {
   "cell_type": "markdown",
   "metadata": {},
   "source": [
    "Подготовьте прототип модели машинного обучения для «Цифры». Компания разрабатывает решения для эффективной работы промышленных предприятий.\n",
    "\n",
    "Модель должна предсказать коэффициент восстановления золота из золотосодержащей руды. Используйте данные с параметрами добычи и очистки. \n",
    "\n",
    "Модель поможет оптимизировать производство, чтобы не запускать предприятие с убыточными характеристиками.\n",
    "\n",
    "Вам нужно:\n",
    "\n",
    "1. Подготовить данные;\n",
    "2. Провести исследовательский анализ данных;\n",
    "3. Построить и обучить модель.\n",
    "\n",
    "Чтобы выполнить проект, обращайтесь к библиотекам *pandas*, *matplotlib* и *sklearn.* Вам поможет их документация."
   ]
  },
  {
   "cell_type": "markdown",
   "metadata": {},
   "source": [
    "## Подготовка данных"
   ]
  },
  {
   "cell_type": "code",
   "execution_count": 1,
   "metadata": {},
   "outputs": [],
   "source": [
    "import pandas as pd\n",
    "import matplotlib.pyplot as plt\n",
    "import numpy as np\n",
    "import seaborn as sns\n",
    "\n",
    "from sklearn.model_selection import train_test_split\n",
    "from sklearn. metrics import mean_absolute_error as mae\n",
    "from sklearn.ensemble import RandomForestRegressor\n",
    "from sklearn.linear_model import LinearRegression\n",
    "from sklearn.tree import DecisionTreeRegressor\n",
    "from sklearn.ensemble import ExtraTreesRegressor\n",
    "\n",
    "from sklearn.pipeline import  make_pipeline\n",
    "from sklearn.preprocessing import StandardScaler\n",
    "from sklearn.metrics import make_scorer\n",
    "from sklearn.model_selection import GridSearchCV\n",
    "from sklearn.dummy import DummyRegressor\n",
    "\n",
    "import warnings\n",
    "warnings.filterwarnings(\"ignore\")"
   ]
  },
  {
   "cell_type": "code",
   "execution_count": 2,
   "metadata": {},
   "outputs": [],
   "source": [
    "try:\n",
    "    train = pd.read_csv('gold_industry_train.csv')\n",
    "    test = pd.read_csv('gold_industry_test.csv')\n",
    "    full = pd.read_csv('gold_industry_full.csv')\n",
    "except:\n",
    "    train = pd.read_csv('/datasets/gold_industry_train.csv')\n",
    "    test = pd.read_csv('/datasets/gold_industry_test.csv')\n",
    "    full = pd.read_csv('/datasets/gold_industry_full.csv') "
   ]
  },
  {
   "cell_type": "code",
   "execution_count": 3,
   "metadata": {
    "scrolled": true
   },
   "outputs": [
    {
     "name": "stdout",
     "output_type": "stream",
     "text": [
      "<class 'pandas.core.frame.DataFrame'>\n",
      "RangeIndex: 14579 entries, 0 to 14578\n",
      "Data columns (total 87 columns):\n",
      " #   Column                                              Non-Null Count  Dtype  \n",
      "---  ------                                              --------------  -----  \n",
      " 0   date                                                14579 non-null  object \n",
      " 1   rougher.input.feed_au                               14579 non-null  float64\n",
      " 2   rougher.input.feed_ag                               14579 non-null  float64\n",
      " 3   rougher.input.feed_pb                               14507 non-null  float64\n",
      " 4   rougher.input.feed_sol                              14502 non-null  float64\n",
      " 5   rougher.input.feed_rate                             14572 non-null  float64\n",
      " 6   rougher.input.feed_size                             14478 non-null  float64\n",
      " 7   rougher.input.floatbank10_sulfate                   14548 non-null  float64\n",
      " 8   rougher.input.floatbank10_xanthate                  14572 non-null  float64\n",
      " 9   rougher.state.floatbank10_a_air                     14579 non-null  float64\n",
      " 10  rougher.state.floatbank10_a_level                   14579 non-null  float64\n",
      " 11  rougher.state.floatbank10_b_air                     14579 non-null  float64\n",
      " 12  rougher.state.floatbank10_b_level                   14579 non-null  float64\n",
      " 13  rougher.state.floatbank10_c_air                     14579 non-null  float64\n",
      " 14  rougher.state.floatbank10_c_level                   14579 non-null  float64\n",
      " 15  rougher.state.floatbank10_d_air                     14579 non-null  float64\n",
      " 16  rougher.state.floatbank10_d_level                   14579 non-null  float64\n",
      " 17  rougher.state.floatbank10_e_air                     14150 non-null  float64\n",
      " 18  rougher.state.floatbank10_e_level                   14579 non-null  float64\n",
      " 19  rougher.state.floatbank10_f_air                     14579 non-null  float64\n",
      " 20  rougher.state.floatbank10_f_level                   14579 non-null  float64\n",
      " 21  rougher.input.floatbank11_sulfate                   14543 non-null  float64\n",
      " 22  rougher.input.floatbank11_xanthate                  14172 non-null  float64\n",
      " 23  rougher.calculation.sulfate_to_au_concentrate       14578 non-null  float64\n",
      " 24  rougher.calculation.floatbank10_sulfate_to_au_feed  14578 non-null  float64\n",
      " 25  rougher.calculation.floatbank11_sulfate_to_au_feed  14578 non-null  float64\n",
      " 26  rougher.calculation.au_pb_ratio                     14579 non-null  float64\n",
      " 27  rougher.output.concentrate_au                       14579 non-null  float64\n",
      " 28  rougher.output.concentrate_ag                       14579 non-null  float64\n",
      " 29  rougher.output.concentrate_pb                       14579 non-null  float64\n",
      " 30  rougher.output.concentrate_sol                      14561 non-null  float64\n",
      " 31  rougher.output.recovery                             14579 non-null  float64\n",
      " 32  rougher.output.tail_au                              14579 non-null  float64\n",
      " 33  rougher.output.tail_ag                              14578 non-null  float64\n",
      " 34  rougher.output.tail_pb                              14579 non-null  float64\n",
      " 35  rougher.output.tail_sol                             14579 non-null  float64\n",
      " 36  primary_cleaner.input.sulfate                       14556 non-null  float64\n",
      " 37  primary_cleaner.input.depressant                    14551 non-null  float64\n",
      " 38  primary_cleaner.input.feed_size                     14579 non-null  float64\n",
      " 39  primary_cleaner.input.xanthate                      14518 non-null  float64\n",
      " 40  primary_cleaner.state.floatbank8_a_air              14576 non-null  float64\n",
      " 41  primary_cleaner.state.floatbank8_a_level            14579 non-null  float64\n",
      " 42  primary_cleaner.state.floatbank8_b_air              14576 non-null  float64\n",
      " 43  primary_cleaner.state.floatbank8_b_level            14579 non-null  float64\n",
      " 44  primary_cleaner.state.floatbank8_c_air              14579 non-null  float64\n",
      " 45  primary_cleaner.state.floatbank8_c_level            14579 non-null  float64\n",
      " 46  primary_cleaner.state.floatbank8_d_air              14578 non-null  float64\n",
      " 47  primary_cleaner.state.floatbank8_d_level            14579 non-null  float64\n",
      " 48  primary_cleaner.output.concentrate_au               14579 non-null  float64\n",
      " 49  primary_cleaner.output.concentrate_ag               14579 non-null  float64\n",
      " 50  primary_cleaner.output.concentrate_pb               14491 non-null  float64\n",
      " 51  primary_cleaner.output.concentrate_sol              14314 non-null  float64\n",
      " 52  primary_cleaner.output.tail_au                      14579 non-null  float64\n",
      " 53  primary_cleaner.output.tail_ag                      14575 non-null  float64\n",
      " 54  primary_cleaner.output.tail_pb                      14573 non-null  float64\n",
      " 55  primary_cleaner.output.tail_sol                     14534 non-null  float64\n",
      " 56  secondary_cleaner.state.floatbank2_a_air            14485 non-null  float64\n",
      " 57  secondary_cleaner.state.floatbank2_a_level          14579 non-null  float64\n",
      " 58  secondary_cleaner.state.floatbank2_b_air            14557 non-null  float64\n",
      " 59  secondary_cleaner.state.floatbank2_b_level          14579 non-null  float64\n",
      " 60  secondary_cleaner.state.floatbank3_a_air            14567 non-null  float64\n",
      " 61  secondary_cleaner.state.floatbank3_a_level          14579 non-null  float64\n",
      " 62  secondary_cleaner.state.floatbank3_b_air            14579 non-null  float64\n",
      " 63  secondary_cleaner.state.floatbank3_b_level          14579 non-null  float64\n",
      " 64  secondary_cleaner.state.floatbank4_a_air            14574 non-null  float64\n",
      " 65  secondary_cleaner.state.floatbank4_a_level          14579 non-null  float64\n",
      " 66  secondary_cleaner.state.floatbank4_b_air            14579 non-null  float64\n",
      " 67  secondary_cleaner.state.floatbank4_b_level          14579 non-null  float64\n",
      " 68  secondary_cleaner.state.floatbank5_a_air            14579 non-null  float64\n",
      " 69  secondary_cleaner.state.floatbank5_a_level          14579 non-null  float64\n",
      " 70  secondary_cleaner.state.floatbank5_b_air            14579 non-null  float64\n",
      " 71  secondary_cleaner.state.floatbank5_b_level          14579 non-null  float64\n",
      " 72  secondary_cleaner.state.floatbank6_a_air            14578 non-null  float64\n",
      " 73  secondary_cleaner.state.floatbank6_a_level          14579 non-null  float64\n",
      " 74  secondary_cleaner.output.tail_au                    14579 non-null  float64\n",
      " 75  secondary_cleaner.output.tail_ag                    14578 non-null  float64\n",
      " 76  secondary_cleaner.output.tail_pb                    14575 non-null  float64\n",
      " 77  secondary_cleaner.output.tail_sol                   13659 non-null  float64\n",
      " 78  final.output.concentrate_au                         14579 non-null  float64\n",
      " 79  final.output.concentrate_ag                         14578 non-null  float64\n",
      " 80  final.output.concentrate_pb                         14578 non-null  float64\n",
      " 81  final.output.concentrate_sol                        14387 non-null  float64\n",
      " 82  final.output.recovery                               14579 non-null  float64\n",
      " 83  final.output.tail_au                                14579 non-null  float64\n",
      " 84  final.output.tail_ag                                14578 non-null  float64\n",
      " 85  final.output.tail_pb                                14504 non-null  float64\n",
      " 86  final.output.tail_sol                               14574 non-null  float64\n",
      "dtypes: float64(86), object(1)\n",
      "memory usage: 9.7+ MB\n"
     ]
    }
   ],
   "source": [
    "train.info()"
   ]
  },
  {
   "cell_type": "code",
   "execution_count": 4,
   "metadata": {
    "scrolled": true
   },
   "outputs": [
    {
     "name": "stdout",
     "output_type": "stream",
     "text": [
      "<class 'pandas.core.frame.DataFrame'>\n",
      "RangeIndex: 4860 entries, 0 to 4859\n",
      "Data columns (total 53 columns):\n",
      " #   Column                                      Non-Null Count  Dtype  \n",
      "---  ------                                      --------------  -----  \n",
      " 0   date                                        4860 non-null   object \n",
      " 1   rougher.input.feed_au                       4860 non-null   float64\n",
      " 2   rougher.input.feed_ag                       4860 non-null   float64\n",
      " 3   rougher.input.feed_pb                       4832 non-null   float64\n",
      " 4   rougher.input.feed_sol                      4838 non-null   float64\n",
      " 5   rougher.input.feed_rate                     4856 non-null   float64\n",
      " 6   rougher.input.feed_size                     4816 non-null   float64\n",
      " 7   rougher.input.floatbank10_sulfate           4857 non-null   float64\n",
      " 8   rougher.input.floatbank10_xanthate          4859 non-null   float64\n",
      " 9   rougher.state.floatbank10_a_air             4859 non-null   float64\n",
      " 10  rougher.state.floatbank10_a_level           4859 non-null   float64\n",
      " 11  rougher.state.floatbank10_b_air             4859 non-null   float64\n",
      " 12  rougher.state.floatbank10_b_level           4859 non-null   float64\n",
      " 13  rougher.state.floatbank10_c_air             4859 non-null   float64\n",
      " 14  rougher.state.floatbank10_c_level           4859 non-null   float64\n",
      " 15  rougher.state.floatbank10_d_air             4860 non-null   float64\n",
      " 16  rougher.state.floatbank10_d_level           4860 non-null   float64\n",
      " 17  rougher.state.floatbank10_e_air             4853 non-null   float64\n",
      " 18  rougher.state.floatbank10_e_level           4860 non-null   float64\n",
      " 19  rougher.state.floatbank10_f_air             4860 non-null   float64\n",
      " 20  rougher.state.floatbank10_f_level           4860 non-null   float64\n",
      " 21  rougher.input.floatbank11_sulfate           4852 non-null   float64\n",
      " 22  rougher.input.floatbank11_xanthate          4814 non-null   float64\n",
      " 23  primary_cleaner.input.sulfate               4859 non-null   float64\n",
      " 24  primary_cleaner.input.depressant            4851 non-null   float64\n",
      " 25  primary_cleaner.input.feed_size             4860 non-null   float64\n",
      " 26  primary_cleaner.input.xanthate              4817 non-null   float64\n",
      " 27  primary_cleaner.state.floatbank8_a_air      4859 non-null   float64\n",
      " 28  primary_cleaner.state.floatbank8_a_level    4859 non-null   float64\n",
      " 29  primary_cleaner.state.floatbank8_b_air      4859 non-null   float64\n",
      " 30  primary_cleaner.state.floatbank8_b_level    4859 non-null   float64\n",
      " 31  primary_cleaner.state.floatbank8_c_air      4858 non-null   float64\n",
      " 32  primary_cleaner.state.floatbank8_c_level    4859 non-null   float64\n",
      " 33  primary_cleaner.state.floatbank8_d_air      4858 non-null   float64\n",
      " 34  primary_cleaner.state.floatbank8_d_level    4859 non-null   float64\n",
      " 35  secondary_cleaner.state.floatbank2_a_air    4734 non-null   float64\n",
      " 36  secondary_cleaner.state.floatbank2_a_level  4859 non-null   float64\n",
      " 37  secondary_cleaner.state.floatbank2_b_air    4859 non-null   float64\n",
      " 38  secondary_cleaner.state.floatbank2_b_level  4859 non-null   float64\n",
      " 39  secondary_cleaner.state.floatbank3_a_air    4859 non-null   float64\n",
      " 40  secondary_cleaner.state.floatbank3_a_level  4859 non-null   float64\n",
      " 41  secondary_cleaner.state.floatbank3_b_air    4859 non-null   float64\n",
      " 42  secondary_cleaner.state.floatbank3_b_level  4859 non-null   float64\n",
      " 43  secondary_cleaner.state.floatbank4_a_air    4859 non-null   float64\n",
      " 44  secondary_cleaner.state.floatbank4_a_level  4859 non-null   float64\n",
      " 45  secondary_cleaner.state.floatbank4_b_air    4859 non-null   float64\n",
      " 46  secondary_cleaner.state.floatbank4_b_level  4859 non-null   float64\n",
      " 47  secondary_cleaner.state.floatbank5_a_air    4859 non-null   float64\n",
      " 48  secondary_cleaner.state.floatbank5_a_level  4859 non-null   float64\n",
      " 49  secondary_cleaner.state.floatbank5_b_air    4859 non-null   float64\n",
      " 50  secondary_cleaner.state.floatbank5_b_level  4859 non-null   float64\n",
      " 51  secondary_cleaner.state.floatbank6_a_air    4859 non-null   float64\n",
      " 52  secondary_cleaner.state.floatbank6_a_level  4859 non-null   float64\n",
      "dtypes: float64(52), object(1)\n",
      "memory usage: 2.0+ MB\n"
     ]
    }
   ],
   "source": [
    "test.info()"
   ]
  },
  {
   "cell_type": "code",
   "execution_count": 5,
   "metadata": {
    "scrolled": true
   },
   "outputs": [
    {
     "name": "stdout",
     "output_type": "stream",
     "text": [
      "<class 'pandas.core.frame.DataFrame'>\n",
      "RangeIndex: 19439 entries, 0 to 19438\n",
      "Data columns (total 87 columns):\n",
      " #   Column                                              Non-Null Count  Dtype  \n",
      "---  ------                                              --------------  -----  \n",
      " 0   date                                                19439 non-null  object \n",
      " 1   rougher.input.feed_au                               19439 non-null  float64\n",
      " 2   rougher.input.feed_ag                               19439 non-null  float64\n",
      " 3   rougher.input.feed_pb                               19339 non-null  float64\n",
      " 4   rougher.input.feed_sol                              19340 non-null  float64\n",
      " 5   rougher.input.feed_rate                             19428 non-null  float64\n",
      " 6   rougher.input.feed_size                             19294 non-null  float64\n",
      " 7   rougher.input.floatbank10_sulfate                   19405 non-null  float64\n",
      " 8   rougher.input.floatbank10_xanthate                  19431 non-null  float64\n",
      " 9   rougher.state.floatbank10_a_air                     19438 non-null  float64\n",
      " 10  rougher.state.floatbank10_a_level                   19438 non-null  float64\n",
      " 11  rougher.state.floatbank10_b_air                     19438 non-null  float64\n",
      " 12  rougher.state.floatbank10_b_level                   19438 non-null  float64\n",
      " 13  rougher.state.floatbank10_c_air                     19438 non-null  float64\n",
      " 14  rougher.state.floatbank10_c_level                   19438 non-null  float64\n",
      " 15  rougher.state.floatbank10_d_air                     19439 non-null  float64\n",
      " 16  rougher.state.floatbank10_d_level                   19439 non-null  float64\n",
      " 17  rougher.state.floatbank10_e_air                     19003 non-null  float64\n",
      " 18  rougher.state.floatbank10_e_level                   19439 non-null  float64\n",
      " 19  rougher.state.floatbank10_f_air                     19439 non-null  float64\n",
      " 20  rougher.state.floatbank10_f_level                   19439 non-null  float64\n",
      " 21  rougher.input.floatbank11_sulfate                   19395 non-null  float64\n",
      " 22  rougher.input.floatbank11_xanthate                  18986 non-null  float64\n",
      " 23  rougher.calculation.sulfate_to_au_concentrate       19437 non-null  float64\n",
      " 24  rougher.calculation.floatbank10_sulfate_to_au_feed  19437 non-null  float64\n",
      " 25  rougher.calculation.floatbank11_sulfate_to_au_feed  19437 non-null  float64\n",
      " 26  rougher.calculation.au_pb_ratio                     19439 non-null  float64\n",
      " 27  rougher.output.concentrate_au                       19439 non-null  float64\n",
      " 28  rougher.output.concentrate_ag                       19439 non-null  float64\n",
      " 29  rougher.output.concentrate_pb                       19439 non-null  float64\n",
      " 30  rougher.output.concentrate_sol                      19416 non-null  float64\n",
      " 31  rougher.output.recovery                             19439 non-null  float64\n",
      " 32  rougher.output.tail_au                              19439 non-null  float64\n",
      " 33  rougher.output.tail_ag                              19438 non-null  float64\n",
      " 34  rougher.output.tail_pb                              19439 non-null  float64\n",
      " 35  rougher.output.tail_sol                             19439 non-null  float64\n",
      " 36  primary_cleaner.input.sulfate                       19415 non-null  float64\n",
      " 37  primary_cleaner.input.depressant                    19402 non-null  float64\n",
      " 38  primary_cleaner.input.feed_size                     19439 non-null  float64\n",
      " 39  primary_cleaner.input.xanthate                      19335 non-null  float64\n",
      " 40  primary_cleaner.state.floatbank8_a_air              19435 non-null  float64\n",
      " 41  primary_cleaner.state.floatbank8_a_level            19438 non-null  float64\n",
      " 42  primary_cleaner.state.floatbank8_b_air              19435 non-null  float64\n",
      " 43  primary_cleaner.state.floatbank8_b_level            19438 non-null  float64\n",
      " 44  primary_cleaner.state.floatbank8_c_air              19437 non-null  float64\n",
      " 45  primary_cleaner.state.floatbank8_c_level            19438 non-null  float64\n",
      " 46  primary_cleaner.state.floatbank8_d_air              19436 non-null  float64\n",
      " 47  primary_cleaner.state.floatbank8_d_level            19438 non-null  float64\n",
      " 48  primary_cleaner.output.concentrate_au               19439 non-null  float64\n",
      " 49  primary_cleaner.output.concentrate_ag               19439 non-null  float64\n",
      " 50  primary_cleaner.output.concentrate_pb               19323 non-null  float64\n",
      " 51  primary_cleaner.output.concentrate_sol              19069 non-null  float64\n",
      " 52  primary_cleaner.output.tail_au                      19439 non-null  float64\n",
      " 53  primary_cleaner.output.tail_ag                      19435 non-null  float64\n",
      " 54  primary_cleaner.output.tail_pb                      19418 non-null  float64\n",
      " 55  primary_cleaner.output.tail_sol                     19377 non-null  float64\n",
      " 56  secondary_cleaner.state.floatbank2_a_air            19219 non-null  float64\n",
      " 57  secondary_cleaner.state.floatbank2_a_level          19438 non-null  float64\n",
      " 58  secondary_cleaner.state.floatbank2_b_air            19416 non-null  float64\n",
      " 59  secondary_cleaner.state.floatbank2_b_level          19438 non-null  float64\n",
      " 60  secondary_cleaner.state.floatbank3_a_air            19426 non-null  float64\n",
      " 61  secondary_cleaner.state.floatbank3_a_level          19438 non-null  float64\n",
      " 62  secondary_cleaner.state.floatbank3_b_air            19438 non-null  float64\n",
      " 63  secondary_cleaner.state.floatbank3_b_level          19438 non-null  float64\n",
      " 64  secondary_cleaner.state.floatbank4_a_air            19433 non-null  float64\n",
      " 65  secondary_cleaner.state.floatbank4_a_level          19438 non-null  float64\n",
      " 66  secondary_cleaner.state.floatbank4_b_air            19438 non-null  float64\n",
      " 67  secondary_cleaner.state.floatbank4_b_level          19438 non-null  float64\n",
      " 68  secondary_cleaner.state.floatbank5_a_air            19438 non-null  float64\n",
      " 69  secondary_cleaner.state.floatbank5_a_level          19438 non-null  float64\n",
      " 70  secondary_cleaner.state.floatbank5_b_air            19438 non-null  float64\n",
      " 71  secondary_cleaner.state.floatbank5_b_level          19438 non-null  float64\n",
      " 72  secondary_cleaner.state.floatbank6_a_air            19437 non-null  float64\n",
      " 73  secondary_cleaner.state.floatbank6_a_level          19438 non-null  float64\n",
      " 74  secondary_cleaner.output.tail_au                    19439 non-null  float64\n",
      " 75  secondary_cleaner.output.tail_ag                    19437 non-null  float64\n",
      " 76  secondary_cleaner.output.tail_pb                    19427 non-null  float64\n",
      " 77  secondary_cleaner.output.tail_sol                   17691 non-null  float64\n",
      " 78  final.output.concentrate_au                         19439 non-null  float64\n",
      " 79  final.output.concentrate_ag                         19438 non-null  float64\n",
      " 80  final.output.concentrate_pb                         19438 non-null  float64\n",
      " 81  final.output.concentrate_sol                        19228 non-null  float64\n",
      " 82  final.output.recovery                               19439 non-null  float64\n",
      " 83  final.output.tail_au                                19439 non-null  float64\n",
      " 84  final.output.tail_ag                                19438 non-null  float64\n",
      " 85  final.output.tail_pb                                19338 non-null  float64\n",
      " 86  final.output.tail_sol                               19433 non-null  float64\n",
      "dtypes: float64(86), object(1)\n",
      "memory usage: 12.9+ MB\n"
     ]
    }
   ],
   "source": [
    "full.info()"
   ]
  },
  {
   "cell_type": "code",
   "execution_count": 6,
   "metadata": {},
   "outputs": [
    {
     "data": {
      "text/plain": [
       "0"
      ]
     },
     "execution_count": 6,
     "metadata": {},
     "output_type": "execute_result"
    }
   ],
   "source": [
    "train.duplicated().sum()"
   ]
  },
  {
   "cell_type": "code",
   "execution_count": 7,
   "metadata": {},
   "outputs": [
    {
     "data": {
      "text/plain": [
       "0"
      ]
     },
     "execution_count": 7,
     "metadata": {},
     "output_type": "execute_result"
    }
   ],
   "source": [
    "test.duplicated().sum()"
   ]
  },
  {
   "cell_type": "code",
   "execution_count": 8,
   "metadata": {},
   "outputs": [
    {
     "data": {
      "text/plain": [
       "0"
      ]
     },
     "execution_count": 8,
     "metadata": {},
     "output_type": "execute_result"
    }
   ],
   "source": [
    "full.duplicated().sum()"
   ]
  },
  {
   "cell_type": "code",
   "execution_count": 9,
   "metadata": {},
   "outputs": [
    {
     "data": {
      "text/html": [
       "<div>\n",
       "<style scoped>\n",
       "    .dataframe tbody tr th:only-of-type {\n",
       "        vertical-align: middle;\n",
       "    }\n",
       "\n",
       "    .dataframe tbody tr th {\n",
       "        vertical-align: top;\n",
       "    }\n",
       "\n",
       "    .dataframe thead th {\n",
       "        text-align: right;\n",
       "    }\n",
       "</style>\n",
       "<table border=\"1\" class=\"dataframe\">\n",
       "  <thead>\n",
       "    <tr style=\"text-align: right;\">\n",
       "      <th></th>\n",
       "      <th>rougher.input.feed_au</th>\n",
       "      <th>rougher.input.feed_ag</th>\n",
       "      <th>rougher.input.feed_pb</th>\n",
       "      <th>rougher.input.feed_sol</th>\n",
       "      <th>rougher.input.feed_rate</th>\n",
       "      <th>rougher.input.feed_size</th>\n",
       "      <th>rougher.input.floatbank10_sulfate</th>\n",
       "      <th>rougher.input.floatbank10_xanthate</th>\n",
       "      <th>rougher.state.floatbank10_a_air</th>\n",
       "      <th>rougher.state.floatbank10_a_level</th>\n",
       "      <th>...</th>\n",
       "      <th>secondary_cleaner.output.tail_sol</th>\n",
       "      <th>final.output.concentrate_au</th>\n",
       "      <th>final.output.concentrate_ag</th>\n",
       "      <th>final.output.concentrate_pb</th>\n",
       "      <th>final.output.concentrate_sol</th>\n",
       "      <th>final.output.recovery</th>\n",
       "      <th>final.output.tail_au</th>\n",
       "      <th>final.output.tail_ag</th>\n",
       "      <th>final.output.tail_pb</th>\n",
       "      <th>final.output.tail_sol</th>\n",
       "    </tr>\n",
       "  </thead>\n",
       "  <tbody>\n",
       "    <tr>\n",
       "      <th>count</th>\n",
       "      <td>14579.000000</td>\n",
       "      <td>14579.000000</td>\n",
       "      <td>14507.000000</td>\n",
       "      <td>14502.000000</td>\n",
       "      <td>14572.000000</td>\n",
       "      <td>14478.000000</td>\n",
       "      <td>14548.000000</td>\n",
       "      <td>14572.000000</td>\n",
       "      <td>14579.000000</td>\n",
       "      <td>14579.000000</td>\n",
       "      <td>...</td>\n",
       "      <td>13659.000000</td>\n",
       "      <td>14579.000000</td>\n",
       "      <td>14578.000000</td>\n",
       "      <td>14578.000000</td>\n",
       "      <td>14387.000000</td>\n",
       "      <td>14579.000000</td>\n",
       "      <td>14579.000000</td>\n",
       "      <td>14578.000000</td>\n",
       "      <td>14504.000000</td>\n",
       "      <td>14574.000000</td>\n",
       "    </tr>\n",
       "    <tr>\n",
       "      <th>mean</th>\n",
       "      <td>8.352941</td>\n",
       "      <td>8.877460</td>\n",
       "      <td>3.604221</td>\n",
       "      <td>36.561420</td>\n",
       "      <td>474.332784</td>\n",
       "      <td>58.922712</td>\n",
       "      <td>12.427399</td>\n",
       "      <td>5.994854</td>\n",
       "      <td>1104.208278</td>\n",
       "      <td>-379.367166</td>\n",
       "      <td>...</td>\n",
       "      <td>7.111347</td>\n",
       "      <td>43.979499</td>\n",
       "      <td>5.192145</td>\n",
       "      <td>9.923809</td>\n",
       "      <td>9.566676</td>\n",
       "      <td>66.759066</td>\n",
       "      <td>3.087939</td>\n",
       "      <td>9.731972</td>\n",
       "      <td>2.719985</td>\n",
       "      <td>10.612745</td>\n",
       "    </tr>\n",
       "    <tr>\n",
       "      <th>std</th>\n",
       "      <td>1.934376</td>\n",
       "      <td>1.922536</td>\n",
       "      <td>1.056063</td>\n",
       "      <td>5.209823</td>\n",
       "      <td>108.503552</td>\n",
       "      <td>22.407410</td>\n",
       "      <td>3.428939</td>\n",
       "      <td>1.152873</td>\n",
       "      <td>162.235606</td>\n",
       "      <td>94.652311</td>\n",
       "      <td>...</td>\n",
       "      <td>3.909951</td>\n",
       "      <td>5.471437</td>\n",
       "      <td>1.388014</td>\n",
       "      <td>1.706976</td>\n",
       "      <td>2.805654</td>\n",
       "      <td>10.619709</td>\n",
       "      <td>0.915187</td>\n",
       "      <td>2.358143</td>\n",
       "      <td>0.958929</td>\n",
       "      <td>2.871075</td>\n",
       "    </tr>\n",
       "    <tr>\n",
       "      <th>min</th>\n",
       "      <td>0.010000</td>\n",
       "      <td>0.010000</td>\n",
       "      <td>0.010000</td>\n",
       "      <td>0.010000</td>\n",
       "      <td>0.002986</td>\n",
       "      <td>0.049194</td>\n",
       "      <td>0.001083</td>\n",
       "      <td>0.000568</td>\n",
       "      <td>-0.042069</td>\n",
       "      <td>-657.949759</td>\n",
       "      <td>...</td>\n",
       "      <td>0.000000</td>\n",
       "      <td>0.000000</td>\n",
       "      <td>0.000000</td>\n",
       "      <td>0.000000</td>\n",
       "      <td>0.000000</td>\n",
       "      <td>0.000000</td>\n",
       "      <td>0.000000</td>\n",
       "      <td>0.000000</td>\n",
       "      <td>0.000000</td>\n",
       "      <td>0.000000</td>\n",
       "    </tr>\n",
       "    <tr>\n",
       "      <th>25%</th>\n",
       "      <td>6.932996</td>\n",
       "      <td>7.341922</td>\n",
       "      <td>2.880490</td>\n",
       "      <td>34.093951</td>\n",
       "      <td>411.048483</td>\n",
       "      <td>47.278490</td>\n",
       "      <td>10.002832</td>\n",
       "      <td>5.304167</td>\n",
       "      <td>999.644856</td>\n",
       "      <td>-499.861797</td>\n",
       "      <td>...</td>\n",
       "      <td>3.784897</td>\n",
       "      <td>43.345906</td>\n",
       "      <td>4.283347</td>\n",
       "      <td>9.103183</td>\n",
       "      <td>7.860030</td>\n",
       "      <td>63.114596</td>\n",
       "      <td>2.505287</td>\n",
       "      <td>8.088928</td>\n",
       "      <td>2.036512</td>\n",
       "      <td>9.013412</td>\n",
       "    </tr>\n",
       "    <tr>\n",
       "      <th>50%</th>\n",
       "      <td>8.225284</td>\n",
       "      <td>8.715859</td>\n",
       "      <td>3.532399</td>\n",
       "      <td>37.097511</td>\n",
       "      <td>498.187968</td>\n",
       "      <td>54.361187</td>\n",
       "      <td>12.003320</td>\n",
       "      <td>6.003053</td>\n",
       "      <td>1000.982624</td>\n",
       "      <td>-300.314199</td>\n",
       "      <td>...</td>\n",
       "      <td>7.629968</td>\n",
       "      <td>44.975014</td>\n",
       "      <td>5.118647</td>\n",
       "      <td>10.046455</td>\n",
       "      <td>9.301970</td>\n",
       "      <td>67.962788</td>\n",
       "      <td>3.029238</td>\n",
       "      <td>9.818512</td>\n",
       "      <td>2.774847</td>\n",
       "      <td>10.670515</td>\n",
       "    </tr>\n",
       "    <tr>\n",
       "      <th>75%</th>\n",
       "      <td>9.832210</td>\n",
       "      <td>10.255843</td>\n",
       "      <td>4.257282</td>\n",
       "      <td>39.899799</td>\n",
       "      <td>549.586552</td>\n",
       "      <td>64.464926</td>\n",
       "      <td>14.929903</td>\n",
       "      <td>6.796632</td>\n",
       "      <td>1292.663971</td>\n",
       "      <td>-299.989315</td>\n",
       "      <td>...</td>\n",
       "      <td>10.367050</td>\n",
       "      <td>46.275153</td>\n",
       "      <td>5.925380</td>\n",
       "      <td>10.981203</td>\n",
       "      <td>11.001573</td>\n",
       "      <td>72.598187</td>\n",
       "      <td>3.614098</td>\n",
       "      <td>11.169187</td>\n",
       "      <td>3.353845</td>\n",
       "      <td>12.130827</td>\n",
       "    </tr>\n",
       "    <tr>\n",
       "      <th>max</th>\n",
       "      <td>13.731330</td>\n",
       "      <td>14.596026</td>\n",
       "      <td>7.052325</td>\n",
       "      <td>53.475325</td>\n",
       "      <td>717.508837</td>\n",
       "      <td>484.967466</td>\n",
       "      <td>36.118275</td>\n",
       "      <td>9.703448</td>\n",
       "      <td>1512.299531</td>\n",
       "      <td>-273.776101</td>\n",
       "      <td>...</td>\n",
       "      <td>26.000772</td>\n",
       "      <td>52.756638</td>\n",
       "      <td>16.001945</td>\n",
       "      <td>16.705297</td>\n",
       "      <td>19.423912</td>\n",
       "      <td>100.000000</td>\n",
       "      <td>8.245022</td>\n",
       "      <td>19.552149</td>\n",
       "      <td>5.804178</td>\n",
       "      <td>22.317730</td>\n",
       "    </tr>\n",
       "  </tbody>\n",
       "</table>\n",
       "<p>8 rows × 86 columns</p>\n",
       "</div>"
      ],
      "text/plain": [
       "       rougher.input.feed_au  rougher.input.feed_ag  rougher.input.feed_pb  \\\n",
       "count           14579.000000           14579.000000           14507.000000   \n",
       "mean                8.352941               8.877460               3.604221   \n",
       "std                 1.934376               1.922536               1.056063   \n",
       "min                 0.010000               0.010000               0.010000   \n",
       "25%                 6.932996               7.341922               2.880490   \n",
       "50%                 8.225284               8.715859               3.532399   \n",
       "75%                 9.832210              10.255843               4.257282   \n",
       "max                13.731330              14.596026               7.052325   \n",
       "\n",
       "       rougher.input.feed_sol  rougher.input.feed_rate  \\\n",
       "count            14502.000000             14572.000000   \n",
       "mean                36.561420               474.332784   \n",
       "std                  5.209823               108.503552   \n",
       "min                  0.010000                 0.002986   \n",
       "25%                 34.093951               411.048483   \n",
       "50%                 37.097511               498.187968   \n",
       "75%                 39.899799               549.586552   \n",
       "max                 53.475325               717.508837   \n",
       "\n",
       "       rougher.input.feed_size  rougher.input.floatbank10_sulfate  \\\n",
       "count             14478.000000                       14548.000000   \n",
       "mean                 58.922712                          12.427399   \n",
       "std                  22.407410                           3.428939   \n",
       "min                   0.049194                           0.001083   \n",
       "25%                  47.278490                          10.002832   \n",
       "50%                  54.361187                          12.003320   \n",
       "75%                  64.464926                          14.929903   \n",
       "max                 484.967466                          36.118275   \n",
       "\n",
       "       rougher.input.floatbank10_xanthate  rougher.state.floatbank10_a_air  \\\n",
       "count                        14572.000000                     14579.000000   \n",
       "mean                             5.994854                      1104.208278   \n",
       "std                              1.152873                       162.235606   \n",
       "min                              0.000568                        -0.042069   \n",
       "25%                              5.304167                       999.644856   \n",
       "50%                              6.003053                      1000.982624   \n",
       "75%                              6.796632                      1292.663971   \n",
       "max                              9.703448                      1512.299531   \n",
       "\n",
       "       rougher.state.floatbank10_a_level  ...  \\\n",
       "count                       14579.000000  ...   \n",
       "mean                         -379.367166  ...   \n",
       "std                            94.652311  ...   \n",
       "min                          -657.949759  ...   \n",
       "25%                          -499.861797  ...   \n",
       "50%                          -300.314199  ...   \n",
       "75%                          -299.989315  ...   \n",
       "max                          -273.776101  ...   \n",
       "\n",
       "       secondary_cleaner.output.tail_sol  final.output.concentrate_au  \\\n",
       "count                       13659.000000                 14579.000000   \n",
       "mean                            7.111347                    43.979499   \n",
       "std                             3.909951                     5.471437   \n",
       "min                             0.000000                     0.000000   \n",
       "25%                             3.784897                    43.345906   \n",
       "50%                             7.629968                    44.975014   \n",
       "75%                            10.367050                    46.275153   \n",
       "max                            26.000772                    52.756638   \n",
       "\n",
       "       final.output.concentrate_ag  final.output.concentrate_pb  \\\n",
       "count                 14578.000000                 14578.000000   \n",
       "mean                      5.192145                     9.923809   \n",
       "std                       1.388014                     1.706976   \n",
       "min                       0.000000                     0.000000   \n",
       "25%                       4.283347                     9.103183   \n",
       "50%                       5.118647                    10.046455   \n",
       "75%                       5.925380                    10.981203   \n",
       "max                      16.001945                    16.705297   \n",
       "\n",
       "       final.output.concentrate_sol  final.output.recovery  \\\n",
       "count                  14387.000000           14579.000000   \n",
       "mean                       9.566676              66.759066   \n",
       "std                        2.805654              10.619709   \n",
       "min                        0.000000               0.000000   \n",
       "25%                        7.860030              63.114596   \n",
       "50%                        9.301970              67.962788   \n",
       "75%                       11.001573              72.598187   \n",
       "max                       19.423912             100.000000   \n",
       "\n",
       "       final.output.tail_au  final.output.tail_ag  final.output.tail_pb  \\\n",
       "count          14579.000000          14578.000000          14504.000000   \n",
       "mean               3.087939              9.731972              2.719985   \n",
       "std                0.915187              2.358143              0.958929   \n",
       "min                0.000000              0.000000              0.000000   \n",
       "25%                2.505287              8.088928              2.036512   \n",
       "50%                3.029238              9.818512              2.774847   \n",
       "75%                3.614098             11.169187              3.353845   \n",
       "max                8.245022             19.552149              5.804178   \n",
       "\n",
       "       final.output.tail_sol  \n",
       "count           14574.000000  \n",
       "mean               10.612745  \n",
       "std                 2.871075  \n",
       "min                 0.000000  \n",
       "25%                 9.013412  \n",
       "50%                10.670515  \n",
       "75%                12.130827  \n",
       "max                22.317730  \n",
       "\n",
       "[8 rows x 86 columns]"
      ]
     },
     "execution_count": 9,
     "metadata": {},
     "output_type": "execute_result"
    }
   ],
   "source": [
    "train.describe()"
   ]
  },
  {
   "cell_type": "code",
   "execution_count": 10,
   "metadata": {},
   "outputs": [
    {
     "data": {
      "text/html": [
       "<div>\n",
       "<style scoped>\n",
       "    .dataframe tbody tr th:only-of-type {\n",
       "        vertical-align: middle;\n",
       "    }\n",
       "\n",
       "    .dataframe tbody tr th {\n",
       "        vertical-align: top;\n",
       "    }\n",
       "\n",
       "    .dataframe thead th {\n",
       "        text-align: right;\n",
       "    }\n",
       "</style>\n",
       "<table border=\"1\" class=\"dataframe\">\n",
       "  <thead>\n",
       "    <tr style=\"text-align: right;\">\n",
       "      <th></th>\n",
       "      <th>rougher.input.feed_au</th>\n",
       "      <th>rougher.input.feed_ag</th>\n",
       "      <th>rougher.input.feed_pb</th>\n",
       "      <th>rougher.input.feed_sol</th>\n",
       "      <th>rougher.input.feed_rate</th>\n",
       "      <th>rougher.input.feed_size</th>\n",
       "      <th>rougher.input.floatbank10_sulfate</th>\n",
       "      <th>rougher.input.floatbank10_xanthate</th>\n",
       "      <th>rougher.state.floatbank10_a_air</th>\n",
       "      <th>rougher.state.floatbank10_a_level</th>\n",
       "      <th>...</th>\n",
       "      <th>secondary_cleaner.state.floatbank4_a_air</th>\n",
       "      <th>secondary_cleaner.state.floatbank4_a_level</th>\n",
       "      <th>secondary_cleaner.state.floatbank4_b_air</th>\n",
       "      <th>secondary_cleaner.state.floatbank4_b_level</th>\n",
       "      <th>secondary_cleaner.state.floatbank5_a_air</th>\n",
       "      <th>secondary_cleaner.state.floatbank5_a_level</th>\n",
       "      <th>secondary_cleaner.state.floatbank5_b_air</th>\n",
       "      <th>secondary_cleaner.state.floatbank5_b_level</th>\n",
       "      <th>secondary_cleaner.state.floatbank6_a_air</th>\n",
       "      <th>secondary_cleaner.state.floatbank6_a_level</th>\n",
       "    </tr>\n",
       "  </thead>\n",
       "  <tbody>\n",
       "    <tr>\n",
       "      <th>count</th>\n",
       "      <td>4860.000000</td>\n",
       "      <td>4860.000000</td>\n",
       "      <td>4832.000000</td>\n",
       "      <td>4838.000000</td>\n",
       "      <td>4856.000000</td>\n",
       "      <td>4816.000000</td>\n",
       "      <td>4857.000000</td>\n",
       "      <td>4859.000000</td>\n",
       "      <td>4859.000000</td>\n",
       "      <td>4859.000000</td>\n",
       "      <td>...</td>\n",
       "      <td>4.859000e+03</td>\n",
       "      <td>4859.000000</td>\n",
       "      <td>4.859000e+03</td>\n",
       "      <td>4859.000000</td>\n",
       "      <td>4859.000000</td>\n",
       "      <td>4859.000000</td>\n",
       "      <td>4859.000000</td>\n",
       "      <td>4859.000000</td>\n",
       "      <td>4859.000000</td>\n",
       "      <td>4859.000000</td>\n",
       "    </tr>\n",
       "    <tr>\n",
       "      <th>mean</th>\n",
       "      <td>8.005584</td>\n",
       "      <td>8.547348</td>\n",
       "      <td>3.579662</td>\n",
       "      <td>37.095864</td>\n",
       "      <td>490.285103</td>\n",
       "      <td>59.113400</td>\n",
       "      <td>12.055735</td>\n",
       "      <td>6.101308</td>\n",
       "      <td>1108.635895</td>\n",
       "      <td>-368.340127</td>\n",
       "      <td>...</td>\n",
       "      <td>1.985770e+01</td>\n",
       "      <td>-488.665140</td>\n",
       "      <td>1.557025e+01</td>\n",
       "      <td>-464.176507</td>\n",
       "      <td>16.594103</td>\n",
       "      <td>-490.815250</td>\n",
       "      <td>12.945971</td>\n",
       "      <td>-489.583564</td>\n",
       "      <td>19.053888</td>\n",
       "      <td>-504.678924</td>\n",
       "    </tr>\n",
       "    <tr>\n",
       "      <th>std</th>\n",
       "      <td>1.993590</td>\n",
       "      <td>1.958601</td>\n",
       "      <td>1.029377</td>\n",
       "      <td>4.926284</td>\n",
       "      <td>94.371623</td>\n",
       "      <td>19.125122</td>\n",
       "      <td>3.407642</td>\n",
       "      <td>1.042754</td>\n",
       "      <td>156.493143</td>\n",
       "      <td>91.155929</td>\n",
       "      <td>...</td>\n",
       "      <td>5.913105e+00</td>\n",
       "      <td>44.392714</td>\n",
       "      <td>4.927361e+00</td>\n",
       "      <td>65.706994</td>\n",
       "      <td>5.724305</td>\n",
       "      <td>32.258443</td>\n",
       "      <td>5.533176</td>\n",
       "      <td>37.084609</td>\n",
       "      <td>5.548996</td>\n",
       "      <td>38.690186</td>\n",
       "    </tr>\n",
       "    <tr>\n",
       "      <th>min</th>\n",
       "      <td>0.010000</td>\n",
       "      <td>0.010000</td>\n",
       "      <td>0.010000</td>\n",
       "      <td>0.010000</td>\n",
       "      <td>0.012786</td>\n",
       "      <td>0.046369</td>\n",
       "      <td>0.018907</td>\n",
       "      <td>0.015783</td>\n",
       "      <td>300.792494</td>\n",
       "      <td>-600.568138</td>\n",
       "      <td>...</td>\n",
       "      <td>1.079872e-16</td>\n",
       "      <td>-799.704969</td>\n",
       "      <td>2.489718e-17</td>\n",
       "      <td>-799.860767</td>\n",
       "      <td>-0.371498</td>\n",
       "      <td>-797.142475</td>\n",
       "      <td>1.358469</td>\n",
       "      <td>-800.006180</td>\n",
       "      <td>0.160386</td>\n",
       "      <td>-809.734800</td>\n",
       "    </tr>\n",
       "    <tr>\n",
       "      <th>25%</th>\n",
       "      <td>6.574363</td>\n",
       "      <td>6.975898</td>\n",
       "      <td>2.903612</td>\n",
       "      <td>34.510841</td>\n",
       "      <td>434.099695</td>\n",
       "      <td>47.596984</td>\n",
       "      <td>9.890429</td>\n",
       "      <td>5.499808</td>\n",
       "      <td>999.715729</td>\n",
       "      <td>-499.731972</td>\n",
       "      <td>...</td>\n",
       "      <td>1.501123e+01</td>\n",
       "      <td>-500.704004</td>\n",
       "      <td>1.202172e+01</td>\n",
       "      <td>-500.196517</td>\n",
       "      <td>11.073822</td>\n",
       "      <td>-500.483564</td>\n",
       "      <td>9.011890</td>\n",
       "      <td>-500.129913</td>\n",
       "      <td>14.963953</td>\n",
       "      <td>-500.668501</td>\n",
       "    </tr>\n",
       "    <tr>\n",
       "      <th>50%</th>\n",
       "      <td>7.812923</td>\n",
       "      <td>8.179714</td>\n",
       "      <td>3.540772</td>\n",
       "      <td>37.499761</td>\n",
       "      <td>502.118742</td>\n",
       "      <td>55.509481</td>\n",
       "      <td>11.997859</td>\n",
       "      <td>6.099805</td>\n",
       "      <td>1001.414798</td>\n",
       "      <td>-300.181367</td>\n",
       "      <td>...</td>\n",
       "      <td>1.996807e+01</td>\n",
       "      <td>-499.892919</td>\n",
       "      <td>1.501240e+01</td>\n",
       "      <td>-499.540776</td>\n",
       "      <td>16.631195</td>\n",
       "      <td>-499.873136</td>\n",
       "      <td>11.999417</td>\n",
       "      <td>-499.955304</td>\n",
       "      <td>19.960006</td>\n",
       "      <td>-500.033769</td>\n",
       "    </tr>\n",
       "    <tr>\n",
       "      <th>75%</th>\n",
       "      <td>9.556589</td>\n",
       "      <td>10.084339</td>\n",
       "      <td>4.199847</td>\n",
       "      <td>40.461315</td>\n",
       "      <td>555.596563</td>\n",
       "      <td>66.661547</td>\n",
       "      <td>14.496072</td>\n",
       "      <td>6.802101</td>\n",
       "      <td>1202.837565</td>\n",
       "      <td>-299.961547</td>\n",
       "      <td>...</td>\n",
       "      <td>2.498900e+01</td>\n",
       "      <td>-498.652030</td>\n",
       "      <td>1.999949e+01</td>\n",
       "      <td>-400.302329</td>\n",
       "      <td>19.983191</td>\n",
       "      <td>-498.852815</td>\n",
       "      <td>15.004198</td>\n",
       "      <td>-499.643776</td>\n",
       "      <td>24.974583</td>\n",
       "      <td>-499.460134</td>\n",
       "    </tr>\n",
       "    <tr>\n",
       "      <th>max</th>\n",
       "      <td>13.417156</td>\n",
       "      <td>14.533698</td>\n",
       "      <td>7.142594</td>\n",
       "      <td>53.477742</td>\n",
       "      <td>702.523396</td>\n",
       "      <td>363.989699</td>\n",
       "      <td>30.010759</td>\n",
       "      <td>9.396928</td>\n",
       "      <td>1521.980372</td>\n",
       "      <td>-281.039299</td>\n",
       "      <td>...</td>\n",
       "      <td>3.008450e+01</td>\n",
       "      <td>-383.373053</td>\n",
       "      <td>2.398898e+01</td>\n",
       "      <td>-114.250832</td>\n",
       "      <td>33.215996</td>\n",
       "      <td>-288.963521</td>\n",
       "      <td>24.177106</td>\n",
       "      <td>-141.934397</td>\n",
       "      <td>32.028529</td>\n",
       "      <td>-104.427459</td>\n",
       "    </tr>\n",
       "  </tbody>\n",
       "</table>\n",
       "<p>8 rows × 52 columns</p>\n",
       "</div>"
      ],
      "text/plain": [
       "       rougher.input.feed_au  rougher.input.feed_ag  rougher.input.feed_pb  \\\n",
       "count            4860.000000            4860.000000            4832.000000   \n",
       "mean                8.005584               8.547348               3.579662   \n",
       "std                 1.993590               1.958601               1.029377   \n",
       "min                 0.010000               0.010000               0.010000   \n",
       "25%                 6.574363               6.975898               2.903612   \n",
       "50%                 7.812923               8.179714               3.540772   \n",
       "75%                 9.556589              10.084339               4.199847   \n",
       "max                13.417156              14.533698               7.142594   \n",
       "\n",
       "       rougher.input.feed_sol  rougher.input.feed_rate  \\\n",
       "count             4838.000000              4856.000000   \n",
       "mean                37.095864               490.285103   \n",
       "std                  4.926284                94.371623   \n",
       "min                  0.010000                 0.012786   \n",
       "25%                 34.510841               434.099695   \n",
       "50%                 37.499761               502.118742   \n",
       "75%                 40.461315               555.596563   \n",
       "max                 53.477742               702.523396   \n",
       "\n",
       "       rougher.input.feed_size  rougher.input.floatbank10_sulfate  \\\n",
       "count              4816.000000                        4857.000000   \n",
       "mean                 59.113400                          12.055735   \n",
       "std                  19.125122                           3.407642   \n",
       "min                   0.046369                           0.018907   \n",
       "25%                  47.596984                           9.890429   \n",
       "50%                  55.509481                          11.997859   \n",
       "75%                  66.661547                          14.496072   \n",
       "max                 363.989699                          30.010759   \n",
       "\n",
       "       rougher.input.floatbank10_xanthate  rougher.state.floatbank10_a_air  \\\n",
       "count                         4859.000000                      4859.000000   \n",
       "mean                             6.101308                      1108.635895   \n",
       "std                              1.042754                       156.493143   \n",
       "min                              0.015783                       300.792494   \n",
       "25%                              5.499808                       999.715729   \n",
       "50%                              6.099805                      1001.414798   \n",
       "75%                              6.802101                      1202.837565   \n",
       "max                              9.396928                      1521.980372   \n",
       "\n",
       "       rougher.state.floatbank10_a_level  ...  \\\n",
       "count                        4859.000000  ...   \n",
       "mean                         -368.340127  ...   \n",
       "std                            91.155929  ...   \n",
       "min                          -600.568138  ...   \n",
       "25%                          -499.731972  ...   \n",
       "50%                          -300.181367  ...   \n",
       "75%                          -299.961547  ...   \n",
       "max                          -281.039299  ...   \n",
       "\n",
       "       secondary_cleaner.state.floatbank4_a_air  \\\n",
       "count                              4.859000e+03   \n",
       "mean                               1.985770e+01   \n",
       "std                                5.913105e+00   \n",
       "min                                1.079872e-16   \n",
       "25%                                1.501123e+01   \n",
       "50%                                1.996807e+01   \n",
       "75%                                2.498900e+01   \n",
       "max                                3.008450e+01   \n",
       "\n",
       "       secondary_cleaner.state.floatbank4_a_level  \\\n",
       "count                                 4859.000000   \n",
       "mean                                  -488.665140   \n",
       "std                                     44.392714   \n",
       "min                                   -799.704969   \n",
       "25%                                   -500.704004   \n",
       "50%                                   -499.892919   \n",
       "75%                                   -498.652030   \n",
       "max                                   -383.373053   \n",
       "\n",
       "       secondary_cleaner.state.floatbank4_b_air  \\\n",
       "count                              4.859000e+03   \n",
       "mean                               1.557025e+01   \n",
       "std                                4.927361e+00   \n",
       "min                                2.489718e-17   \n",
       "25%                                1.202172e+01   \n",
       "50%                                1.501240e+01   \n",
       "75%                                1.999949e+01   \n",
       "max                                2.398898e+01   \n",
       "\n",
       "       secondary_cleaner.state.floatbank4_b_level  \\\n",
       "count                                 4859.000000   \n",
       "mean                                  -464.176507   \n",
       "std                                     65.706994   \n",
       "min                                   -799.860767   \n",
       "25%                                   -500.196517   \n",
       "50%                                   -499.540776   \n",
       "75%                                   -400.302329   \n",
       "max                                   -114.250832   \n",
       "\n",
       "       secondary_cleaner.state.floatbank5_a_air  \\\n",
       "count                               4859.000000   \n",
       "mean                                  16.594103   \n",
       "std                                    5.724305   \n",
       "min                                   -0.371498   \n",
       "25%                                   11.073822   \n",
       "50%                                   16.631195   \n",
       "75%                                   19.983191   \n",
       "max                                   33.215996   \n",
       "\n",
       "       secondary_cleaner.state.floatbank5_a_level  \\\n",
       "count                                 4859.000000   \n",
       "mean                                  -490.815250   \n",
       "std                                     32.258443   \n",
       "min                                   -797.142475   \n",
       "25%                                   -500.483564   \n",
       "50%                                   -499.873136   \n",
       "75%                                   -498.852815   \n",
       "max                                   -288.963521   \n",
       "\n",
       "       secondary_cleaner.state.floatbank5_b_air  \\\n",
       "count                               4859.000000   \n",
       "mean                                  12.945971   \n",
       "std                                    5.533176   \n",
       "min                                    1.358469   \n",
       "25%                                    9.011890   \n",
       "50%                                   11.999417   \n",
       "75%                                   15.004198   \n",
       "max                                   24.177106   \n",
       "\n",
       "       secondary_cleaner.state.floatbank5_b_level  \\\n",
       "count                                 4859.000000   \n",
       "mean                                  -489.583564   \n",
       "std                                     37.084609   \n",
       "min                                   -800.006180   \n",
       "25%                                   -500.129913   \n",
       "50%                                   -499.955304   \n",
       "75%                                   -499.643776   \n",
       "max                                   -141.934397   \n",
       "\n",
       "       secondary_cleaner.state.floatbank6_a_air  \\\n",
       "count                               4859.000000   \n",
       "mean                                  19.053888   \n",
       "std                                    5.548996   \n",
       "min                                    0.160386   \n",
       "25%                                   14.963953   \n",
       "50%                                   19.960006   \n",
       "75%                                   24.974583   \n",
       "max                                   32.028529   \n",
       "\n",
       "       secondary_cleaner.state.floatbank6_a_level  \n",
       "count                                 4859.000000  \n",
       "mean                                  -504.678924  \n",
       "std                                     38.690186  \n",
       "min                                   -809.734800  \n",
       "25%                                   -500.668501  \n",
       "50%                                   -500.033769  \n",
       "75%                                   -499.460134  \n",
       "max                                   -104.427459  \n",
       "\n",
       "[8 rows x 52 columns]"
      ]
     },
     "execution_count": 10,
     "metadata": {},
     "output_type": "execute_result"
    }
   ],
   "source": [
    "test.describe()"
   ]
  },
  {
   "cell_type": "code",
   "execution_count": 11,
   "metadata": {},
   "outputs": [
    {
     "data": {
      "text/html": [
       "<div>\n",
       "<style scoped>\n",
       "    .dataframe tbody tr th:only-of-type {\n",
       "        vertical-align: middle;\n",
       "    }\n",
       "\n",
       "    .dataframe tbody tr th {\n",
       "        vertical-align: top;\n",
       "    }\n",
       "\n",
       "    .dataframe thead th {\n",
       "        text-align: right;\n",
       "    }\n",
       "</style>\n",
       "<table border=\"1\" class=\"dataframe\">\n",
       "  <thead>\n",
       "    <tr style=\"text-align: right;\">\n",
       "      <th></th>\n",
       "      <th>rougher.input.feed_au</th>\n",
       "      <th>rougher.input.feed_ag</th>\n",
       "      <th>rougher.input.feed_pb</th>\n",
       "      <th>rougher.input.feed_sol</th>\n",
       "      <th>rougher.input.feed_rate</th>\n",
       "      <th>rougher.input.feed_size</th>\n",
       "      <th>rougher.input.floatbank10_sulfate</th>\n",
       "      <th>rougher.input.floatbank10_xanthate</th>\n",
       "      <th>rougher.state.floatbank10_a_air</th>\n",
       "      <th>rougher.state.floatbank10_a_level</th>\n",
       "      <th>...</th>\n",
       "      <th>secondary_cleaner.output.tail_sol</th>\n",
       "      <th>final.output.concentrate_au</th>\n",
       "      <th>final.output.concentrate_ag</th>\n",
       "      <th>final.output.concentrate_pb</th>\n",
       "      <th>final.output.concentrate_sol</th>\n",
       "      <th>final.output.recovery</th>\n",
       "      <th>final.output.tail_au</th>\n",
       "      <th>final.output.tail_ag</th>\n",
       "      <th>final.output.tail_pb</th>\n",
       "      <th>final.output.tail_sol</th>\n",
       "    </tr>\n",
       "  </thead>\n",
       "  <tbody>\n",
       "    <tr>\n",
       "      <th>count</th>\n",
       "      <td>19439.000000</td>\n",
       "      <td>19439.000000</td>\n",
       "      <td>19339.000000</td>\n",
       "      <td>19340.000000</td>\n",
       "      <td>19428.000000</td>\n",
       "      <td>19294.000000</td>\n",
       "      <td>19405.000000</td>\n",
       "      <td>19431.000000</td>\n",
       "      <td>19438.000000</td>\n",
       "      <td>19438.000000</td>\n",
       "      <td>...</td>\n",
       "      <td>17691.000000</td>\n",
       "      <td>19439.000000</td>\n",
       "      <td>19438.000000</td>\n",
       "      <td>19438.000000</td>\n",
       "      <td>19228.000000</td>\n",
       "      <td>19439.000000</td>\n",
       "      <td>19439.000000</td>\n",
       "      <td>19438.000000</td>\n",
       "      <td>19338.000000</td>\n",
       "      <td>19433.000000</td>\n",
       "    </tr>\n",
       "    <tr>\n",
       "      <th>mean</th>\n",
       "      <td>8.266097</td>\n",
       "      <td>8.794927</td>\n",
       "      <td>3.598085</td>\n",
       "      <td>36.695114</td>\n",
       "      <td>478.320042</td>\n",
       "      <td>58.970310</td>\n",
       "      <td>12.334373</td>\n",
       "      <td>6.021474</td>\n",
       "      <td>1105.315068</td>\n",
       "      <td>-376.610690</td>\n",
       "      <td>...</td>\n",
       "      <td>7.167247</td>\n",
       "      <td>44.076513</td>\n",
       "      <td>5.168470</td>\n",
       "      <td>9.978895</td>\n",
       "      <td>9.501224</td>\n",
       "      <td>67.050208</td>\n",
       "      <td>3.042467</td>\n",
       "      <td>9.688589</td>\n",
       "      <td>2.705795</td>\n",
       "      <td>10.583728</td>\n",
       "    </tr>\n",
       "    <tr>\n",
       "      <th>std</th>\n",
       "      <td>1.955092</td>\n",
       "      <td>1.936847</td>\n",
       "      <td>1.049486</td>\n",
       "      <td>5.145445</td>\n",
       "      <td>105.373758</td>\n",
       "      <td>21.634478</td>\n",
       "      <td>3.427317</td>\n",
       "      <td>1.127263</td>\n",
       "      <td>160.826798</td>\n",
       "      <td>93.909667</td>\n",
       "      <td>...</td>\n",
       "      <td>3.916079</td>\n",
       "      <td>5.129784</td>\n",
       "      <td>1.372348</td>\n",
       "      <td>1.669240</td>\n",
       "      <td>2.787537</td>\n",
       "      <td>10.125840</td>\n",
       "      <td>0.922808</td>\n",
       "      <td>2.328642</td>\n",
       "      <td>0.949077</td>\n",
       "      <td>2.868782</td>\n",
       "    </tr>\n",
       "    <tr>\n",
       "      <th>min</th>\n",
       "      <td>0.010000</td>\n",
       "      <td>0.010000</td>\n",
       "      <td>0.010000</td>\n",
       "      <td>0.010000</td>\n",
       "      <td>0.002986</td>\n",
       "      <td>0.046369</td>\n",
       "      <td>0.001083</td>\n",
       "      <td>0.000568</td>\n",
       "      <td>-0.042069</td>\n",
       "      <td>-657.949759</td>\n",
       "      <td>...</td>\n",
       "      <td>0.000000</td>\n",
       "      <td>0.000000</td>\n",
       "      <td>0.000000</td>\n",
       "      <td>0.000000</td>\n",
       "      <td>0.000000</td>\n",
       "      <td>0.000000</td>\n",
       "      <td>0.000000</td>\n",
       "      <td>0.000000</td>\n",
       "      <td>0.000000</td>\n",
       "      <td>0.000000</td>\n",
       "    </tr>\n",
       "    <tr>\n",
       "      <th>25%</th>\n",
       "      <td>6.854384</td>\n",
       "      <td>7.237967</td>\n",
       "      <td>2.887280</td>\n",
       "      <td>34.207799</td>\n",
       "      <td>416.525453</td>\n",
       "      <td>47.435103</td>\n",
       "      <td>10.000362</td>\n",
       "      <td>5.398678</td>\n",
       "      <td>999.661867</td>\n",
       "      <td>-499.835165</td>\n",
       "      <td>...</td>\n",
       "      <td>3.845475</td>\n",
       "      <td>43.402215</td>\n",
       "      <td>4.251240</td>\n",
       "      <td>9.137262</td>\n",
       "      <td>7.722820</td>\n",
       "      <td>63.299712</td>\n",
       "      <td>2.461138</td>\n",
       "      <td>8.062878</td>\n",
       "      <td>2.040119</td>\n",
       "      <td>8.938947</td>\n",
       "    </tr>\n",
       "    <tr>\n",
       "      <th>50%</th>\n",
       "      <td>8.125839</td>\n",
       "      <td>8.593574</td>\n",
       "      <td>3.534895</td>\n",
       "      <td>37.202650</td>\n",
       "      <td>499.416120</td>\n",
       "      <td>54.610197</td>\n",
       "      <td>12.001174</td>\n",
       "      <td>6.008273</td>\n",
       "      <td>1001.072890</td>\n",
       "      <td>-300.263994</td>\n",
       "      <td>...</td>\n",
       "      <td>7.685827</td>\n",
       "      <td>45.011244</td>\n",
       "      <td>5.066094</td>\n",
       "      <td>10.102433</td>\n",
       "      <td>9.218961</td>\n",
       "      <td>68.172738</td>\n",
       "      <td>2.984909</td>\n",
       "      <td>9.743623</td>\n",
       "      <td>2.748730</td>\n",
       "      <td>10.622456</td>\n",
       "    </tr>\n",
       "    <tr>\n",
       "      <th>75%</th>\n",
       "      <td>9.769917</td>\n",
       "      <td>10.213771</td>\n",
       "      <td>4.244161</td>\n",
       "      <td>40.039133</td>\n",
       "      <td>550.172183</td>\n",
       "      <td>65.023044</td>\n",
       "      <td>14.716595</td>\n",
       "      <td>6.798051</td>\n",
       "      <td>1205.620588</td>\n",
       "      <td>-299.981998</td>\n",
       "      <td>...</td>\n",
       "      <td>10.411296</td>\n",
       "      <td>46.275313</td>\n",
       "      <td>5.895527</td>\n",
       "      <td>11.035769</td>\n",
       "      <td>10.947813</td>\n",
       "      <td>72.686642</td>\n",
       "      <td>3.571351</td>\n",
       "      <td>11.134294</td>\n",
       "      <td>3.333216</td>\n",
       "      <td>12.104271</td>\n",
       "    </tr>\n",
       "    <tr>\n",
       "      <th>max</th>\n",
       "      <td>13.731330</td>\n",
       "      <td>14.596026</td>\n",
       "      <td>7.142594</td>\n",
       "      <td>53.477742</td>\n",
       "      <td>717.508837</td>\n",
       "      <td>484.967466</td>\n",
       "      <td>36.118275</td>\n",
       "      <td>9.703448</td>\n",
       "      <td>1521.980372</td>\n",
       "      <td>-273.776101</td>\n",
       "      <td>...</td>\n",
       "      <td>26.000772</td>\n",
       "      <td>52.756638</td>\n",
       "      <td>16.001945</td>\n",
       "      <td>17.031899</td>\n",
       "      <td>19.615720</td>\n",
       "      <td>100.000000</td>\n",
       "      <td>8.245022</td>\n",
       "      <td>19.552149</td>\n",
       "      <td>5.804178</td>\n",
       "      <td>22.317730</td>\n",
       "    </tr>\n",
       "  </tbody>\n",
       "</table>\n",
       "<p>8 rows × 86 columns</p>\n",
       "</div>"
      ],
      "text/plain": [
       "       rougher.input.feed_au  rougher.input.feed_ag  rougher.input.feed_pb  \\\n",
       "count           19439.000000           19439.000000           19339.000000   \n",
       "mean                8.266097               8.794927               3.598085   \n",
       "std                 1.955092               1.936847               1.049486   \n",
       "min                 0.010000               0.010000               0.010000   \n",
       "25%                 6.854384               7.237967               2.887280   \n",
       "50%                 8.125839               8.593574               3.534895   \n",
       "75%                 9.769917              10.213771               4.244161   \n",
       "max                13.731330              14.596026               7.142594   \n",
       "\n",
       "       rougher.input.feed_sol  rougher.input.feed_rate  \\\n",
       "count            19340.000000             19428.000000   \n",
       "mean                36.695114               478.320042   \n",
       "std                  5.145445               105.373758   \n",
       "min                  0.010000                 0.002986   \n",
       "25%                 34.207799               416.525453   \n",
       "50%                 37.202650               499.416120   \n",
       "75%                 40.039133               550.172183   \n",
       "max                 53.477742               717.508837   \n",
       "\n",
       "       rougher.input.feed_size  rougher.input.floatbank10_sulfate  \\\n",
       "count             19294.000000                       19405.000000   \n",
       "mean                 58.970310                          12.334373   \n",
       "std                  21.634478                           3.427317   \n",
       "min                   0.046369                           0.001083   \n",
       "25%                  47.435103                          10.000362   \n",
       "50%                  54.610197                          12.001174   \n",
       "75%                  65.023044                          14.716595   \n",
       "max                 484.967466                          36.118275   \n",
       "\n",
       "       rougher.input.floatbank10_xanthate  rougher.state.floatbank10_a_air  \\\n",
       "count                        19431.000000                     19438.000000   \n",
       "mean                             6.021474                      1105.315068   \n",
       "std                              1.127263                       160.826798   \n",
       "min                              0.000568                        -0.042069   \n",
       "25%                              5.398678                       999.661867   \n",
       "50%                              6.008273                      1001.072890   \n",
       "75%                              6.798051                      1205.620588   \n",
       "max                              9.703448                      1521.980372   \n",
       "\n",
       "       rougher.state.floatbank10_a_level  ...  \\\n",
       "count                       19438.000000  ...   \n",
       "mean                         -376.610690  ...   \n",
       "std                            93.909667  ...   \n",
       "min                          -657.949759  ...   \n",
       "25%                          -499.835165  ...   \n",
       "50%                          -300.263994  ...   \n",
       "75%                          -299.981998  ...   \n",
       "max                          -273.776101  ...   \n",
       "\n",
       "       secondary_cleaner.output.tail_sol  final.output.concentrate_au  \\\n",
       "count                       17691.000000                 19439.000000   \n",
       "mean                            7.167247                    44.076513   \n",
       "std                             3.916079                     5.129784   \n",
       "min                             0.000000                     0.000000   \n",
       "25%                             3.845475                    43.402215   \n",
       "50%                             7.685827                    45.011244   \n",
       "75%                            10.411296                    46.275313   \n",
       "max                            26.000772                    52.756638   \n",
       "\n",
       "       final.output.concentrate_ag  final.output.concentrate_pb  \\\n",
       "count                 19438.000000                 19438.000000   \n",
       "mean                      5.168470                     9.978895   \n",
       "std                       1.372348                     1.669240   \n",
       "min                       0.000000                     0.000000   \n",
       "25%                       4.251240                     9.137262   \n",
       "50%                       5.066094                    10.102433   \n",
       "75%                       5.895527                    11.035769   \n",
       "max                      16.001945                    17.031899   \n",
       "\n",
       "       final.output.concentrate_sol  final.output.recovery  \\\n",
       "count                  19228.000000           19439.000000   \n",
       "mean                       9.501224              67.050208   \n",
       "std                        2.787537              10.125840   \n",
       "min                        0.000000               0.000000   \n",
       "25%                        7.722820              63.299712   \n",
       "50%                        9.218961              68.172738   \n",
       "75%                       10.947813              72.686642   \n",
       "max                       19.615720             100.000000   \n",
       "\n",
       "       final.output.tail_au  final.output.tail_ag  final.output.tail_pb  \\\n",
       "count          19439.000000          19438.000000          19338.000000   \n",
       "mean               3.042467              9.688589              2.705795   \n",
       "std                0.922808              2.328642              0.949077   \n",
       "min                0.000000              0.000000              0.000000   \n",
       "25%                2.461138              8.062878              2.040119   \n",
       "50%                2.984909              9.743623              2.748730   \n",
       "75%                3.571351             11.134294              3.333216   \n",
       "max                8.245022             19.552149              5.804178   \n",
       "\n",
       "       final.output.tail_sol  \n",
       "count           19433.000000  \n",
       "mean               10.583728  \n",
       "std                 2.868782  \n",
       "min                 0.000000  \n",
       "25%                 8.938947  \n",
       "50%                10.622456  \n",
       "75%                12.104271  \n",
       "max                22.317730  \n",
       "\n",
       "[8 rows x 86 columns]"
      ]
     },
     "execution_count": 11,
     "metadata": {},
     "output_type": "execute_result"
    }
   ],
   "source": [
    "full.describe()"
   ]
  },
  {
   "cell_type": "markdown",
   "metadata": {},
   "source": [
    "Промежуточные выводы:\n",
    "\n",
    "1. Во всех таблицах присутствуют пропуски данных, которые требуют дополнительной обработки и заполнения. Это может быть выполнено с использованием различных методов, таких как заполнение нулевыми значениями, средними значениями или интерполяцией.\n",
    "\n",
    "2. В выборке \"test\" отсутствуют некоторые признаки, которые присутствуют в таблицах \"full\" и \"train\". Это означает, что для проведения анализа и прогнозирования на основе этих признаков необходимо использовать только данные из таблиц \"full\" и \"train\".\n",
    "\n",
    "3. Целевыми признаками для анализа являются \"rougher.output.recovery\" и \"final.output.recovery\". Они являются ключевыми показателями для оценки эффективности процесса обогащения руды. Анализ и прогнозирование этих признаков могут быть полезными для оптимизации процесса и повышения его эффективности."
   ]
  },
  {
   "cell_type": "markdown",
   "metadata": {},
   "source": [
    "## Анализ данных"
   ]
  },
  {
   "cell_type": "code",
   "execution_count": 12,
   "metadata": {},
   "outputs": [],
   "source": [
    "def cft_calc(C, F, T):\n",
    "    \n",
    "    divident = (C*(F-T))\n",
    "    divider =(F*(C-T))\n",
    "    \n",
    "    rec = divident / divider * 100\n",
    "   \n",
    "    return rec"
   ]
  },
  {
   "cell_type": "code",
   "execution_count": 13,
   "metadata": {},
   "outputs": [
    {
     "data": {
      "text/plain": [
       "0        87.107763\n",
       "1        86.843261\n",
       "2        86.842308\n",
       "3        87.226430\n",
       "4        86.688794\n",
       "           ...    \n",
       "12332    87.684717\n",
       "12333    90.677361\n",
       "12334    89.574376\n",
       "12335    87.724007\n",
       "12336    88.890579\n",
       "Length: 12337, dtype: float64"
      ]
     },
     "execution_count": 13,
     "metadata": {},
     "output_type": "execute_result"
    }
   ],
   "source": [
    "necessary = train.dropna().reset_index()\n",
    "\n",
    "roc_au = necessary['rougher.output.concentrate_au']\n",
    "rif_au = necessary['rougher.input.feed_au']\n",
    "rot_au = necessary['rougher.output.tail_au']\n",
    "recovery = cft_calc(roc_au,rif_au,rot_au)\n",
    "recovery"
   ]
  },
  {
   "cell_type": "code",
   "execution_count": 14,
   "metadata": {},
   "outputs": [
    {
     "data": {
      "text/plain": [
       "9.906677443564516e-15"
      ]
     },
     "execution_count": 14,
     "metadata": {},
     "output_type": "execute_result"
    }
   ],
   "source": [
    "ror = necessary['rougher.output.recovery']\n",
    "\n",
    "mae(ror,recovery)"
   ]
  },
  {
   "cell_type": "markdown",
   "metadata": {},
   "source": [
    "Средняя абсолютная ошибка между значениями, полученными в результате расчетов и значениями признака rougher.output.recovery, является крайне незначительной (всего лишь 9.74 × 10 в степени -15). Следовательно, можно сделать вывод о правильности эффективности в выборке train."
   ]
  },
  {
   "cell_type": "code",
   "execution_count": 15,
   "metadata": {},
   "outputs": [
    {
     "data": {
      "text/plain": [
       "(False, False)"
      ]
     },
     "execution_count": 15,
     "metadata": {},
     "output_type": "execute_result"
    }
   ],
   "source": [
    "train = train.fillna(method='ffill')\n",
    "test = test.fillna(method='ffill')\n",
    "train.isna().values.any(),test.isna().values.any()"
   ]
  },
  {
   "cell_type": "markdown",
   "metadata": {},
   "source": [
    "Все отсутствующие признаки в выборке test относятся к типу float.<br>\n",
    "\n",
    "В test отсутствует 34 признака, из которых 30 относятся к типу output (параметры продукта), а 4 - к типу calculation (расчетные характеристики).\n",
    "\n",
    "Для дальнейшего анализа необходимо добавить в выборку test целевые признаки из полной выборки (full), а на этапе обучения удалить из выборки train признаки, отсутствующие в test."
   ]
  },
  {
   "cell_type": "code",
   "execution_count": 16,
   "metadata": {},
   "outputs": [],
   "source": [
    "full = full[(full['rougher.input.feed_ag'] >= 1) &\n",
    "            (full['rougher.input.feed_pb'] >= 1) &\n",
    "            (full['rougher.input.feed_sol'] >= 1) &\n",
    "            (full['rougher.input.feed_au'] >= 1) &\n",
    "            (full['rougher.output.concentrate_ag'] >= 1) &\n",
    "            (full['rougher.output.concentrate_pb'] >= 1) &\n",
    "            (full['rougher.output.concentrate_sol'] >= 1) &\n",
    "            (full['rougher.output.concentrate_au'] >= 1) &\n",
    "            (full['primary_cleaner.output.concentrate_ag'] >= 1) &\n",
    "            (full['primary_cleaner.output.concentrate_pb'] >= 1) &\n",
    "            (full['primary_cleaner.output.concentrate_sol'] >= 1) &\n",
    "            (full['primary_cleaner.output.concentrate_au'] >= 1) &\n",
    "            (full['final.output.concentrate_ag'] >= 1) &\n",
    "            (full['final.output.concentrate_pb'] >= 1) &\n",
    "            (full['final.output.concentrate_sol'] >= 1) &\n",
    "            (full['final.output.concentrate_au'] >= 1)]\n",
    "\n",
    "train = train[(train['rougher.input.feed_ag'] >= 1) &\n",
    "            (train['rougher.input.feed_pb'] >= 1) &\n",
    "            (train['rougher.input.feed_sol'] >= 1) &\n",
    "            (train['rougher.input.feed_au'] >= 1) &\n",
    "            (train['rougher.output.concentrate_ag'] >= 1) &\n",
    "            (train['rougher.output.concentrate_pb'] >= 1) &\n",
    "            (train['rougher.output.concentrate_sol'] >= 1) &\n",
    "            (train['rougher.output.concentrate_au'] >= 1) &\n",
    "            (train['primary_cleaner.output.concentrate_ag'] >= 1) &\n",
    "            (train['primary_cleaner.output.concentrate_pb'] >= 1) &\n",
    "            (train['primary_cleaner.output.concentrate_sol'] >= 1) &\n",
    "            (train['primary_cleaner.output.concentrate_au'] >= 1) &\n",
    "            (train['final.output.concentrate_ag'] >= 1) &\n",
    "            (train['final.output.concentrate_pb'] >= 1) &\n",
    "            (train['final.output.concentrate_sol'] >= 1) &\n",
    "            (train['final.output.concentrate_au'] >= 1)]\n",
    "\n",
    "test = test[(test['rougher.input.feed_ag'] >= 1) &\n",
    "            (test['rougher.input.feed_pb'] >= 1) &\n",
    "            (test['rougher.input.feed_sol'] >= 1) &\n",
    "            (test['rougher.input.feed_au'] >= 1)]"
   ]
  },
  {
   "cell_type": "code",
   "execution_count": 17,
   "metadata": {},
   "outputs": [
    {
     "data": {
      "image/png": "[encoded data removed]",
      "text/plain": [
       "<Figure size 864x288 with 1 Axes>"
      ]
     },
     "metadata": {
      "needs_background": "light"
     },
     "output_type": "display_data"
    }
   ],
   "source": [
    "ag = full[['rougher.input.feed_ag',\n",
    "            'rougher.output.concentrate_ag',\n",
    "            'primary_cleaner.output.concentrate_ag',\n",
    "            'final.output.concentrate_ag']].mean(axis=0)\n",
    "\n",
    "pb = full[['rougher.input.feed_pb',\n",
    "            'rougher.output.concentrate_pb',\n",
    "            'primary_cleaner.output.concentrate_pb',\n",
    "            'final.output.concentrate_pb']].mean(axis=0)\n",
    "\n",
    "au = full[['rougher.input.feed_au',\n",
    "            'rougher.output.concentrate_au',\n",
    "            'primary_cleaner.output.concentrate_au',\n",
    "            'final.output.concentrate_au']].mean(axis=0)\n",
    "\n",
    "ag.plot(style='-o', grid=True, figsize=(12,4), label='Ag')\n",
    "pb.plot(style='-o', grid=True, figsize=(12,4), label='Pb')\n",
    "au.plot(style='-o', grid=True, figsize=(12,4), label='Au')\n",
    "\n",
    "plt.title('Изменения концентраций Ag, Pb, Au на этапах очистки')\n",
    "plt.legend()\n",
    "plt.show()"
   ]
  },
  {
   "cell_type": "markdown",
   "metadata": {},
   "source": [
    "По результатам анализа, можно сделать следующие выводы:\n",
    "\n",
    "1. Концентрация серебра (Ag) снижается на этапе флотации. Это может указывать на то, что значительное количество серебра остается в отвальных хвостах. Возможно, стоит пересмотреть технологию очистки с целью увеличения извлечения серебра.\n",
    "2. Концентрация свинца (Pb) повышается с каждым этапом обработки, хотя это происходит с небольшими темпами. Возможно, стоит проанализировать процессы обогащения свинца на предмет оптимизации и увеличения эффективности извлечения.\n",
    "3. Концентрация золота (Au) также повышается с каждым этапом обработки, причем это происходит более быстро. Это положительный фактор, так как конечным продуктом является золото. Видимо, технология обогащения золота работает достаточно эффективно, и не требует значительного изменения."
   ]
  },
  {
   "cell_type": "code",
   "execution_count": 18,
   "metadata": {},
   "outputs": [
    {
     "data": {
      "text/html": [
       "<div>\n",
       "<style scoped>\n",
       "    .dataframe tbody tr th:only-of-type {\n",
       "        vertical-align: middle;\n",
       "    }\n",
       "\n",
       "    .dataframe tbody tr th {\n",
       "        vertical-align: top;\n",
       "    }\n",
       "\n",
       "    .dataframe thead th {\n",
       "        text-align: right;\n",
       "    }\n",
       "</style>\n",
       "<table border=\"1\" class=\"dataframe\">\n",
       "  <thead>\n",
       "    <tr style=\"text-align: right;\">\n",
       "      <th></th>\n",
       "      <th>rougher_output</th>\n",
       "      <th>cleaner_output</th>\n",
       "      <th>fin</th>\n",
       "    </tr>\n",
       "  </thead>\n",
       "  <tbody>\n",
       "    <tr>\n",
       "      <th>0</th>\n",
       "      <td>66.424950</td>\n",
       "      <td>72.640924</td>\n",
       "      <td>63.644396</td>\n",
       "    </tr>\n",
       "    <tr>\n",
       "      <th>1</th>\n",
       "      <td>67.012710</td>\n",
       "      <td>72.543485</td>\n",
       "      <td>63.957723</td>\n",
       "    </tr>\n",
       "    <tr>\n",
       "      <th>2</th>\n",
       "      <td>66.103793</td>\n",
       "      <td>72.095042</td>\n",
       "      <td>64.311180</td>\n",
       "    </tr>\n",
       "    <tr>\n",
       "      <th>3</th>\n",
       "      <td>65.752751</td>\n",
       "      <td>59.957723</td>\n",
       "      <td>63.573449</td>\n",
       "    </tr>\n",
       "    <tr>\n",
       "      <th>4</th>\n",
       "      <td>65.908382</td>\n",
       "      <td>71.321010</td>\n",
       "      <td>64.004667</td>\n",
       "    </tr>\n",
       "    <tr>\n",
       "      <th>...</th>\n",
       "      <td>...</td>\n",
       "      <td>...</td>\n",
       "      <td>...</td>\n",
       "    </tr>\n",
       "    <tr>\n",
       "      <th>19434</th>\n",
       "      <td>62.875473</td>\n",
       "      <td>47.398055</td>\n",
       "      <td>65.234882</td>\n",
       "    </tr>\n",
       "    <tr>\n",
       "      <th>19435</th>\n",
       "      <td>64.971535</td>\n",
       "      <td>71.707167</td>\n",
       "      <td>65.978097</td>\n",
       "    </tr>\n",
       "    <tr>\n",
       "      <th>19436</th>\n",
       "      <td>65.149381</td>\n",
       "      <td>72.833250</td>\n",
       "      <td>65.560640</td>\n",
       "    </tr>\n",
       "    <tr>\n",
       "      <th>19437</th>\n",
       "      <td>66.016067</td>\n",
       "      <td>56.436665</td>\n",
       "      <td>64.657968</td>\n",
       "    </tr>\n",
       "    <tr>\n",
       "      <th>19438</th>\n",
       "      <td>65.408849</td>\n",
       "      <td>71.887397</td>\n",
       "      <td>64.185200</td>\n",
       "    </tr>\n",
       "  </tbody>\n",
       "</table>\n",
       "<p>17908 rows × 3 columns</p>\n",
       "</div>"
      ],
      "text/plain": [
       "       rougher_output  cleaner_output        fin\n",
       "0           66.424950       72.640924  63.644396\n",
       "1           67.012710       72.543485  63.957723\n",
       "2           66.103793       72.095042  64.311180\n",
       "3           65.752751       59.957723  63.573449\n",
       "4           65.908382       71.321010  64.004667\n",
       "...               ...             ...        ...\n",
       "19434       62.875473       47.398055  65.234882\n",
       "19435       64.971535       71.707167  65.978097\n",
       "19436       65.149381       72.833250  65.560640\n",
       "19437       66.016067       56.436665  64.657968\n",
       "19438       65.408849       71.887397  64.185200\n",
       "\n",
       "[17908 rows x 3 columns]"
      ]
     },
     "execution_count": 18,
     "metadata": {},
     "output_type": "execute_result"
    }
   ],
   "source": [
    "concentrate = pd.DataFrame()\n",
    "\n",
    "concentrate['rougher_output'] = full['rougher.output.concentrate_ag'] \\\n",
    "+full['rougher.output.concentrate_pb'] \\\n",
    "+full['rougher.output.concentrate_sol'] \\\n",
    "+full['rougher.output.concentrate_au']\n",
    "\n",
    "concentrate['cleaner_output'] = full['primary_cleaner.output.concentrate_ag'] \\\n",
    "+full['primary_cleaner.output.concentrate_pb'] \\\n",
    "+full['primary_cleaner.output.concentrate_sol'] \\\n",
    "+full['primary_cleaner.output.concentrate_au']\n",
    "\n",
    "concentrate['fin'] = full['final.output.concentrate_ag'] \\\n",
    "+full['final.output.concentrate_pb'] \\\n",
    "+full['final.output.concentrate_sol'] \\\n",
    "+full['final.output.concentrate_au']\n",
    "\n",
    "concentrate"
   ]
  },
  {
   "cell_type": "code",
   "execution_count": 19,
   "metadata": {},
   "outputs": [
    {
     "data": {
      "image/png": "[encoded data removed]",
      "text/plain": [
       "<Figure size 432x288 with 1 Axes>"
      ]
     },
     "metadata": {
      "needs_background": "light"
     },
     "output_type": "display_data"
    }
   ],
   "source": [
    "hist1 = concentrate['rougher_output']\n",
    "hist2 = concentrate['cleaner_output']\n",
    "hist3 = concentrate['fin']\n",
    "\n",
    "hist1.hist(bins=150, color='red', label='rougher_output', range=(0, 100), alpha=0.6)\n",
    "hist2.hist(bins=150, color='blue', label='cleaner_output', range=(0, 100), alpha=0.6)\n",
    "hist3.hist(bins=150, color='green', label='fin', range=(0, 100), alpha=0.6)\n",
    "\n",
    "plt.rcParams['figure.figsize'] = (20, 5)\n",
    "plt.legend()\n",
    "plt.title('Распределение концентрации всех металлов на разных стадиях')\n",
    "plt.show()"
   ]
  },
  {
   "cell_type": "markdown",
   "metadata": {},
   "source": [
    "Промежуточные выводы:\n",
    "\n",
    "Обнаружено наличие выброса значения нуля. Вероятно, это связано с данными об неудачных заборах руды, которые не содержат необходимых веществ. Для более точной анализа эффективных заборов руды необходимо удалить такие выбросы из всех выборок.\n",
    "\n",
    "На этапе fin наблюдается сосредоточение распределения концентрации веществ в узком диапазоне [65, 75]. Это сравнительно более узкое распределение по сравнению с предыдущими стадиями."
   ]
  },
  {
   "cell_type": "code",
   "execution_count": 20,
   "metadata": {},
   "outputs": [
    {
     "data": {
      "image/png": "[encoded data removed]",
      "text/plain": [
       "<Figure size 1440x360 with 1 Axes>"
      ]
     },
     "metadata": {
      "needs_background": "light"
     },
     "output_type": "display_data"
    }
   ],
   "source": [
    "hist0 = train['rougher.input.feed_size']\n",
    "histogram = test['rougher.input.feed_size']\n",
    "\n",
    "plt.hist(hist0, bins=100, color='red', range=(0, 150), label='train', alpha=0.5)\n",
    "plt.hist(histogram, bins=100, color='blue', range=(0, 150), label='train', alpha=0.5)\n",
    "plt.legend()\n",
    "plt.title('Распределение на этапе флотации')\n",
    "plt.show()"
   ]
  },
  {
   "cell_type": "code",
   "execution_count": 21,
   "metadata": {},
   "outputs": [
    {
     "data": {
      "image/png": "[encoded data removed]",
      "text/plain": [
       "<Figure size 1440x360 with 1 Axes>"
      ]
     },
     "metadata": {
      "needs_background": "light"
     },
     "output_type": "display_data"
    }
   ],
   "source": [
    "graph = train['primary_cleaner.input.feed_size']\n",
    "graph0 = test['primary_cleaner.input.feed_size']\n",
    "\n",
    "plt.hist(graph, bins=100, color='red', range=(5, 10), label='train', alpha=0.5)\n",
    "plt.hist(graph0, bins=100, color='blue', range=(5, 10), label='test', alpha=0.5)\n",
    "\n",
    "plt.legend()\n",
    "plt.title('Распределения на этапе первичной очистки')\n",
    "plt.show()"
   ]
  },
  {
   "cell_type": "markdown",
   "metadata": {},
   "source": [
    "Выводы:\n",
    "\n",
    "В ходе процесса флотации было обнаружено, что размеры гранул на обучающей выборке не превышают 55, а на тестовой выборке - 45. В свою очередь, при первичной очистке размеры гранул не превышали 7,4 на обучающей выборке и 7,7 на тестовой выборке. Следует отметить, что распределение размеров гранул на этапе первичной очистки напоминает нормальное распределение, при этом, на тестовой выборке объекты сконцентрированы в интервале от 6,7 до 7,7. Это говорит о том, что размеры гранул на данном этапе имеют примерно одинаковые значения."
   ]
  },
  {
   "cell_type": "code",
   "execution_count": 22,
   "metadata": {},
   "outputs": [
    {
     "data": {
      "image/png": "[encoded data removed]",
      "text/plain": [
       "<Figure size 1440x360 with 1 Axes>"
      ]
     },
     "metadata": {
      "needs_background": "light"
     },
     "output_type": "display_data"
    },
    {
     "data": {
      "image/png": "[encoded data removed]",
      "text/plain": [
       "<Figure size 1440x360 with 1 Axes>"
      ]
     },
     "metadata": {
      "needs_background": "light"
     },
     "output_type": "display_data"
    }
   ],
   "source": [
    "sns.kdeplot(train['rougher.input.feed_size'], label='Выборка 1')\n",
    "sns.kdeplot(test['rougher.input.feed_size'], label='Выборка 2')\n",
    "\n",
    "plt.legend()\n",
    "plt.xlabel('Значение')\n",
    "plt.ylabel('Доля относительно датасета')\n",
    "plt.title('График плотности')\n",
    "plt.show()\n",
    "\n",
    "\n",
    "sns.kdeplot(train['primary_cleaner.input.feed_size'], label='Выборка 1')\n",
    "sns.kdeplot(test['primary_cleaner.input.feed_size'], label='Выборка 2')\n",
    "\n",
    "plt.legend()\n",
    "plt.xlabel('Значение')\n",
    "plt.ylabel('Доля относительно датасета')\n",
    "plt.title('График плотности')\n",
    "plt.show()"
   ]
  },
  {
   "cell_type": "markdown",
   "metadata": {},
   "source": [
    "## Модель"
   ]
  },
  {
   "cell_type": "code",
   "execution_count": 23,
   "metadata": {
    "scrolled": true
   },
   "outputs": [
    {
     "name": "stdout",
     "output_type": "stream",
     "text": [
      "<class 'pandas.core.frame.DataFrame'>\n",
      "Int64Index: 4800 entries, 0 to 4859\n",
      "Data columns (total 53 columns):\n",
      " #   Column                                      Non-Null Count  Dtype  \n",
      "---  ------                                      --------------  -----  \n",
      " 0   date                                        4800 non-null   object \n",
      " 1   rougher.input.feed_au                       4800 non-null   float64\n",
      " 2   rougher.input.feed_ag                       4800 non-null   float64\n",
      " 3   rougher.input.feed_pb                       4800 non-null   float64\n",
      " 4   rougher.input.feed_sol                      4800 non-null   float64\n",
      " 5   rougher.input.feed_rate                     4800 non-null   float64\n",
      " 6   rougher.input.feed_size                     4800 non-null   float64\n",
      " 7   rougher.input.floatbank10_sulfate           4800 non-null   float64\n",
      " 8   rougher.input.floatbank10_xanthate          4800 non-null   float64\n",
      " 9   rougher.state.floatbank10_a_air             4800 non-null   float64\n",
      " 10  rougher.state.floatbank10_a_level           4800 non-null   float64\n",
      " 11  rougher.state.floatbank10_b_air             4800 non-null   float64\n",
      " 12  rougher.state.floatbank10_b_level           4800 non-null   float64\n",
      " 13  rougher.state.floatbank10_c_air             4800 non-null   float64\n",
      " 14  rougher.state.floatbank10_c_level           4800 non-null   float64\n",
      " 15  rougher.state.floatbank10_d_air             4800 non-null   float64\n",
      " 16  rougher.state.floatbank10_d_level           4800 non-null   float64\n",
      " 17  rougher.state.floatbank10_e_air             4800 non-null   float64\n",
      " 18  rougher.state.floatbank10_e_level           4800 non-null   float64\n",
      " 19  rougher.state.floatbank10_f_air             4800 non-null   float64\n",
      " 20  rougher.state.floatbank10_f_level           4800 non-null   float64\n",
      " 21  rougher.input.floatbank11_sulfate           4800 non-null   float64\n",
      " 22  rougher.input.floatbank11_xanthate          4800 non-null   float64\n",
      " 23  primary_cleaner.input.sulfate               4800 non-null   float64\n",
      " 24  primary_cleaner.input.depressant            4800 non-null   float64\n",
      " 25  primary_cleaner.input.feed_size             4800 non-null   float64\n",
      " 26  primary_cleaner.input.xanthate              4800 non-null   float64\n",
      " 27  primary_cleaner.state.floatbank8_a_air      4800 non-null   float64\n",
      " 28  primary_cleaner.state.floatbank8_a_level    4800 non-null   float64\n",
      " 29  primary_cleaner.state.floatbank8_b_air      4800 non-null   float64\n",
      " 30  primary_cleaner.state.floatbank8_b_level    4800 non-null   float64\n",
      " 31  primary_cleaner.state.floatbank8_c_air      4800 non-null   float64\n",
      " 32  primary_cleaner.state.floatbank8_c_level    4800 non-null   float64\n",
      " 33  primary_cleaner.state.floatbank8_d_air      4800 non-null   float64\n",
      " 34  primary_cleaner.state.floatbank8_d_level    4800 non-null   float64\n",
      " 35  secondary_cleaner.state.floatbank2_a_air    4800 non-null   float64\n",
      " 36  secondary_cleaner.state.floatbank2_a_level  4800 non-null   float64\n",
      " 37  secondary_cleaner.state.floatbank2_b_air    4800 non-null   float64\n",
      " 38  secondary_cleaner.state.floatbank2_b_level  4800 non-null   float64\n",
      " 39  secondary_cleaner.state.floatbank3_a_air    4800 non-null   float64\n",
      " 40  secondary_cleaner.state.floatbank3_a_level  4800 non-null   float64\n",
      " 41  secondary_cleaner.state.floatbank3_b_air    4800 non-null   float64\n",
      " 42  secondary_cleaner.state.floatbank3_b_level  4800 non-null   float64\n",
      " 43  secondary_cleaner.state.floatbank4_a_air    4800 non-null   float64\n",
      " 44  secondary_cleaner.state.floatbank4_a_level  4800 non-null   float64\n",
      " 45  secondary_cleaner.state.floatbank4_b_air    4800 non-null   float64\n",
      " 46  secondary_cleaner.state.floatbank4_b_level  4800 non-null   float64\n",
      " 47  secondary_cleaner.state.floatbank5_a_air    4800 non-null   float64\n",
      " 48  secondary_cleaner.state.floatbank5_a_level  4800 non-null   float64\n",
      " 49  secondary_cleaner.state.floatbank5_b_air    4800 non-null   float64\n",
      " 50  secondary_cleaner.state.floatbank5_b_level  4800 non-null   float64\n",
      " 51  secondary_cleaner.state.floatbank6_a_air    4800 non-null   float64\n",
      " 52  secondary_cleaner.state.floatbank6_a_level  4800 non-null   float64\n",
      "dtypes: float64(52), object(1)\n",
      "memory usage: 2.0+ MB\n"
     ]
    }
   ],
   "source": [
    "test.info()"
   ]
  },
  {
   "cell_type": "code",
   "execution_count": 24,
   "metadata": {},
   "outputs": [],
   "source": [
    "STATE = 12345"
   ]
  },
  {
   "cell_type": "code",
   "execution_count": 39,
   "metadata": {},
   "outputs": [],
   "source": [
    "def smape_scorer(y_true,y_pred):\n",
    "    smapeb = abs((100*abs(y_true-y_pred)/((abs(y_true)+abs(y_pred))/2)).mean())\n",
    "    return smapeb\n",
    "\n",
    "def smape_final(smape_rough, smape_final):\n",
    "    return (0.25*smape_rough + 0.75*smape_final)\n",
    "\n",
    "def smape_unweighted(y_true, y_pred):\n",
    "    error = abs(y_true - y_pred)\n",
    "    scale = (abs(y_true) + abs(y_pred)) / 2 + 0.000000001\n",
    "    result = (error / scale).mean()\n",
    "    return result * 100\n",
    "\n",
    "def sMAPE_calculator(y_target, y_predict):\n",
    "    smapes = np.mean(abs(y_target - y_predict) / ((abs(y_target) + abs(y_predict)) / 2)) * 100\n",
    "    return smapes"
   ]
  },
  {
   "cell_type": "code",
   "execution_count": 52,
   "metadata": {},
   "outputs": [],
   "source": [
    "def calculate_smape(true_values, predictions):\n",
    "    absolute_difference = abs(true_values - predictions)\n",
    "    sum_values = true_values + predictions\n",
    "    smape = 2 * absolute_difference / sum_values\n",
    "    smape_mean = smape.mean()\n",
    "    return smape_mean * 100\n",
    "\n",
    "def calculate_weighted_smape(smape_model1, smape_model2):\n",
    "    weighted_smape = (2 * smape_model1 + smape_model2) / 3\n",
    "    return weighted_smape"
   ]
  },
  {
   "cell_type": "code",
   "execution_count": 56,
   "metadata": {},
   "outputs": [
    {
     "name": "stdout",
     "output_type": "stream",
     "text": [
      "['rougher.calculation.sulfate_to_au_concentrate', 'rougher.calculation.floatbank10_sulfate_to_au_feed', 'rougher.calculation.floatbank11_sulfate_to_au_feed', 'rougher.calculation.au_pb_ratio', 'rougher.output.concentrate_au', 'rougher.output.concentrate_ag', 'rougher.output.concentrate_pb', 'rougher.output.concentrate_sol', 'rougher.output.tail_au', 'rougher.output.tail_ag', 'rougher.output.tail_pb', 'rougher.output.tail_sol', 'primary_cleaner.output.concentrate_au', 'primary_cleaner.output.concentrate_ag', 'primary_cleaner.output.concentrate_pb', 'primary_cleaner.output.concentrate_sol', 'primary_cleaner.output.tail_au', 'primary_cleaner.output.tail_ag', 'primary_cleaner.output.tail_pb', 'primary_cleaner.output.tail_sol', 'secondary_cleaner.output.tail_au', 'secondary_cleaner.output.tail_ag', 'secondary_cleaner.output.tail_pb', 'secondary_cleaner.output.tail_sol', 'final.output.concentrate_au', 'final.output.concentrate_ag', 'final.output.concentrate_pb', 'final.output.concentrate_sol', 'final.output.tail_au', 'final.output.tail_ag', 'final.output.tail_pb', 'final.output.tail_sol']\n"
     ]
    },
    {
     "data": {
      "text/plain": [
       "((13613, 54), (13613,), (13613,), (13613,))"
      ]
     },
     "execution_count": 56,
     "metadata": {},
     "output_type": "execute_result"
    }
   ],
   "source": [
    "not_included_to_test = []\n",
    "for i in range(len(train.columns)):\n",
    "    if train.columns[i] not in test.columns:\n",
    "        not_included_to_test.append(train.columns[i])\n",
    "print(not_included_to_test)\n",
    "\n",
    "target_train = train['rougher.output.recovery']\n",
    "target_train_fin = train['final.output.recovery']\n",
    "\n",
    "features_train_final = train.drop(not_included_to_test,axis=1)\n",
    "features_train_final = features_train_final.drop(['date'],\n",
    "axis=1)\n",
    "target_train_final = train['final.output.recovery']\n",
    "\n",
    "features_train_final.shape, target_train.shape, target_train_fin.shape, target_train_final.shape"
   ]
  },
  {
   "cell_type": "code",
   "execution_count": 49,
   "metadata": {},
   "outputs": [],
   "source": [
    "score = make_scorer(calculate_smape, greater_is_better = False) "
   ]
  },
  {
   "cell_type": "code",
   "execution_count": 28,
   "metadata": {},
   "outputs": [],
   "source": [
    "model_rfr = make_pipeline(StandardScaler(), RandomForestRegressor())\n",
    "\n",
    "model_dtr = make_pipeline(StandardScaler(), DecisionTreeRegressor())\n",
    "\n",
    "model_lr = make_pipeline(StandardScaler(), LinearRegression())\n",
    "\n",
    "\n",
    "param_rfr = {'randomforestregressor__n_estimators':[1,100],\n",
    "                  'randomforestregressor__max_depth':[1,10],\n",
    "                  'randomforestregressor__random_state':[12345],\n",
    "                  'randomforestregressor__n_jobs':[-1]}\n",
    "\n",
    "param_dtr = {'decisiontreeregressor__max_depth':[1,10]}\n",
    "\n",
    "param_lr = {'linearregression__normalize':[False]}"
   ]
  },
  {
   "cell_type": "code",
   "execution_count": 29,
   "metadata": {},
   "outputs": [],
   "source": [
    "rough_rfr = GridSearchCV(model_rfr, param_grid=param_rfr, cv=5, scoring=score)\n",
    "final_rfr = GridSearchCV(model_rfr, param_grid=param_rfr, cv=5, scoring=score)\n",
    "\n",
    "rough_dtr = GridSearchCV(model_dtr, param_grid=param_dtr, cv=5, scoring=score)\n",
    "final_dtr = GridSearchCV(model_dtr, param_grid=param_dtr, cv=5, scoring=score)\n",
    "\n",
    "rough_lr = GridSearchCV(model_lr, param_grid=param_lr, scoring=score)\n",
    "final_lr = GridSearchCV(model_lr, param_grid=param_lr, scoring=score)"
   ]
  },
  {
   "cell_type": "code",
   "execution_count": 30,
   "metadata": {},
   "outputs": [
    {
     "data": {
      "text/plain": [
       "GridSearchCV(estimator=Pipeline(steps=[('standardscaler', StandardScaler()),\n",
       "                                       ('linearregression',\n",
       "                                        LinearRegression())]),\n",
       "             param_grid={'linearregression__normalize': [False]},\n",
       "             scoring=make_scorer(smape_scorer, greater_is_better=False))"
      ]
     },
     "execution_count": 30,
     "metadata": {},
     "output_type": "execute_result"
    }
   ],
   "source": [
    "rough_rfr.fit(features_train_final, target_train)\n",
    "final_rfr.fit(features_train_final, target_train_final)\n",
    "\n",
    "rough_dtr.fit(features_train_final, target_train)\n",
    "final_dtr.fit(features_train_final, target_train_final)\n",
    "\n",
    "rough_lr.fit(features_train_final, target_train)\n",
    "final_lr.fit(features_train_final, target_train_final)"
   ]
  },
  {
   "cell_type": "code",
   "execution_count": 69,
   "metadata": {},
   "outputs": [
    {
     "name": "stdout",
     "output_type": "stream",
     "text": [
      "Rougher, лучший результат Случайного леса    = -6.808154009846916\n",
      "Rougher, лучший результат Дерева решений     = -7.16096533475435\n",
      "Rougher, лучший результат Линейной регрессии = -7.005146464308486\n",
      "\n",
      "Final, лучший результат Случайного леса    = -8.745472523815423\n",
      "Final, лучший результат Дерева решений     = -8.804727299125998\n",
      "Final, лучший результат Линейной регрессии = -9.285261832443027\n",
      "\n",
      "sMAPE по Случайному лесу    = 24.911470125973512\n",
      "sMAPE по Дереву решений     = 20.59117636622361\n",
      "sMAPE по Линейной регрессии = 27.993348310481426\n"
     ]
    }
   ],
   "source": [
    "bs_rough_rfr = rough_rfr.best_score_\n",
    "bs_final_rfr = final_rfr.best_score_\n",
    "\n",
    "bs_rough_dtr = rough_dtr.best_score_\n",
    "bs_final_dtr = final_dtr.best_score_\n",
    "\n",
    "bs_rough_lr = rough_lr.best_score_\n",
    "bs_final_lr = final_lr.best_score_\n",
    "\n",
    "smape_rfr = smape_unweighted(bs_rough_rfr, bs_final_rfr)\n",
    "smape_dtr = smape_unweighted(bs_rough_dtr, bs_final_dtr)\n",
    "smape_lr = smape_unweighted(bs_rough_lr, bs_final_lr)\n",
    "\n",
    "print('Rougher, лучший результат Случайного леса    =', bs_rough_rfr)\n",
    "print('Rougher, лучший результат Дерева решений     =', bs_rough_dtr)\n",
    "print('Rougher, лучший результат Линейной регрессии =', bs_rough_lr)\n",
    "print()\n",
    "print('Final, лучший результат Случайного леса    =', bs_final_rfr)\n",
    "print('Final, лучший результат Дерева решений     =', bs_final_dtr)\n",
    "print('Final, лучший результат Линейной регрессии =', bs_final_lr)\n",
    "print()\n",
    "print('sMAPE по Случайному лесу    =', smape_rfr)\n",
    "print('sMAPE по Дереву решений     =', smape_dtr)\n",
    "print('sMAPE по Линейной регрессии =', smape_lr)"
   ]
  },
  {
   "cell_type": "code",
   "execution_count": 68,
   "metadata": {},
   "outputs": [
    {
     "name": "stdout",
     "output_type": "stream",
     "text": [
      "Итоговое sMAPE Случайного леса = -8.261142895323296\n",
      "Итоговое sMAPE Дерева решений = -8.393786808033086\n",
      "Итоговое sMAPE Линейной регрессии = -8.715232990409392\n"
     ]
    }
   ],
   "source": [
    "fin_smape_rfr = smape_final(bs_rough_rfr, bs_final_rfr)\n",
    "fin_smape_dtr = smape_final(bs_rough_dtr, bs_final_dtr)\n",
    "fin_smape_lr = smape_final(bs_rough_lr, bs_final_lr)\n",
    "\n",
    "print('Итоговое sMAPE Случайного леса =', fin_smape_rfr)\n",
    "print('Итоговое sMAPE Дерева решений =', fin_smape_dtr)\n",
    "print('Итоговое sMAPE Линейной регрессии =', fin_smape_lr)"
   ]
  },
  {
   "cell_type": "code",
   "execution_count": 33,
   "metadata": {},
   "outputs": [
    {
     "name": "stdout",
     "output_type": "stream",
     "text": [
      "<class 'pandas.core.frame.DataFrame'>\n",
      "Int64Index: 4800 entries, 0 to 4799\n",
      "Data columns (total 55 columns):\n",
      " #   Column                                      Non-Null Count  Dtype  \n",
      "---  ------                                      --------------  -----  \n",
      " 0   date                                        4800 non-null   object \n",
      " 1   rougher.input.feed_au                       4800 non-null   float64\n",
      " 2   rougher.input.feed_ag                       4800 non-null   float64\n",
      " 3   rougher.input.feed_pb                       4800 non-null   float64\n",
      " 4   rougher.input.feed_sol                      4800 non-null   float64\n",
      " 5   rougher.input.feed_rate                     4800 non-null   float64\n",
      " 6   rougher.input.feed_size                     4800 non-null   float64\n",
      " 7   rougher.input.floatbank10_sulfate           4800 non-null   float64\n",
      " 8   rougher.input.floatbank10_xanthate          4800 non-null   float64\n",
      " 9   rougher.state.floatbank10_a_air             4800 non-null   float64\n",
      " 10  rougher.state.floatbank10_a_level           4800 non-null   float64\n",
      " 11  rougher.state.floatbank10_b_air             4800 non-null   float64\n",
      " 12  rougher.state.floatbank10_b_level           4800 non-null   float64\n",
      " 13  rougher.state.floatbank10_c_air             4800 non-null   float64\n",
      " 14  rougher.state.floatbank10_c_level           4800 non-null   float64\n",
      " 15  rougher.state.floatbank10_d_air             4800 non-null   float64\n",
      " 16  rougher.state.floatbank10_d_level           4800 non-null   float64\n",
      " 17  rougher.state.floatbank10_e_air             4800 non-null   float64\n",
      " 18  rougher.state.floatbank10_e_level           4800 non-null   float64\n",
      " 19  rougher.state.floatbank10_f_air             4800 non-null   float64\n",
      " 20  rougher.state.floatbank10_f_level           4800 non-null   float64\n",
      " 21  rougher.input.floatbank11_sulfate           4800 non-null   float64\n",
      " 22  rougher.input.floatbank11_xanthate          4800 non-null   float64\n",
      " 23  primary_cleaner.input.sulfate               4800 non-null   float64\n",
      " 24  primary_cleaner.input.depressant            4800 non-null   float64\n",
      " 25  primary_cleaner.input.feed_size             4800 non-null   float64\n",
      " 26  primary_cleaner.input.xanthate              4800 non-null   float64\n",
      " 27  primary_cleaner.state.floatbank8_a_air      4800 non-null   float64\n",
      " 28  primary_cleaner.state.floatbank8_a_level    4800 non-null   float64\n",
      " 29  primary_cleaner.state.floatbank8_b_air      4800 non-null   float64\n",
      " 30  primary_cleaner.state.floatbank8_b_level    4800 non-null   float64\n",
      " 31  primary_cleaner.state.floatbank8_c_air      4800 non-null   float64\n",
      " 32  primary_cleaner.state.floatbank8_c_level    4800 non-null   float64\n",
      " 33  primary_cleaner.state.floatbank8_d_air      4800 non-null   float64\n",
      " 34  primary_cleaner.state.floatbank8_d_level    4800 non-null   float64\n",
      " 35  secondary_cleaner.state.floatbank2_a_air    4800 non-null   float64\n",
      " 36  secondary_cleaner.state.floatbank2_a_level  4800 non-null   float64\n",
      " 37  secondary_cleaner.state.floatbank2_b_air    4800 non-null   float64\n",
      " 38  secondary_cleaner.state.floatbank2_b_level  4800 non-null   float64\n",
      " 39  secondary_cleaner.state.floatbank3_a_air    4800 non-null   float64\n",
      " 40  secondary_cleaner.state.floatbank3_a_level  4800 non-null   float64\n",
      " 41  secondary_cleaner.state.floatbank3_b_air    4800 non-null   float64\n",
      " 42  secondary_cleaner.state.floatbank3_b_level  4800 non-null   float64\n",
      " 43  secondary_cleaner.state.floatbank4_a_air    4800 non-null   float64\n",
      " 44  secondary_cleaner.state.floatbank4_a_level  4800 non-null   float64\n",
      " 45  secondary_cleaner.state.floatbank4_b_air    4800 non-null   float64\n",
      " 46  secondary_cleaner.state.floatbank4_b_level  4800 non-null   float64\n",
      " 47  secondary_cleaner.state.floatbank5_a_air    4800 non-null   float64\n",
      " 48  secondary_cleaner.state.floatbank5_a_level  4800 non-null   float64\n",
      " 49  secondary_cleaner.state.floatbank5_b_air    4800 non-null   float64\n",
      " 50  secondary_cleaner.state.floatbank5_b_level  4800 non-null   float64\n",
      " 51  secondary_cleaner.state.floatbank6_a_air    4800 non-null   float64\n",
      " 52  secondary_cleaner.state.floatbank6_a_level  4800 non-null   float64\n",
      " 53  rougher.output.recovery                     4615 non-null   float64\n",
      " 54  final.output.recovery                       4615 non-null   float64\n",
      "dtypes: float64(54), object(1)\n",
      "memory usage: 2.1+ MB\n"
     ]
    }
   ],
   "source": [
    "test = test.merge(full[['rougher.output.recovery', 'final.output.recovery', 'date']],\n",
    "                         how = 'left', on= 'date')\n",
    "test.dropna()\n",
    "test.reset_index()\n",
    "test.info()"
   ]
  },
  {
   "cell_type": "code",
   "execution_count": 65,
   "metadata": {},
   "outputs": [
    {
     "name": "stdout",
     "output_type": "stream",
     "text": [
      "sMAPE в процентах на тестовой выборке = 6.8719010306986\n"
     ]
    }
   ],
   "source": [
    "features_test = test.drop(['rougher.output.recovery', 'final.output.recovery','date'], axis=1)\n",
    "\n",
    "target_test = test['rougher.output.recovery']\n",
    "target_test_fin = test['final.output.recovery']\n",
    "\n",
    "test_rough = rough_rfr.predict(features_test) \n",
    "test_final = final_rfr.predict(features_test)\n",
    "\n",
    "smape_r_test = smape_unweighted(target_test, test_rough)\n",
    "fin_test_smape = smape_unweighted(target_test_fin, test_final)\n",
    "\n",
    "FINAL_smape = smape_final(smape_r_test, fin_test_smape)\n",
    "print('sMAPE в процентах на тестовой выборке =', FINAL_smape)"
   ]
  },
  {
   "cell_type": "code",
   "execution_count": 73,
   "metadata": {},
   "outputs": [
    {
     "name": "stdout",
     "output_type": "stream",
     "text": [
      "Для mean sMAPE = 7.933\n",
      "Для median sMAPE = 7.77\n"
     ]
    }
   ],
   "source": [
    "for strategy in ['mean','median']:\n",
    "    dummy_rough = DummyRegressor(strategy=strategy)\n",
    "    dummy_final = DummyRegressor(strategy=strategy)\n",
    "    \n",
    "    dummy_rough.fit(features_train_final, target_train)\n",
    "    dummy_final.fit(features_train_final, target_train_fin)\n",
    "    \n",
    "    rough = dummy_rough.predict(test)\n",
    "    final = dummy_final.predict(test)\n",
    "    \n",
    "    final_smape = smape_final(smape_scorer(target_test, rough),\n",
    "                              smape_scorer(target_test_fin, final))\n",
    "\n",
    "    print('Для', strategy, 'sMAPE =', round(final_smape,3))"
   ]
  },
  {
   "cell_type": "markdown",
   "metadata": {},
   "source": [
    "# Вывод: \n",
    "На тренировочной выборке были обучены три модели: случайный лес, дерево решений и линейная регрессия, применяя кросс-валидацию. Анализ метрик качества показал, что случайный лес демонстрирует наилучшие результаты. Следовательно, для проверки на тестовой выборке была выбрана данная модель. Симметричная средняя абсолютная процентная ошибка на тестовой выборке составила 6,871. В сравнении с константной моделью, метрики, полученные при использовании случайного леса, демонстрируют более высокое качество. Таким образом, можно сделать вывод о том, что случайный лес прошел проверку на вменяемость. В контексте модели машинного обучения для «Цифры», случайный лес является прототипом, так как он показывает наилучшие результаты при предсказании коэффициента восстановления золота из золотосодержащей руды, включая проверку на вменяемость."
   ]
  },
  {
   "cell_type": "markdown",
   "metadata": {},
   "source": [
    "## Чек-лист готовности проекта"
   ]
  }
 ],
 "metadata": {
  "ExecuteTimeLog": [
   {
    "duration": 43,
    "start_time": "2023-09-17T17:30:03.562Z"
   },
   {
    "duration": 1550,
    "start_time": "2023-09-17T17:33:10.123Z"
   },
   {
    "duration": 120,
    "start_time": "2023-09-17T17:33:11.674Z"
   },
   {
    "duration": 3167,
    "start_time": "2023-09-17T17:34:39.390Z"
   },
   {
    "duration": 862,
    "start_time": "2023-09-17T17:34:52.186Z"
   },
   {
    "duration": 836,
    "start_time": "2023-09-17T17:37:03.111Z"
   },
   {
    "duration": 4,
    "start_time": "2023-09-17T17:52:20.388Z"
   },
   {
    "duration": 915,
    "start_time": "2023-09-17T17:52:20.394Z"
   },
   {
    "duration": 25,
    "start_time": "2023-09-17T17:52:21.311Z"
   },
   {
    "duration": 16,
    "start_time": "2023-09-17T17:52:21.351Z"
   },
   {
    "duration": 18,
    "start_time": "2023-09-17T17:52:21.369Z"
   },
   {
    "duration": 135,
    "start_time": "2023-09-17T17:52:21.388Z"
   },
   {
    "duration": 33,
    "start_time": "2023-09-17T17:52:21.525Z"
   },
   {
    "duration": 85,
    "start_time": "2023-09-17T17:52:21.560Z"
   },
   {
    "duration": 250,
    "start_time": "2023-09-17T17:52:21.646Z"
   },
   {
    "duration": 138,
    "start_time": "2023-09-17T17:52:21.898Z"
   },
   {
    "duration": 251,
    "start_time": "2023-09-17T17:52:22.037Z"
   },
   {
    "duration": 155,
    "start_time": "2023-09-25T14:01:19.682Z"
   },
   {
    "duration": 1819,
    "start_time": "2023-09-25T14:24:23.486Z"
   },
   {
    "duration": 2423,
    "start_time": "2023-09-25T14:24:25.308Z"
   },
   {
    "duration": 19,
    "start_time": "2023-09-25T14:24:27.733Z"
   },
   {
    "duration": 24,
    "start_time": "2023-09-25T14:24:27.754Z"
   },
   {
    "duration": 22,
    "start_time": "2023-09-25T14:24:27.780Z"
   },
   {
    "duration": 127,
    "start_time": "2023-09-25T14:24:27.804Z"
   },
   {
    "duration": 31,
    "start_time": "2023-09-25T14:24:27.933Z"
   },
   {
    "duration": 109,
    "start_time": "2023-09-25T14:24:27.966Z"
   },
   {
    "duration": 246,
    "start_time": "2023-09-25T14:24:28.077Z"
   },
   {
    "duration": 145,
    "start_time": "2023-09-25T14:24:28.324Z"
   },
   {
    "duration": 299,
    "start_time": "2023-09-25T14:24:28.472Z"
   },
   {
    "duration": 82,
    "start_time": "2023-09-25T14:24:28.772Z"
   },
   {
    "duration": 958,
    "start_time": "2023-09-25T14:29:40.922Z"
   },
   {
    "duration": 986,
    "start_time": "2023-09-25T14:30:37.187Z"
   },
   {
    "duration": 4,
    "start_time": "2023-09-25T14:35:01.027Z"
   },
   {
    "duration": 152,
    "start_time": "2023-09-25T14:54:53.694Z"
   },
   {
    "duration": 3,
    "start_time": "2023-09-25T14:55:18.650Z"
   },
   {
    "duration": 22,
    "start_time": "2023-09-25T14:55:18.827Z"
   },
   {
    "duration": 3,
    "start_time": "2023-09-25T14:55:21.428Z"
   },
   {
    "duration": 867,
    "start_time": "2023-09-25T14:55:21.433Z"
   },
   {
    "duration": 15,
    "start_time": "2023-09-25T14:55:22.301Z"
   },
   {
    "duration": 11,
    "start_time": "2023-09-25T14:55:22.318Z"
   },
   {
    "duration": 27,
    "start_time": "2023-09-25T14:55:22.331Z"
   },
   {
    "duration": 126,
    "start_time": "2023-09-25T14:55:22.360Z"
   },
   {
    "duration": 20,
    "start_time": "2023-09-25T14:55:22.488Z"
   },
   {
    "duration": 104,
    "start_time": "2023-09-25T14:55:22.510Z"
   },
   {
    "duration": 235,
    "start_time": "2023-09-25T14:55:22.617Z"
   },
   {
    "duration": 144,
    "start_time": "2023-09-25T14:55:22.854Z"
   },
   {
    "duration": 249,
    "start_time": "2023-09-25T14:55:23.000Z"
   },
   {
    "duration": 3,
    "start_time": "2023-09-25T14:55:23.250Z"
   },
   {
    "duration": 29,
    "start_time": "2023-09-25T14:55:23.255Z"
   },
   {
    "duration": 4,
    "start_time": "2023-09-25T14:55:31.945Z"
   },
   {
    "duration": 1042,
    "start_time": "2023-09-25T14:55:31.950Z"
   },
   {
    "duration": 17,
    "start_time": "2023-09-25T14:55:32.994Z"
   },
   {
    "duration": 31,
    "start_time": "2023-09-25T14:55:33.013Z"
   },
   {
    "duration": 27,
    "start_time": "2023-09-25T14:55:33.046Z"
   },
   {
    "duration": 135,
    "start_time": "2023-09-25T14:55:33.075Z"
   },
   {
    "duration": 21,
    "start_time": "2023-09-25T14:55:33.212Z"
   },
   {
    "duration": 96,
    "start_time": "2023-09-25T14:55:33.235Z"
   },
   {
    "duration": 250,
    "start_time": "2023-09-25T14:55:33.332Z"
   },
   {
    "duration": 146,
    "start_time": "2023-09-25T14:55:33.584Z"
   },
   {
    "duration": 273,
    "start_time": "2023-09-25T14:55:33.732Z"
   },
   {
    "duration": 4,
    "start_time": "2023-09-25T14:55:34.007Z"
   },
   {
    "duration": 51,
    "start_time": "2023-09-25T14:55:34.012Z"
   },
   {
    "duration": 4,
    "start_time": "2023-09-25T14:59:41.775Z"
   },
   {
    "duration": 25,
    "start_time": "2023-09-25T14:59:42.498Z"
   },
   {
    "duration": 4,
    "start_time": "2023-09-25T15:00:34.109Z"
   },
   {
    "duration": 925,
    "start_time": "2023-09-25T15:00:34.115Z"
   },
   {
    "duration": 18,
    "start_time": "2023-09-25T15:00:35.042Z"
   },
   {
    "duration": 14,
    "start_time": "2023-09-25T15:00:35.062Z"
   },
   {
    "duration": 28,
    "start_time": "2023-09-25T15:00:35.079Z"
   },
   {
    "duration": 148,
    "start_time": "2023-09-25T15:00:35.108Z"
   },
   {
    "duration": 21,
    "start_time": "2023-09-25T15:00:35.257Z"
   },
   {
    "duration": 115,
    "start_time": "2023-09-25T15:00:35.280Z"
   },
   {
    "duration": 291,
    "start_time": "2023-09-25T15:00:35.397Z"
   },
   {
    "duration": 129,
    "start_time": "2023-09-25T15:00:35.690Z"
   },
   {
    "duration": 260,
    "start_time": "2023-09-25T15:00:35.821Z"
   },
   {
    "duration": 3,
    "start_time": "2023-09-25T15:00:36.083Z"
   },
   {
    "duration": 53,
    "start_time": "2023-09-25T15:00:36.088Z"
   },
   {
    "duration": 5,
    "start_time": "2023-09-25T15:00:54.155Z"
   },
   {
    "duration": 987,
    "start_time": "2023-09-25T15:00:54.162Z"
   },
   {
    "duration": 16,
    "start_time": "2023-09-25T15:00:55.151Z"
   },
   {
    "duration": 27,
    "start_time": "2023-09-25T15:00:55.169Z"
   },
   {
    "duration": 40,
    "start_time": "2023-09-25T15:00:55.198Z"
   },
   {
    "duration": 127,
    "start_time": "2023-09-25T15:00:55.239Z"
   },
   {
    "duration": 20,
    "start_time": "2023-09-25T15:00:55.368Z"
   },
   {
    "duration": 97,
    "start_time": "2023-09-25T15:00:55.389Z"
   },
   {
    "duration": 229,
    "start_time": "2023-09-25T15:00:55.487Z"
   },
   {
    "duration": 138,
    "start_time": "2023-09-25T15:00:55.718Z"
   },
   {
    "duration": 253,
    "start_time": "2023-09-25T15:00:55.858Z"
   },
   {
    "duration": 3,
    "start_time": "2023-09-25T15:00:56.112Z"
   },
   {
    "duration": 54,
    "start_time": "2023-09-25T15:00:56.117Z"
   },
   {
    "duration": 5,
    "start_time": "2023-09-25T15:02:10.555Z"
   },
   {
    "duration": 17,
    "start_time": "2023-09-25T15:58:13.354Z"
   },
   {
    "duration": 3,
    "start_time": "2023-09-25T15:58:35.700Z"
   },
   {
    "duration": 877,
    "start_time": "2023-09-25T15:58:35.705Z"
   },
   {
    "duration": 16,
    "start_time": "2023-09-25T15:58:36.584Z"
   },
   {
    "duration": 22,
    "start_time": "2023-09-25T15:58:36.602Z"
   },
   {
    "duration": 23,
    "start_time": "2023-09-25T15:58:36.627Z"
   },
   {
    "duration": 150,
    "start_time": "2023-09-25T15:58:36.652Z"
   },
   {
    "duration": 21,
    "start_time": "2023-09-25T15:58:36.804Z"
   },
   {
    "duration": 132,
    "start_time": "2023-09-25T15:58:36.827Z"
   },
   {
    "duration": 226,
    "start_time": "2023-09-25T15:58:36.961Z"
   },
   {
    "duration": 135,
    "start_time": "2023-09-25T15:58:37.189Z"
   },
   {
    "duration": 254,
    "start_time": "2023-09-25T15:58:37.325Z"
   },
   {
    "duration": 4,
    "start_time": "2023-09-25T15:58:37.581Z"
   },
   {
    "duration": 51,
    "start_time": "2023-09-25T15:58:37.586Z"
   },
   {
    "duration": 35,
    "start_time": "2023-09-25T15:58:37.639Z"
   },
   {
    "duration": 55,
    "start_time": "2023-09-25T15:58:37.675Z"
   },
   {
    "duration": 4,
    "start_time": "2023-09-25T16:00:41.961Z"
   },
   {
    "duration": 839,
    "start_time": "2023-09-25T16:00:41.967Z"
   },
   {
    "duration": 16,
    "start_time": "2023-09-25T16:00:42.808Z"
   },
   {
    "duration": 19,
    "start_time": "2023-09-25T16:00:42.826Z"
   },
   {
    "duration": 24,
    "start_time": "2023-09-25T16:00:42.847Z"
   },
   {
    "duration": 124,
    "start_time": "2023-09-25T16:00:42.873Z"
   },
   {
    "duration": 19,
    "start_time": "2023-09-25T16:00:42.999Z"
   },
   {
    "duration": 117,
    "start_time": "2023-09-25T16:00:43.019Z"
   },
   {
    "duration": 218,
    "start_time": "2023-09-25T16:00:43.138Z"
   },
   {
    "duration": 126,
    "start_time": "2023-09-25T16:00:43.358Z"
   },
   {
    "duration": 270,
    "start_time": "2023-09-25T16:00:43.486Z"
   },
   {
    "duration": 3,
    "start_time": "2023-09-25T16:00:43.758Z"
   },
   {
    "duration": 60,
    "start_time": "2023-09-25T16:00:43.763Z"
   },
   {
    "duration": 23,
    "start_time": "2023-09-25T16:00:43.826Z"
   },
   {
    "duration": 1592,
    "start_time": "2023-09-25T16:00:43.851Z"
   },
   {
    "duration": 15,
    "start_time": "2023-09-25T16:00:57.692Z"
   },
   {
    "duration": 16,
    "start_time": "2023-09-25T16:03:17.347Z"
   },
   {
    "duration": 28,
    "start_time": "2023-09-25T16:19:47.164Z"
   },
   {
    "duration": 30,
    "start_time": "2023-09-25T16:19:51.698Z"
   },
   {
    "duration": 14,
    "start_time": "2023-09-25T16:20:12.905Z"
   },
   {
    "duration": 17,
    "start_time": "2023-09-25T16:20:25.288Z"
   },
   {
    "duration": 16,
    "start_time": "2023-09-25T16:20:32.665Z"
   },
   {
    "duration": 9,
    "start_time": "2023-09-25T16:53:27.415Z"
   },
   {
    "duration": 13,
    "start_time": "2023-09-25T16:54:03.117Z"
   },
   {
    "duration": 188,
    "start_time": "2023-09-25T16:54:15.434Z"
   },
   {
    "duration": 189,
    "start_time": "2023-09-25T16:54:24.266Z"
   },
   {
    "duration": 78,
    "start_time": "2023-09-25T16:56:38.527Z"
   },
   {
    "duration": 120,
    "start_time": "2023-09-25T16:56:41.765Z"
   },
   {
    "duration": 18,
    "start_time": "2023-09-25T16:56:44.268Z"
   },
   {
    "duration": 18,
    "start_time": "2023-09-25T16:56:56.506Z"
   },
   {
    "duration": 17,
    "start_time": "2023-09-25T16:57:18.997Z"
   },
   {
    "duration": 167,
    "start_time": "2023-09-25T16:57:58.177Z"
   },
   {
    "duration": 201,
    "start_time": "2023-09-25T16:58:59.064Z"
   },
   {
    "duration": 14,
    "start_time": "2023-09-25T16:59:20.189Z"
   },
   {
    "duration": 76,
    "start_time": "2023-09-26T19:09:57.527Z"
   },
   {
    "duration": 81,
    "start_time": "2023-09-26T19:11:33.996Z"
   },
   {
    "duration": 1578,
    "start_time": "2023-09-26T19:11:36.059Z"
   },
   {
    "duration": 2306,
    "start_time": "2023-09-26T19:11:37.639Z"
   },
   {
    "duration": 19,
    "start_time": "2023-09-26T19:11:39.946Z"
   },
   {
    "duration": 14,
    "start_time": "2023-09-26T19:11:39.966Z"
   },
   {
    "duration": 18,
    "start_time": "2023-09-26T19:11:39.982Z"
   },
   {
    "duration": 136,
    "start_time": "2023-09-26T19:11:40.001Z"
   },
   {
    "duration": 25,
    "start_time": "2023-09-26T19:11:40.139Z"
   },
   {
    "duration": 105,
    "start_time": "2023-09-26T19:11:40.166Z"
   },
   {
    "duration": 229,
    "start_time": "2023-09-26T19:11:40.273Z"
   },
   {
    "duration": 126,
    "start_time": "2023-09-26T19:11:40.503Z"
   },
   {
    "duration": 246,
    "start_time": "2023-09-26T19:11:40.630Z"
   },
   {
    "duration": 3,
    "start_time": "2023-09-26T19:11:40.878Z"
   },
   {
    "duration": 29,
    "start_time": "2023-09-26T19:11:40.882Z"
   },
   {
    "duration": 5,
    "start_time": "2023-09-26T19:11:40.913Z"
   },
   {
    "duration": 35,
    "start_time": "2023-09-26T19:11:40.920Z"
   },
   {
    "duration": 213,
    "start_time": "2023-09-26T19:11:40.957Z"
   },
   {
    "duration": 77,
    "start_time": "2023-09-26T19:11:41.172Z"
   },
   {
    "duration": 104,
    "start_time": "2023-09-26T19:12:21.276Z"
   },
   {
    "duration": 16,
    "start_time": "2023-09-26T19:12:35.261Z"
   },
   {
    "duration": 33,
    "start_time": "2023-09-26T19:12:52.282Z"
   },
   {
    "duration": 29,
    "start_time": "2023-09-26T19:12:57.517Z"
   },
   {
    "duration": 19,
    "start_time": "2023-09-26T19:14:52.268Z"
   },
   {
    "duration": 1396,
    "start_time": "2023-09-26T19:15:31.174Z"
   },
   {
    "duration": 768,
    "start_time": "2023-09-26T19:16:13.572Z"
   },
   {
    "duration": 690,
    "start_time": "2023-09-26T19:16:20.722Z"
   },
   {
    "duration": 949,
    "start_time": "2023-09-26T19:16:33.143Z"
   },
   {
    "duration": 781,
    "start_time": "2023-09-26T19:16:42.478Z"
   },
   {
    "duration": 898,
    "start_time": "2023-09-26T19:17:02.385Z"
   },
   {
    "duration": 942,
    "start_time": "2023-09-26T19:17:13.905Z"
   },
   {
    "duration": 747,
    "start_time": "2023-09-26T19:17:18.609Z"
   },
   {
    "duration": 887,
    "start_time": "2023-09-26T19:17:26.449Z"
   },
   {
    "duration": 785,
    "start_time": "2023-09-26T19:17:45.181Z"
   },
   {
    "duration": 1163,
    "start_time": "2023-09-26T19:18:06.117Z"
   },
   {
    "duration": 858,
    "start_time": "2023-09-26T19:18:43.934Z"
   },
   {
    "duration": 979,
    "start_time": "2023-09-26T19:23:04.235Z"
   },
   {
    "duration": 927,
    "start_time": "2023-09-26T19:23:09.008Z"
   },
   {
    "duration": 796,
    "start_time": "2023-09-26T19:23:13.306Z"
   },
   {
    "duration": 918,
    "start_time": "2023-09-26T19:23:20.721Z"
   },
   {
    "duration": 1035,
    "start_time": "2023-09-26T19:23:26.394Z"
   },
   {
    "duration": 933,
    "start_time": "2023-09-26T19:23:32.271Z"
   },
   {
    "duration": 1022,
    "start_time": "2023-09-26T19:23:35.887Z"
   },
   {
    "duration": 917,
    "start_time": "2023-09-26T19:23:38.472Z"
   },
   {
    "duration": 772,
    "start_time": "2023-09-26T19:23:43.267Z"
   },
   {
    "duration": 49,
    "start_time": "2023-09-27T17:15:01.166Z"
   },
   {
    "duration": 1744,
    "start_time": "2023-09-27T17:15:04.629Z"
   },
   {
    "duration": 2538,
    "start_time": "2023-09-27T17:15:06.376Z"
   },
   {
    "duration": 18,
    "start_time": "2023-09-27T17:15:08.915Z"
   },
   {
    "duration": 19,
    "start_time": "2023-09-27T17:15:08.934Z"
   },
   {
    "duration": 43,
    "start_time": "2023-09-27T17:15:08.957Z"
   },
   {
    "duration": 136,
    "start_time": "2023-09-27T17:15:09.002Z"
   },
   {
    "duration": 30,
    "start_time": "2023-09-27T17:15:09.140Z"
   },
   {
    "duration": 122,
    "start_time": "2023-09-27T17:15:09.171Z"
   },
   {
    "duration": 250,
    "start_time": "2023-09-27T17:15:09.294Z"
   },
   {
    "duration": 143,
    "start_time": "2023-09-27T17:15:09.547Z"
   },
   {
    "duration": 280,
    "start_time": "2023-09-27T17:15:09.691Z"
   },
   {
    "duration": 3,
    "start_time": "2023-09-27T17:15:09.973Z"
   },
   {
    "duration": 31,
    "start_time": "2023-09-27T17:15:09.978Z"
   },
   {
    "duration": 5,
    "start_time": "2023-09-27T17:15:10.012Z"
   },
   {
    "duration": 46,
    "start_time": "2023-09-27T17:15:10.018Z"
   },
   {
    "duration": 219,
    "start_time": "2023-09-27T17:15:10.066Z"
   },
   {
    "duration": 18,
    "start_time": "2023-09-27T17:15:10.286Z"
   },
   {
    "duration": 995,
    "start_time": "2023-09-27T17:15:10.305Z"
   },
   {
    "duration": 466,
    "start_time": "2023-09-27T17:15:11.302Z"
   },
   {
    "duration": 420,
    "start_time": "2023-09-27T17:15:27.782Z"
   },
   {
    "duration": 703,
    "start_time": "2023-09-27T17:15:44.413Z"
   },
   {
    "duration": 328,
    "start_time": "2023-09-27T17:16:20.403Z"
   },
   {
    "duration": 112,
    "start_time": "2023-09-27T17:16:35.014Z"
   },
   {
    "duration": 359,
    "start_time": "2023-09-27T17:16:37.378Z"
   },
   {
    "duration": 264,
    "start_time": "2023-09-27T17:17:31.556Z"
   },
   {
    "duration": 391,
    "start_time": "2023-09-27T17:17:39.620Z"
   },
   {
    "duration": 582,
    "start_time": "2023-09-27T17:17:46.347Z"
   },
   {
    "duration": 476,
    "start_time": "2023-09-27T17:18:24.668Z"
   },
   {
    "duration": 526,
    "start_time": "2023-09-27T17:19:46.600Z"
   },
   {
    "duration": 10,
    "start_time": "2023-09-27T17:19:48.658Z"
   },
   {
    "duration": 490,
    "start_time": "2023-09-27T17:19:56.101Z"
   },
   {
    "duration": 615,
    "start_time": "2023-09-27T17:20:25.700Z"
   },
   {
    "duration": 921,
    "start_time": "2023-09-27T17:20:39.578Z"
   },
   {
    "duration": 12,
    "start_time": "2023-09-27T17:26:47.112Z"
   },
   {
    "duration": 3,
    "start_time": "2023-09-27T17:29:45.682Z"
   },
   {
    "duration": 28,
    "start_time": "2023-09-27T17:30:48.294Z"
   },
   {
    "duration": 21,
    "start_time": "2023-09-27T17:31:02.962Z"
   },
   {
    "duration": 28,
    "start_time": "2023-09-27T17:31:14.293Z"
   },
   {
    "duration": 27,
    "start_time": "2023-09-27T17:31:19.340Z"
   },
   {
    "duration": 45,
    "start_time": "2023-09-27T17:32:12.325Z"
   },
   {
    "duration": 29,
    "start_time": "2023-09-27T17:32:16.730Z"
   },
   {
    "duration": 18,
    "start_time": "2023-09-27T17:32:45.979Z"
   },
   {
    "duration": 28,
    "start_time": "2023-09-27T17:32:53.060Z"
   },
   {
    "duration": 16,
    "start_time": "2023-09-27T17:37:16.553Z"
   },
   {
    "duration": 14,
    "start_time": "2023-09-27T17:37:20.951Z"
   },
   {
    "duration": 19,
    "start_time": "2023-09-27T17:37:50.688Z"
   },
   {
    "duration": 10,
    "start_time": "2023-09-27T17:38:06.615Z"
   },
   {
    "duration": 98,
    "start_time": "2023-09-27T17:41:51.970Z"
   },
   {
    "duration": 690,
    "start_time": "2023-09-27T17:44:08.185Z"
   },
   {
    "duration": 4,
    "start_time": "2023-09-27T17:45:34.105Z"
   },
   {
    "duration": 13,
    "start_time": "2023-09-27T17:45:34.507Z"
   },
   {
    "duration": 6,
    "start_time": "2023-09-27T17:46:33.424Z"
   },
   {
    "duration": 1004,
    "start_time": "2023-09-27T17:46:33.432Z"
   },
   {
    "duration": 20,
    "start_time": "2023-09-27T17:46:34.438Z"
   },
   {
    "duration": 21,
    "start_time": "2023-09-27T17:46:34.460Z"
   },
   {
    "duration": 34,
    "start_time": "2023-09-27T17:46:34.483Z"
   },
   {
    "duration": 150,
    "start_time": "2023-09-27T17:46:34.519Z"
   },
   {
    "duration": 28,
    "start_time": "2023-09-27T17:46:34.671Z"
   },
   {
    "duration": 127,
    "start_time": "2023-09-27T17:46:34.701Z"
   },
   {
    "duration": 344,
    "start_time": "2023-09-27T17:46:34.830Z"
   },
   {
    "duration": 128,
    "start_time": "2023-09-27T17:46:35.175Z"
   },
   {
    "duration": 249,
    "start_time": "2023-09-27T17:46:35.304Z"
   },
   {
    "duration": 3,
    "start_time": "2023-09-27T17:46:35.555Z"
   },
   {
    "duration": 59,
    "start_time": "2023-09-27T17:46:35.559Z"
   },
   {
    "duration": 13,
    "start_time": "2023-09-27T17:46:35.621Z"
   },
   {
    "duration": 36,
    "start_time": "2023-09-27T17:46:35.635Z"
   },
   {
    "duration": 206,
    "start_time": "2023-09-27T17:46:35.673Z"
   },
   {
    "duration": 17,
    "start_time": "2023-09-27T17:46:35.881Z"
   },
   {
    "duration": 918,
    "start_time": "2023-09-27T17:46:35.899Z"
   },
   {
    "duration": 550,
    "start_time": "2023-09-27T17:46:36.818Z"
   },
   {
    "duration": 468,
    "start_time": "2023-09-27T17:46:37.370Z"
   },
   {
    "duration": 13,
    "start_time": "2023-09-27T17:46:37.840Z"
   },
   {
    "duration": 3,
    "start_time": "2023-09-27T17:46:37.854Z"
   },
   {
    "duration": 15,
    "start_time": "2023-09-27T17:46:37.858Z"
   },
   {
    "duration": 21,
    "start_time": "2023-09-27T17:46:37.875Z"
   },
   {
    "duration": 25,
    "start_time": "2023-09-27T17:46:37.898Z"
   },
   {
    "duration": 20,
    "start_time": "2023-09-27T17:46:37.925Z"
   },
   {
    "duration": 23,
    "start_time": "2023-09-27T17:46:37.946Z"
   },
   {
    "duration": 5,
    "start_time": "2023-09-27T17:47:16.088Z"
   },
   {
    "duration": 840,
    "start_time": "2023-09-27T17:47:16.883Z"
   },
   {
    "duration": 1998,
    "start_time": "2023-09-28T19:27:03.620Z"
   },
   {
    "duration": 3376,
    "start_time": "2023-09-28T19:27:05.621Z"
   },
   {
    "duration": 25,
    "start_time": "2023-09-28T19:27:08.999Z"
   },
   {
    "duration": 25,
    "start_time": "2023-09-28T19:27:09.026Z"
   },
   {
    "duration": 30,
    "start_time": "2023-09-28T19:27:09.053Z"
   },
   {
    "duration": 195,
    "start_time": "2023-09-28T19:27:09.087Z"
   },
   {
    "duration": 35,
    "start_time": "2023-09-28T19:27:09.284Z"
   },
   {
    "duration": 132,
    "start_time": "2023-09-28T19:27:09.321Z"
   },
   {
    "duration": 282,
    "start_time": "2023-09-28T19:27:09.454Z"
   },
   {
    "duration": 207,
    "start_time": "2023-09-28T19:27:09.739Z"
   },
   {
    "duration": 339,
    "start_time": "2023-09-28T19:27:09.954Z"
   },
   {
    "duration": 3,
    "start_time": "2023-09-28T19:27:10.295Z"
   },
   {
    "duration": 53,
    "start_time": "2023-09-28T19:27:10.303Z"
   },
   {
    "duration": 13,
    "start_time": "2023-09-28T19:27:10.363Z"
   },
   {
    "duration": 33,
    "start_time": "2023-09-28T19:27:10.383Z"
   },
   {
    "duration": 281,
    "start_time": "2023-09-28T19:27:10.418Z"
   },
   {
    "duration": 20,
    "start_time": "2023-09-28T19:27:10.701Z"
   },
   {
    "duration": 1208,
    "start_time": "2023-09-28T19:27:10.723Z"
   },
   {
    "duration": 594,
    "start_time": "2023-09-28T19:27:11.933Z"
   },
   {
    "duration": 589,
    "start_time": "2023-09-28T19:27:12.529Z"
   },
   {
    "duration": 36,
    "start_time": "2023-09-28T19:27:13.119Z"
   },
   {
    "duration": 15,
    "start_time": "2023-09-28T19:27:13.157Z"
   },
   {
    "duration": 143,
    "start_time": "2023-09-28T19:27:13.175Z"
   },
   {
    "duration": 24,
    "start_time": "2023-09-28T19:27:13.321Z"
   },
   {
    "duration": 36,
    "start_time": "2023-09-28T19:27:13.347Z"
   },
   {
    "duration": 30,
    "start_time": "2023-09-28T19:27:13.385Z"
   },
   {
    "duration": 11,
    "start_time": "2023-09-28T19:27:13.418Z"
   },
   {
    "duration": 164,
    "start_time": "2023-09-28T19:27:52.945Z"
   },
   {
    "duration": 19,
    "start_time": "2023-09-28T19:27:59.437Z"
   },
   {
    "duration": 954,
    "start_time": "2023-09-28T19:28:16.651Z"
   },
   {
    "duration": 38,
    "start_time": "2023-09-29T12:06:06.287Z"
   },
   {
    "duration": 1797,
    "start_time": "2023-09-29T14:15:20.205Z"
   },
   {
    "duration": 2354,
    "start_time": "2023-09-29T14:15:22.004Z"
   },
   {
    "duration": 19,
    "start_time": "2023-09-29T14:15:24.360Z"
   },
   {
    "duration": 23,
    "start_time": "2023-09-29T14:15:24.381Z"
   },
   {
    "duration": 18,
    "start_time": "2023-09-29T14:15:24.406Z"
   },
   {
    "duration": 147,
    "start_time": "2023-09-29T14:15:24.426Z"
   },
   {
    "duration": 23,
    "start_time": "2023-09-29T14:15:24.576Z"
   },
   {
    "duration": 110,
    "start_time": "2023-09-29T14:15:24.610Z"
   },
   {
    "duration": 262,
    "start_time": "2023-09-29T14:15:24.722Z"
   },
   {
    "duration": 153,
    "start_time": "2023-09-29T14:15:24.988Z"
   },
   {
    "duration": 300,
    "start_time": "2023-09-29T14:15:25.143Z"
   },
   {
    "duration": 4,
    "start_time": "2023-09-29T14:15:25.445Z"
   },
   {
    "duration": 31,
    "start_time": "2023-09-29T14:15:25.451Z"
   },
   {
    "duration": 27,
    "start_time": "2023-09-29T14:15:25.484Z"
   },
   {
    "duration": 54,
    "start_time": "2023-09-29T14:15:25.513Z"
   },
   {
    "duration": 227,
    "start_time": "2023-09-29T14:15:25.569Z"
   },
   {
    "duration": 27,
    "start_time": "2023-09-29T14:15:25.798Z"
   },
   {
    "duration": 1076,
    "start_time": "2023-09-29T14:15:25.828Z"
   },
   {
    "duration": 486,
    "start_time": "2023-09-29T14:15:26.906Z"
   },
   {
    "duration": 522,
    "start_time": "2023-09-29T14:15:27.394Z"
   },
   {
    "duration": 13,
    "start_time": "2023-09-29T14:15:27.918Z"
   },
   {
    "duration": 3,
    "start_time": "2023-09-29T14:15:27.933Z"
   },
   {
    "duration": 146,
    "start_time": "2023-09-29T14:15:27.938Z"
   },
   {
    "duration": 26,
    "start_time": "2023-09-29T14:15:28.085Z"
   },
   {
    "duration": 3,
    "start_time": "2023-09-29T14:15:28.113Z"
   },
   {
    "duration": 27,
    "start_time": "2023-09-29T14:15:28.117Z"
   },
   {
    "duration": 809,
    "start_time": "2023-09-29T14:15:28.146Z"
   },
   {
    "duration": 30,
    "start_time": "2023-09-29T14:59:27.170Z"
   },
   {
    "duration": 5,
    "start_time": "2023-09-29T14:59:29.076Z"
   },
   {
    "duration": 961,
    "start_time": "2023-09-29T14:59:29.083Z"
   },
   {
    "duration": 18,
    "start_time": "2023-09-29T14:59:30.046Z"
   },
   {
    "duration": 13,
    "start_time": "2023-09-29T14:59:30.066Z"
   },
   {
    "duration": 45,
    "start_time": "2023-09-29T14:59:30.081Z"
   },
   {
    "duration": 148,
    "start_time": "2023-09-29T14:59:30.128Z"
   },
   {
    "duration": 20,
    "start_time": "2023-09-29T14:59:30.278Z"
   },
   {
    "duration": 110,
    "start_time": "2023-09-29T14:59:30.300Z"
   },
   {
    "duration": 248,
    "start_time": "2023-09-29T14:59:30.412Z"
   },
   {
    "duration": 142,
    "start_time": "2023-09-29T14:59:30.661Z"
   },
   {
    "duration": 270,
    "start_time": "2023-09-29T14:59:30.805Z"
   },
   {
    "duration": 3,
    "start_time": "2023-09-29T14:59:31.077Z"
   },
   {
    "duration": 52,
    "start_time": "2023-09-29T14:59:31.082Z"
   },
   {
    "duration": 20,
    "start_time": "2023-09-29T14:59:31.137Z"
   },
   {
    "duration": 46,
    "start_time": "2023-09-29T14:59:31.159Z"
   },
   {
    "duration": 46,
    "start_time": "2023-09-29T14:59:31.207Z"
   },
   {
    "duration": 230,
    "start_time": "2023-09-29T14:59:31.255Z"
   },
   {
    "duration": 28,
    "start_time": "2023-09-29T14:59:31.487Z"
   },
   {
    "duration": 972,
    "start_time": "2023-09-29T14:59:31.516Z"
   },
   {
    "duration": 631,
    "start_time": "2023-09-29T14:59:32.490Z"
   },
   {
    "duration": 487,
    "start_time": "2023-09-29T14:59:33.122Z"
   },
   {
    "duration": 13,
    "start_time": "2023-09-29T14:59:33.611Z"
   },
   {
    "duration": 8,
    "start_time": "2023-09-29T14:59:33.625Z"
   },
   {
    "duration": 7,
    "start_time": "2023-09-29T14:59:33.635Z"
   },
   {
    "duration": 13,
    "start_time": "2023-09-29T14:59:33.644Z"
   },
   {
    "duration": 20,
    "start_time": "2023-09-29T14:59:33.659Z"
   },
   {
    "duration": 6,
    "start_time": "2023-09-29T14:59:33.681Z"
   },
   {
    "duration": 721,
    "start_time": "2023-09-29T14:59:33.689Z"
   },
   {
    "duration": 12,
    "start_time": "2023-09-29T15:07:04.587Z"
   },
   {
    "duration": 1082,
    "start_time": "2023-09-29T15:07:12.189Z"
   },
   {
    "duration": 1405,
    "start_time": "2023-09-29T15:08:09.240Z"
   },
   {
    "duration": 536,
    "start_time": "2023-09-29T15:08:42.598Z"
   },
   {
    "duration": 871,
    "start_time": "2023-09-29T15:08:44.395Z"
   },
   {
    "duration": 900,
    "start_time": "2023-09-29T15:09:04.052Z"
   },
   {
    "duration": 6,
    "start_time": "2023-09-29T15:09:14.107Z"
   },
   {
    "duration": 947,
    "start_time": "2023-09-29T15:09:14.115Z"
   },
   {
    "duration": 18,
    "start_time": "2023-09-29T15:09:15.064Z"
   },
   {
    "duration": 27,
    "start_time": "2023-09-29T15:09:15.084Z"
   },
   {
    "duration": 26,
    "start_time": "2023-09-29T15:09:15.114Z"
   },
   {
    "duration": 139,
    "start_time": "2023-09-29T15:09:15.142Z"
   },
   {
    "duration": 36,
    "start_time": "2023-09-29T15:09:15.283Z"
   },
   {
    "duration": 106,
    "start_time": "2023-09-29T15:09:15.321Z"
   },
   {
    "duration": 247,
    "start_time": "2023-09-29T15:09:15.429Z"
   },
   {
    "duration": 244,
    "start_time": "2023-09-29T15:09:15.678Z"
   },
   {
    "duration": 266,
    "start_time": "2023-09-29T15:09:15.924Z"
   },
   {
    "duration": 3,
    "start_time": "2023-09-29T15:09:16.193Z"
   },
   {
    "duration": 33,
    "start_time": "2023-09-29T15:09:16.197Z"
   },
   {
    "duration": 5,
    "start_time": "2023-09-29T15:09:16.233Z"
   },
   {
    "duration": 29,
    "start_time": "2023-09-29T15:09:16.240Z"
   },
   {
    "duration": 44,
    "start_time": "2023-09-29T15:09:16.271Z"
   },
   {
    "duration": 225,
    "start_time": "2023-09-29T15:09:16.317Z"
   },
   {
    "duration": 24,
    "start_time": "2023-09-29T15:09:16.544Z"
   },
   {
    "duration": 922,
    "start_time": "2023-09-29T15:09:16.570Z"
   },
   {
    "duration": 597,
    "start_time": "2023-09-29T15:09:17.494Z"
   },
   {
    "duration": 487,
    "start_time": "2023-09-29T15:09:18.093Z"
   },
   {
    "duration": 974,
    "start_time": "2023-09-29T15:09:18.582Z"
   },
   {
    "duration": 14,
    "start_time": "2023-09-29T15:09:19.559Z"
   },
   {
    "duration": 14,
    "start_time": "2023-09-29T15:09:19.574Z"
   },
   {
    "duration": 13,
    "start_time": "2023-09-29T15:09:19.590Z"
   },
   {
    "duration": 19,
    "start_time": "2023-09-29T15:09:19.604Z"
   },
   {
    "duration": 11,
    "start_time": "2023-09-29T15:09:19.624Z"
   },
   {
    "duration": 14,
    "start_time": "2023-09-29T15:09:19.637Z"
   },
   {
    "duration": 664,
    "start_time": "2023-09-29T15:09:19.653Z"
   },
   {
    "duration": 10,
    "start_time": "2023-09-29T15:11:38.803Z"
   },
   {
    "duration": 11,
    "start_time": "2023-09-29T16:17:02.181Z"
   },
   {
    "duration": 89,
    "start_time": "2023-09-29T16:19:27.412Z"
   },
   {
    "duration": 103,
    "start_time": "2023-09-29T16:19:40.988Z"
   },
   {
    "duration": 16,
    "start_time": "2023-09-29T16:20:04.700Z"
   },
   {
    "duration": 1487,
    "start_time": "2023-09-29T16:20:27.412Z"
   },
   {
    "duration": 10,
    "start_time": "2023-09-29T16:21:10.771Z"
   },
   {
    "duration": 6,
    "start_time": "2023-09-29T16:21:14.209Z"
   },
   {
    "duration": 1033,
    "start_time": "2023-09-29T16:21:14.218Z"
   },
   {
    "duration": 25,
    "start_time": "2023-09-29T16:21:15.253Z"
   },
   {
    "duration": 35,
    "start_time": "2023-09-29T16:21:15.280Z"
   },
   {
    "duration": 26,
    "start_time": "2023-09-29T16:21:15.318Z"
   },
   {
    "duration": 148,
    "start_time": "2023-09-29T16:21:15.346Z"
   },
   {
    "duration": 31,
    "start_time": "2023-09-29T16:21:15.496Z"
   },
   {
    "duration": 267,
    "start_time": "2023-09-29T16:21:15.529Z"
   },
   {
    "duration": 258,
    "start_time": "2023-09-29T16:21:15.798Z"
   },
   {
    "duration": 144,
    "start_time": "2023-09-29T16:21:16.058Z"
   },
   {
    "duration": 278,
    "start_time": "2023-09-29T16:21:16.204Z"
   },
   {
    "duration": 3,
    "start_time": "2023-09-29T16:21:16.484Z"
   },
   {
    "duration": 42,
    "start_time": "2023-09-29T16:21:16.488Z"
   },
   {
    "duration": 6,
    "start_time": "2023-09-29T16:21:16.535Z"
   },
   {
    "duration": 23,
    "start_time": "2023-09-29T16:21:16.542Z"
   },
   {
    "duration": 48,
    "start_time": "2023-09-29T16:21:16.568Z"
   },
   {
    "duration": 228,
    "start_time": "2023-09-29T16:21:16.618Z"
   },
   {
    "duration": 21,
    "start_time": "2023-09-29T16:21:16.848Z"
   },
   {
    "duration": 1118,
    "start_time": "2023-09-29T16:21:16.871Z"
   },
   {
    "duration": 528,
    "start_time": "2023-09-29T16:21:17.991Z"
   },
   {
    "duration": 536,
    "start_time": "2023-09-29T16:21:18.521Z"
   },
   {
    "duration": 1116,
    "start_time": "2023-09-29T16:21:19.059Z"
   },
   {
    "duration": 16,
    "start_time": "2023-09-29T16:21:20.177Z"
   },
   {
    "duration": 4,
    "start_time": "2023-09-29T16:21:20.209Z"
   },
   {
    "duration": 17,
    "start_time": "2023-09-29T16:21:20.215Z"
   },
   {
    "duration": 27,
    "start_time": "2023-09-29T16:21:20.233Z"
   },
   {
    "duration": 14,
    "start_time": "2023-09-29T16:21:20.262Z"
   },
   {
    "duration": 13,
    "start_time": "2023-09-29T16:21:20.277Z"
   },
   {
    "duration": 626,
    "start_time": "2023-09-29T16:21:20.292Z"
   },
   {
    "duration": 21,
    "start_time": "2023-09-29T16:24:52.413Z"
   },
   {
    "duration": 94,
    "start_time": "2023-09-29T16:25:23.851Z"
   },
   {
    "duration": 6,
    "start_time": "2023-09-29T16:25:30.130Z"
   },
   {
    "duration": 300,
    "start_time": "2023-09-29T16:27:59.870Z"
   },
   {
    "duration": 1935,
    "start_time": "2023-09-29T16:28:06.547Z"
   },
   {
    "duration": 12,
    "start_time": "2023-09-29T16:28:14.891Z"
   },
   {
    "duration": 13,
    "start_time": "2023-09-29T16:28:32.944Z"
   },
   {
    "duration": 13,
    "start_time": "2023-09-29T16:28:35.825Z"
   },
   {
    "duration": 17,
    "start_time": "2023-09-29T16:28:45.592Z"
   },
   {
    "duration": 4,
    "start_time": "2023-09-29T16:29:12.924Z"
   },
   {
    "duration": 881,
    "start_time": "2023-09-29T16:29:12.931Z"
   },
   {
    "duration": 18,
    "start_time": "2023-09-29T16:29:13.814Z"
   },
   {
    "duration": 15,
    "start_time": "2023-09-29T16:29:13.834Z"
   },
   {
    "duration": 20,
    "start_time": "2023-09-29T16:29:13.852Z"
   },
   {
    "duration": 170,
    "start_time": "2023-09-29T16:29:13.874Z"
   },
   {
    "duration": 23,
    "start_time": "2023-09-29T16:29:14.046Z"
   },
   {
    "duration": 117,
    "start_time": "2023-09-29T16:29:14.071Z"
   },
   {
    "duration": 245,
    "start_time": "2023-09-29T16:29:14.191Z"
   },
   {
    "duration": 151,
    "start_time": "2023-09-29T16:29:14.438Z"
   },
   {
    "duration": 290,
    "start_time": "2023-09-29T16:29:14.591Z"
   },
   {
    "duration": 4,
    "start_time": "2023-09-29T16:29:14.882Z"
   },
   {
    "duration": 35,
    "start_time": "2023-09-29T16:29:14.888Z"
   },
   {
    "duration": 6,
    "start_time": "2023-09-29T16:29:14.926Z"
   },
   {
    "duration": 20,
    "start_time": "2023-09-29T16:29:14.934Z"
   },
   {
    "duration": 28,
    "start_time": "2023-09-29T16:29:14.956Z"
   },
   {
    "duration": 229,
    "start_time": "2023-09-29T16:29:15.010Z"
   },
   {
    "duration": 22,
    "start_time": "2023-09-29T16:29:15.241Z"
   },
   {
    "duration": 964,
    "start_time": "2023-09-29T16:29:15.266Z"
   },
   {
    "duration": 645,
    "start_time": "2023-09-29T16:29:16.233Z"
   },
   {
    "duration": 517,
    "start_time": "2023-09-29T16:29:16.880Z"
   },
   {
    "duration": 866,
    "start_time": "2023-09-29T16:29:17.399Z"
   },
   {
    "duration": 13,
    "start_time": "2023-09-29T16:29:18.267Z"
   },
   {
    "duration": 30,
    "start_time": "2023-09-29T16:29:18.281Z"
   },
   {
    "duration": 17,
    "start_time": "2023-09-29T16:29:18.312Z"
   },
   {
    "duration": 27,
    "start_time": "2023-09-29T16:29:18.331Z"
   },
   {
    "duration": 7,
    "start_time": "2023-09-29T16:29:18.359Z"
   },
   {
    "duration": 7,
    "start_time": "2023-09-29T16:29:18.367Z"
   },
   {
    "duration": 571,
    "start_time": "2023-09-29T16:29:18.376Z"
   },
   {
    "duration": 4,
    "start_time": "2023-09-29T16:33:22.190Z"
   },
   {
    "duration": 1798,
    "start_time": "2023-09-29T16:35:59.619Z"
   },
   {
    "duration": 961,
    "start_time": "2023-09-29T16:36:01.419Z"
   },
   {
    "duration": 35,
    "start_time": "2023-09-29T16:36:02.382Z"
   },
   {
    "duration": 19,
    "start_time": "2023-09-29T16:36:02.420Z"
   },
   {
    "duration": 35,
    "start_time": "2023-09-29T16:36:02.442Z"
   },
   {
    "duration": 188,
    "start_time": "2023-09-29T16:36:02.479Z"
   },
   {
    "duration": 45,
    "start_time": "2023-09-29T16:36:02.669Z"
   },
   {
    "duration": 125,
    "start_time": "2023-09-29T16:36:02.716Z"
   },
   {
    "duration": 257,
    "start_time": "2023-09-29T16:36:02.842Z"
   },
   {
    "duration": 138,
    "start_time": "2023-09-29T16:36:03.101Z"
   },
   {
    "duration": 273,
    "start_time": "2023-09-29T16:36:03.241Z"
   },
   {
    "duration": 3,
    "start_time": "2023-09-29T16:36:03.516Z"
   },
   {
    "duration": 34,
    "start_time": "2023-09-29T16:36:03.521Z"
   },
   {
    "duration": 36,
    "start_time": "2023-09-29T16:36:03.557Z"
   },
   {
    "duration": 22,
    "start_time": "2023-09-29T16:36:03.595Z"
   },
   {
    "duration": 35,
    "start_time": "2023-09-29T16:36:03.619Z"
   },
   {
    "duration": 248,
    "start_time": "2023-09-29T16:36:03.656Z"
   },
   {
    "duration": 19,
    "start_time": "2023-09-29T16:36:03.906Z"
   },
   {
    "duration": 1001,
    "start_time": "2023-09-29T16:36:03.927Z"
   },
   {
    "duration": 529,
    "start_time": "2023-09-29T16:36:04.930Z"
   },
   {
    "duration": 631,
    "start_time": "2023-09-29T16:36:05.461Z"
   },
   {
    "duration": 1106,
    "start_time": "2023-09-29T16:36:06.094Z"
   },
   {
    "duration": 13,
    "start_time": "2023-09-29T16:36:07.210Z"
   },
   {
    "duration": 18,
    "start_time": "2023-09-29T16:36:07.225Z"
   },
   {
    "duration": 8,
    "start_time": "2023-09-29T16:36:07.245Z"
   },
   {
    "duration": 18,
    "start_time": "2023-09-29T16:36:07.255Z"
   },
   {
    "duration": 10,
    "start_time": "2023-09-29T16:36:07.274Z"
   },
   {
    "duration": 9,
    "start_time": "2023-09-29T16:36:07.286Z"
   },
   {
    "duration": 1621,
    "start_time": "2023-09-29T16:40:07.628Z"
   },
   {
    "duration": 998,
    "start_time": "2023-09-29T16:40:09.252Z"
   },
   {
    "duration": 22,
    "start_time": "2023-09-29T16:40:10.252Z"
   },
   {
    "duration": 25,
    "start_time": "2023-09-29T16:40:10.276Z"
   },
   {
    "duration": 20,
    "start_time": "2023-09-29T16:40:10.310Z"
   },
   {
    "duration": 144,
    "start_time": "2023-09-29T16:40:10.332Z"
   },
   {
    "duration": 21,
    "start_time": "2023-09-29T16:40:10.478Z"
   },
   {
    "duration": 114,
    "start_time": "2023-09-29T16:40:10.510Z"
   },
   {
    "duration": 256,
    "start_time": "2023-09-29T16:40:10.626Z"
   },
   {
    "duration": 143,
    "start_time": "2023-09-29T16:40:10.883Z"
   },
   {
    "duration": 273,
    "start_time": "2023-09-29T16:40:11.028Z"
   },
   {
    "duration": 3,
    "start_time": "2023-09-29T16:40:11.303Z"
   },
   {
    "duration": 26,
    "start_time": "2023-09-29T16:40:11.309Z"
   },
   {
    "duration": 6,
    "start_time": "2023-09-29T16:40:11.339Z"
   },
   {
    "duration": 33,
    "start_time": "2023-09-29T16:40:11.346Z"
   },
   {
    "duration": 49,
    "start_time": "2023-09-29T16:40:11.381Z"
   },
   {
    "duration": 236,
    "start_time": "2023-09-29T16:40:11.432Z"
   },
   {
    "duration": 21,
    "start_time": "2023-09-29T16:40:11.670Z"
   },
   {
    "duration": 1101,
    "start_time": "2023-09-29T16:40:11.708Z"
   },
   {
    "duration": 491,
    "start_time": "2023-09-29T16:40:12.811Z"
   },
   {
    "duration": 636,
    "start_time": "2023-09-29T16:40:13.304Z"
   },
   {
    "duration": 914,
    "start_time": "2023-09-29T16:40:13.942Z"
   },
   {
    "duration": 16,
    "start_time": "2023-09-29T16:40:14.858Z"
   },
   {
    "duration": 21,
    "start_time": "2023-09-29T16:40:14.876Z"
   },
   {
    "duration": 26,
    "start_time": "2023-09-29T16:40:14.900Z"
   },
   {
    "duration": 47,
    "start_time": "2023-09-29T16:40:14.927Z"
   },
   {
    "duration": 17,
    "start_time": "2023-09-29T16:40:14.975Z"
   },
   {
    "duration": 15,
    "start_time": "2023-09-29T16:40:14.994Z"
   },
   {
    "duration": 1822,
    "start_time": "2023-09-29T16:41:43.675Z"
   },
   {
    "duration": 994,
    "start_time": "2023-09-29T16:41:45.500Z"
   },
   {
    "duration": 24,
    "start_time": "2023-09-29T16:41:46.496Z"
   },
   {
    "duration": 16,
    "start_time": "2023-09-29T16:41:46.522Z"
   },
   {
    "duration": 30,
    "start_time": "2023-09-29T16:41:46.542Z"
   },
   {
    "duration": 161,
    "start_time": "2023-09-29T16:41:46.574Z"
   },
   {
    "duration": 20,
    "start_time": "2023-09-29T16:41:46.737Z"
   },
   {
    "duration": 115,
    "start_time": "2023-09-29T16:41:46.759Z"
   },
   {
    "duration": 252,
    "start_time": "2023-09-29T16:41:46.876Z"
   },
   {
    "duration": 141,
    "start_time": "2023-09-29T16:41:47.130Z"
   },
   {
    "duration": 280,
    "start_time": "2023-09-29T16:41:47.273Z"
   },
   {
    "duration": 3,
    "start_time": "2023-09-29T16:41:47.554Z"
   },
   {
    "duration": 40,
    "start_time": "2023-09-29T16:41:47.560Z"
   },
   {
    "duration": 6,
    "start_time": "2023-09-29T16:41:47.608Z"
   },
   {
    "duration": 23,
    "start_time": "2023-09-29T16:41:47.616Z"
   },
   {
    "duration": 31,
    "start_time": "2023-09-29T16:41:47.640Z"
   },
   {
    "duration": 263,
    "start_time": "2023-09-29T16:41:47.673Z"
   },
   {
    "duration": 19,
    "start_time": "2023-09-29T16:41:47.938Z"
   },
   {
    "duration": 1010,
    "start_time": "2023-09-29T16:41:47.959Z"
   },
   {
    "duration": 510,
    "start_time": "2023-09-29T16:41:48.971Z"
   },
   {
    "duration": 644,
    "start_time": "2023-09-29T16:41:49.483Z"
   },
   {
    "duration": 932,
    "start_time": "2023-09-29T16:41:50.129Z"
   },
   {
    "duration": 14,
    "start_time": "2023-09-29T16:41:51.063Z"
   },
   {
    "duration": 35,
    "start_time": "2023-09-29T16:41:51.079Z"
   },
   {
    "duration": 21,
    "start_time": "2023-09-29T16:41:51.115Z"
   },
   {
    "duration": 68,
    "start_time": "2023-09-29T16:41:51.138Z"
   },
   {
    "duration": 23,
    "start_time": "2023-09-29T16:41:51.208Z"
   },
   {
    "duration": 27,
    "start_time": "2023-09-29T16:41:51.232Z"
   },
   {
    "duration": 35,
    "start_time": "2023-09-29T16:41:51.261Z"
   },
   {
    "duration": 1631,
    "start_time": "2023-09-29T16:46:38.906Z"
   },
   {
    "duration": 964,
    "start_time": "2023-09-29T16:46:40.539Z"
   },
   {
    "duration": 24,
    "start_time": "2023-09-29T16:46:41.505Z"
   },
   {
    "duration": 13,
    "start_time": "2023-09-29T16:46:41.531Z"
   },
   {
    "duration": 30,
    "start_time": "2023-09-29T16:46:41.546Z"
   },
   {
    "duration": 145,
    "start_time": "2023-09-29T16:46:41.578Z"
   },
   {
    "duration": 20,
    "start_time": "2023-09-29T16:46:41.725Z"
   },
   {
    "duration": 112,
    "start_time": "2023-09-29T16:46:41.747Z"
   },
   {
    "duration": 258,
    "start_time": "2023-09-29T16:46:41.860Z"
   },
   {
    "duration": 141,
    "start_time": "2023-09-29T16:46:42.119Z"
   },
   {
    "duration": 314,
    "start_time": "2023-09-29T16:46:42.262Z"
   },
   {
    "duration": 4,
    "start_time": "2023-09-29T16:46:42.579Z"
   },
   {
    "duration": 58,
    "start_time": "2023-09-29T16:46:42.585Z"
   },
   {
    "duration": 8,
    "start_time": "2023-09-29T16:46:42.647Z"
   },
   {
    "duration": 129,
    "start_time": "2023-09-29T16:46:42.657Z"
   },
   {
    "duration": 31,
    "start_time": "2023-09-29T16:46:42.788Z"
   },
   {
    "duration": 226,
    "start_time": "2023-09-29T16:46:42.821Z"
   },
   {
    "duration": 19,
    "start_time": "2023-09-29T16:46:43.049Z"
   },
   {
    "duration": 990,
    "start_time": "2023-09-29T16:46:43.070Z"
   },
   {
    "duration": 500,
    "start_time": "2023-09-29T16:46:44.062Z"
   },
   {
    "duration": 620,
    "start_time": "2023-09-29T16:46:44.565Z"
   },
   {
    "duration": 961,
    "start_time": "2023-09-29T16:46:45.187Z"
   },
   {
    "duration": 13,
    "start_time": "2023-09-29T16:46:46.150Z"
   },
   {
    "duration": 3,
    "start_time": "2023-09-29T16:46:46.165Z"
   },
   {
    "duration": 19,
    "start_time": "2023-09-29T16:46:46.169Z"
   },
   {
    "duration": 32,
    "start_time": "2023-09-29T16:46:46.190Z"
   },
   {
    "duration": 28,
    "start_time": "2023-09-29T16:46:46.223Z"
   },
   {
    "duration": 14,
    "start_time": "2023-09-29T16:46:46.253Z"
   },
   {
    "duration": 26,
    "start_time": "2023-09-29T16:46:46.269Z"
   },
   {
    "duration": 399318,
    "start_time": "2023-09-29T16:46:46.297Z"
   },
   {
    "duration": 94,
    "start_time": "2023-09-29T16:53:25.618Z"
   },
   {
    "duration": 117,
    "start_time": "2023-09-29T17:10:11.982Z"
   },
   {
    "duration": 14,
    "start_time": "2023-09-29T17:10:48.888Z"
   },
   {
    "duration": 8,
    "start_time": "2023-09-29T17:11:02.812Z"
   },
   {
    "duration": 8,
    "start_time": "2023-09-29T17:11:07.172Z"
   },
   {
    "duration": 11,
    "start_time": "2023-09-29T17:24:38.132Z"
   },
   {
    "duration": 18,
    "start_time": "2023-09-29T17:24:46.449Z"
   },
   {
    "duration": 20,
    "start_time": "2023-09-29T17:24:55.269Z"
   },
   {
    "duration": 16,
    "start_time": "2023-09-29T17:25:36.790Z"
   },
   {
    "duration": 15,
    "start_time": "2023-09-29T17:25:43.371Z"
   },
   {
    "duration": 16,
    "start_time": "2023-09-29T17:26:01.929Z"
   },
   {
    "duration": 12,
    "start_time": "2023-09-29T17:29:14.488Z"
   },
   {
    "duration": 28,
    "start_time": "2023-09-29T17:29:39.266Z"
   },
   {
    "duration": 138,
    "start_time": "2023-09-29T17:29:46.844Z"
   },
   {
    "duration": 12,
    "start_time": "2023-09-29T17:29:52.300Z"
   },
   {
    "duration": 33,
    "start_time": "2023-09-29T17:30:01.303Z"
   },
   {
    "duration": 19,
    "start_time": "2023-09-29T17:30:12.531Z"
   },
   {
    "duration": 33,
    "start_time": "2023-09-29T17:30:26.864Z"
   },
   {
    "duration": 16,
    "start_time": "2023-09-29T17:30:35.167Z"
   },
   {
    "duration": 19,
    "start_time": "2023-09-29T17:30:54.586Z"
   },
   {
    "duration": 9,
    "start_time": "2023-09-29T17:33:03.719Z"
   },
   {
    "duration": 8,
    "start_time": "2023-09-29T17:33:21.339Z"
   },
   {
    "duration": 10,
    "start_time": "2023-09-29T17:34:10.678Z"
   },
   {
    "duration": 8,
    "start_time": "2023-09-29T17:35:02.003Z"
   },
   {
    "duration": 9,
    "start_time": "2023-09-29T17:35:14.941Z"
   },
   {
    "duration": 7,
    "start_time": "2023-09-29T17:35:33.640Z"
   },
   {
    "duration": 12,
    "start_time": "2023-09-29T17:35:56.136Z"
   },
   {
    "duration": 10,
    "start_time": "2023-09-30T09:41:45.730Z"
   },
   {
    "duration": 27,
    "start_time": "2023-09-30T09:42:05.572Z"
   },
   {
    "duration": 11,
    "start_time": "2023-09-30T09:42:19.916Z"
   },
   {
    "duration": 45,
    "start_time": "2023-09-30T13:51:07.649Z"
   },
   {
    "duration": 7,
    "start_time": "2023-09-30T13:51:23.098Z"
   },
   {
    "duration": 1566,
    "start_time": "2023-09-30T13:51:25.387Z"
   },
   {
    "duration": 3485,
    "start_time": "2023-09-30T13:51:26.955Z"
   },
   {
    "duration": 18,
    "start_time": "2023-09-30T13:51:30.442Z"
   },
   {
    "duration": 22,
    "start_time": "2023-09-30T13:51:30.462Z"
   },
   {
    "duration": 28,
    "start_time": "2023-09-30T13:51:30.486Z"
   },
   {
    "duration": 142,
    "start_time": "2023-09-30T13:51:30.516Z"
   },
   {
    "duration": 17,
    "start_time": "2023-09-30T13:51:30.660Z"
   },
   {
    "duration": 117,
    "start_time": "2023-09-30T13:51:30.679Z"
   },
   {
    "duration": 215,
    "start_time": "2023-09-30T13:51:30.797Z"
   },
   {
    "duration": 138,
    "start_time": "2023-09-30T13:51:31.013Z"
   },
   {
    "duration": 232,
    "start_time": "2023-09-30T13:51:31.153Z"
   },
   {
    "duration": 3,
    "start_time": "2023-09-30T13:51:31.387Z"
   },
   {
    "duration": 56,
    "start_time": "2023-09-30T13:51:31.391Z"
   },
   {
    "duration": 7,
    "start_time": "2023-09-30T13:51:31.449Z"
   },
   {
    "duration": 37,
    "start_time": "2023-09-30T13:51:31.457Z"
   },
   {
    "duration": 25,
    "start_time": "2023-09-30T13:51:31.496Z"
   },
   {
    "duration": 205,
    "start_time": "2023-09-30T13:51:31.523Z"
   },
   {
    "duration": 30,
    "start_time": "2023-09-30T13:51:31.730Z"
   },
   {
    "duration": 898,
    "start_time": "2023-09-30T13:51:31.762Z"
   },
   {
    "duration": 444,
    "start_time": "2023-09-30T13:51:32.661Z"
   },
   {
    "duration": 525,
    "start_time": "2023-09-30T13:51:33.106Z"
   },
   {
    "duration": 848,
    "start_time": "2023-09-30T13:51:33.633Z"
   },
   {
    "duration": 13,
    "start_time": "2023-09-30T13:51:34.483Z"
   },
   {
    "duration": 3,
    "start_time": "2023-09-30T13:51:34.498Z"
   },
   {
    "duration": 11,
    "start_time": "2023-09-30T13:51:34.502Z"
   },
   {
    "duration": 32,
    "start_time": "2023-09-30T13:51:34.514Z"
   },
   {
    "duration": 3,
    "start_time": "2023-09-30T13:51:34.548Z"
   },
   {
    "duration": 28,
    "start_time": "2023-09-30T13:51:34.552Z"
   },
   {
    "duration": 17,
    "start_time": "2023-09-30T13:51:34.582Z"
   },
   {
    "duration": 363050,
    "start_time": "2023-09-30T13:51:34.601Z"
   },
   {
    "duration": 95,
    "start_time": "2023-09-30T13:57:37.660Z"
   },
   {
    "duration": 75,
    "start_time": "2023-09-30T13:57:37.757Z"
   },
   {
    "duration": 9,
    "start_time": "2023-09-30T15:37:11.300Z"
   },
   {
    "duration": 4,
    "start_time": "2023-09-30T15:37:23.965Z"
   },
   {
    "duration": 13,
    "start_time": "2023-09-30T15:49:55.539Z"
   },
   {
    "duration": 25,
    "start_time": "2023-09-30T15:50:09.246Z"
   },
   {
    "duration": 39,
    "start_time": "2023-09-30T15:52:58.506Z"
   },
   {
    "duration": 23,
    "start_time": "2023-09-30T15:53:25.138Z"
   },
   {
    "duration": 13,
    "start_time": "2023-09-30T15:53:49.366Z"
   },
   {
    "duration": 37,
    "start_time": "2023-09-30T15:53:53.923Z"
   },
   {
    "duration": 34,
    "start_time": "2023-09-30T15:54:03.354Z"
   },
   {
    "duration": 32,
    "start_time": "2023-09-30T15:54:08.543Z"
   },
   {
    "duration": 25,
    "start_time": "2023-09-30T15:54:28.252Z"
   },
   {
    "duration": 6,
    "start_time": "2023-09-30T15:54:43.106Z"
   },
   {
    "duration": 28,
    "start_time": "2023-09-30T15:54:50.006Z"
   },
   {
    "duration": 26,
    "start_time": "2023-09-30T15:54:54.511Z"
   },
   {
    "duration": 4,
    "start_time": "2023-09-30T15:55:47.884Z"
   },
   {
    "duration": 17,
    "start_time": "2023-09-30T15:56:27.031Z"
   },
   {
    "duration": 28,
    "start_time": "2023-09-30T15:58:25.619Z"
   },
   {
    "duration": 31,
    "start_time": "2023-09-30T15:58:28.082Z"
   },
   {
    "duration": 40,
    "start_time": "2023-09-30T15:58:54.884Z"
   },
   {
    "duration": 27,
    "start_time": "2023-09-30T15:59:05.036Z"
   },
   {
    "duration": 14,
    "start_time": "2023-09-30T16:00:02.313Z"
   },
   {
    "duration": 131,
    "start_time": "2023-09-30T16:00:10.219Z"
   },
   {
    "duration": 12,
    "start_time": "2023-09-30T16:00:17.372Z"
   },
   {
    "duration": 11,
    "start_time": "2023-09-30T16:56:53.556Z"
   },
   {
    "duration": 9,
    "start_time": "2023-09-30T16:57:07.623Z"
   },
   {
    "duration": 9,
    "start_time": "2023-09-30T16:57:11.687Z"
   },
   {
    "duration": 10,
    "start_time": "2023-09-30T17:26:58.530Z"
   },
   {
    "duration": 9,
    "start_time": "2023-09-30T17:27:09.917Z"
   },
   {
    "duration": 1538,
    "start_time": "2023-09-30T17:27:28.833Z"
   },
   {
    "duration": 33,
    "start_time": "2023-09-30T17:27:44.945Z"
   },
   {
    "duration": 43,
    "start_time": "2023-09-30T17:30:06.894Z"
   },
   {
    "duration": 59,
    "start_time": "2023-09-30T17:30:13.391Z"
   },
   {
    "duration": 43,
    "start_time": "2023-09-30T17:30:38.223Z"
   },
   {
    "duration": 16,
    "start_time": "2023-09-30T17:30:43.544Z"
   },
   {
    "duration": 112,
    "start_time": "2023-09-30T17:30:47.082Z"
   },
   {
    "duration": 87,
    "start_time": "2023-09-30T17:30:54.479Z"
   },
   {
    "duration": 12,
    "start_time": "2023-09-30T17:30:57.275Z"
   },
   {
    "duration": 37,
    "start_time": "2023-09-30T17:31:47.060Z"
   },
   {
    "duration": 1796,
    "start_time": "2023-09-30T17:32:01.419Z"
   },
   {
    "duration": 2054,
    "start_time": "2023-09-30T17:32:22.077Z"
   },
   {
    "duration": 20,
    "start_time": "2023-09-30T17:32:51.703Z"
   },
   {
    "duration": 29,
    "start_time": "2023-09-30T17:32:59.055Z"
   },
   {
    "duration": 21,
    "start_time": "2023-09-30T17:33:12.188Z"
   },
   {
    "duration": 31,
    "start_time": "2023-09-30T17:33:17.735Z"
   },
   {
    "duration": 30,
    "start_time": "2023-09-30T17:33:25.649Z"
   },
   {
    "duration": 28,
    "start_time": "2023-09-30T17:36:27.951Z"
   },
   {
    "duration": 178,
    "start_time": "2023-09-30T17:37:19.514Z"
   },
   {
    "duration": 12,
    "start_time": "2023-09-30T17:37:36.439Z"
   },
   {
    "duration": 23,
    "start_time": "2023-09-30T17:38:32.739Z"
   },
   {
    "duration": 25,
    "start_time": "2023-09-30T17:38:42.098Z"
   },
   {
    "duration": 1398,
    "start_time": "2023-09-30T17:39:15.527Z"
   },
   {
    "duration": 872,
    "start_time": "2023-09-30T17:39:16.927Z"
   },
   {
    "duration": 18,
    "start_time": "2023-09-30T17:39:17.801Z"
   },
   {
    "duration": 24,
    "start_time": "2023-09-30T17:39:17.821Z"
   },
   {
    "duration": 16,
    "start_time": "2023-09-30T17:39:17.847Z"
   },
   {
    "duration": 123,
    "start_time": "2023-09-30T17:39:17.864Z"
   },
   {
    "duration": 19,
    "start_time": "2023-09-30T17:39:17.988Z"
   },
   {
    "duration": 103,
    "start_time": "2023-09-30T17:39:18.008Z"
   },
   {
    "duration": 207,
    "start_time": "2023-09-30T17:39:18.112Z"
   },
   {
    "duration": 122,
    "start_time": "2023-09-30T17:39:18.322Z"
   },
   {
    "duration": 239,
    "start_time": "2023-09-30T17:39:18.446Z"
   },
   {
    "duration": 3,
    "start_time": "2023-09-30T17:39:18.687Z"
   },
   {
    "duration": 36,
    "start_time": "2023-09-30T17:39:18.693Z"
   },
   {
    "duration": 5,
    "start_time": "2023-09-30T17:39:18.731Z"
   },
   {
    "duration": 18,
    "start_time": "2023-09-30T17:39:18.745Z"
   },
   {
    "duration": 27,
    "start_time": "2023-09-30T17:39:18.764Z"
   },
   {
    "duration": 207,
    "start_time": "2023-09-30T17:39:18.793Z"
   },
   {
    "duration": 19,
    "start_time": "2023-09-30T17:39:19.002Z"
   },
   {
    "duration": 863,
    "start_time": "2023-09-30T17:39:19.023Z"
   },
   {
    "duration": 432,
    "start_time": "2023-09-30T17:39:19.887Z"
   },
   {
    "duration": 523,
    "start_time": "2023-09-30T17:39:20.321Z"
   },
   {
    "duration": 790,
    "start_time": "2023-09-30T17:39:20.846Z"
   },
   {
    "duration": 15,
    "start_time": "2023-09-30T17:39:21.638Z"
   },
   {
    "duration": 3,
    "start_time": "2023-09-30T17:39:21.654Z"
   },
   {
    "duration": 5,
    "start_time": "2023-09-30T17:39:21.658Z"
   },
   {
    "duration": 13,
    "start_time": "2023-09-30T17:39:21.664Z"
   },
   {
    "duration": 2,
    "start_time": "2023-09-30T17:39:21.679Z"
   },
   {
    "duration": 3,
    "start_time": "2023-09-30T17:39:21.684Z"
   },
   {
    "duration": 8,
    "start_time": "2023-09-30T17:39:21.688Z"
   },
   {
    "duration": 348849,
    "start_time": "2023-09-30T17:39:21.697Z"
   },
   {
    "duration": 99,
    "start_time": "2023-09-30T17:45:10.548Z"
   },
   {
    "duration": 16,
    "start_time": "2023-09-30T17:45:10.649Z"
   },
   {
    "duration": 24,
    "start_time": "2023-09-30T17:45:10.667Z"
   },
   {
    "duration": 26,
    "start_time": "2023-09-30T17:45:10.693Z"
   },
   {
    "duration": 115,
    "start_time": "2023-09-30T17:45:10.721Z"
   },
   {
    "duration": 0,
    "start_time": "2023-09-30T17:45:10.837Z"
   },
   {
    "duration": 10,
    "start_time": "2023-09-30T18:08:23.670Z"
   },
   {
    "duration": 8,
    "start_time": "2023-09-30T18:08:35.339Z"
   },
   {
    "duration": 11,
    "start_time": "2023-09-30T18:08:53.274Z"
   },
   {
    "duration": 32,
    "start_time": "2023-09-30T18:09:13.396Z"
   },
   {
    "duration": 20,
    "start_time": "2023-09-30T18:10:11.045Z"
   },
   {
    "duration": 4,
    "start_time": "2023-09-30T18:10:16.910Z"
   },
   {
    "duration": 76,
    "start_time": "2023-09-30T18:10:23.168Z"
   },
   {
    "duration": 60,
    "start_time": "2023-09-30T18:10:41.499Z"
   },
   {
    "duration": 97,
    "start_time": "2023-09-30T18:11:28.475Z"
   },
   {
    "duration": 68,
    "start_time": "2023-09-30T18:11:36.996Z"
   },
   {
    "duration": 64,
    "start_time": "2023-09-30T18:12:23.687Z"
   },
   {
    "duration": 19,
    "start_time": "2023-09-30T18:12:50.805Z"
   },
   {
    "duration": 61,
    "start_time": "2023-09-30T18:13:01.639Z"
   },
   {
    "duration": 64,
    "start_time": "2023-09-30T18:13:09.220Z"
   },
   {
    "duration": 28,
    "start_time": "2023-09-30T18:13:53.433Z"
   },
   {
    "duration": 62,
    "start_time": "2023-09-30T18:14:37.242Z"
   },
   {
    "duration": 60,
    "start_time": "2023-09-30T18:14:43.163Z"
   },
   {
    "duration": 65,
    "start_time": "2023-09-30T18:15:11.186Z"
   },
   {
    "duration": 62,
    "start_time": "2023-09-30T18:15:17.665Z"
   },
   {
    "duration": 10,
    "start_time": "2023-10-01T20:37:46.014Z"
   },
   {
    "duration": 43,
    "start_time": "2023-10-01T20:37:51.289Z"
   },
   {
    "duration": 1681,
    "start_time": "2023-10-01T20:38:01.543Z"
   },
   {
    "duration": 2308,
    "start_time": "2023-10-01T20:38:03.227Z"
   },
   {
    "duration": 20,
    "start_time": "2023-10-01T20:38:05.537Z"
   },
   {
    "duration": 13,
    "start_time": "2023-10-01T20:38:05.558Z"
   },
   {
    "duration": 26,
    "start_time": "2023-10-01T20:38:05.573Z"
   },
   {
    "duration": 118,
    "start_time": "2023-10-01T20:38:05.600Z"
   },
   {
    "duration": 24,
    "start_time": "2023-10-01T20:38:05.720Z"
   },
   {
    "duration": 140,
    "start_time": "2023-10-01T20:38:05.746Z"
   },
   {
    "duration": 252,
    "start_time": "2023-10-01T20:38:05.889Z"
   },
   {
    "duration": 138,
    "start_time": "2023-10-01T20:38:06.142Z"
   },
   {
    "duration": 255,
    "start_time": "2023-10-01T20:38:06.281Z"
   },
   {
    "duration": 3,
    "start_time": "2023-10-01T20:38:06.538Z"
   },
   {
    "duration": 31,
    "start_time": "2023-10-01T20:38:06.542Z"
   },
   {
    "duration": 4,
    "start_time": "2023-10-01T20:38:06.576Z"
   },
   {
    "duration": 19,
    "start_time": "2023-10-01T20:38:06.581Z"
   },
   {
    "duration": 44,
    "start_time": "2023-10-01T20:38:06.602Z"
   },
   {
    "duration": 236,
    "start_time": "2023-10-01T20:38:06.648Z"
   },
   {
    "duration": 23,
    "start_time": "2023-10-01T20:38:06.885Z"
   },
   {
    "duration": 926,
    "start_time": "2023-10-01T20:38:06.909Z"
   },
   {
    "duration": 437,
    "start_time": "2023-10-01T20:38:07.837Z"
   },
   {
    "duration": 551,
    "start_time": "2023-10-01T20:38:08.275Z"
   },
   {
    "duration": 951,
    "start_time": "2023-10-01T20:38:08.827Z"
   },
   {
    "duration": 15,
    "start_time": "2023-10-01T20:38:09.780Z"
   },
   {
    "duration": 27,
    "start_time": "2023-10-01T20:38:09.797Z"
   },
   {
    "duration": 29,
    "start_time": "2023-10-01T20:38:09.826Z"
   },
   {
    "duration": 32,
    "start_time": "2023-10-01T20:38:09.857Z"
   },
   {
    "duration": 18,
    "start_time": "2023-10-01T20:38:09.892Z"
   },
   {
    "duration": 23,
    "start_time": "2023-10-01T20:38:09.911Z"
   },
   {
    "duration": 22,
    "start_time": "2023-10-01T20:38:09.936Z"
   },
   {
    "duration": 363570,
    "start_time": "2023-10-01T20:38:09.960Z"
   },
   {
    "duration": 95,
    "start_time": "2023-10-01T20:44:13.532Z"
   },
   {
    "duration": 28,
    "start_time": "2023-10-01T20:44:13.629Z"
   },
   {
    "duration": 34,
    "start_time": "2023-10-01T20:44:13.658Z"
   },
   {
    "duration": 79,
    "start_time": "2023-10-01T20:44:13.774Z"
   },
   {
    "duration": 5,
    "start_time": "2023-10-01T20:46:52.080Z"
   },
   {
    "duration": 178,
    "start_time": "2023-10-01T20:47:15.985Z"
   },
   {
    "duration": 69,
    "start_time": "2023-10-01T20:47:29.247Z"
   },
   {
    "duration": 68,
    "start_time": "2023-10-01T20:47:38.485Z"
   },
   {
    "duration": 72,
    "start_time": "2023-10-01T20:47:46.869Z"
   },
   {
    "duration": 71,
    "start_time": "2023-10-01T20:47:52.240Z"
   },
   {
    "duration": 68,
    "start_time": "2023-10-01T20:47:56.016Z"
   },
   {
    "duration": 7,
    "start_time": "2023-10-01T20:49:45.234Z"
   },
   {
    "duration": 10,
    "start_time": "2023-10-01T20:49:57.018Z"
   },
   {
    "duration": 8,
    "start_time": "2023-10-01T20:50:00.638Z"
   },
   {
    "duration": 7,
    "start_time": "2023-10-01T20:50:07.498Z"
   },
   {
    "duration": 8,
    "start_time": "2023-10-01T20:50:10.984Z"
   },
   {
    "duration": 7,
    "start_time": "2023-10-01T20:50:28.775Z"
   },
   {
    "duration": 6,
    "start_time": "2023-10-01T20:50:35.493Z"
   },
   {
    "duration": 5,
    "start_time": "2023-10-01T20:50:40.975Z"
   },
   {
    "duration": 25,
    "start_time": "2023-10-01T20:50:44.631Z"
   },
   {
    "duration": 17,
    "start_time": "2023-10-01T20:50:47.946Z"
   },
   {
    "duration": 23,
    "start_time": "2023-10-01T20:51:16.358Z"
   },
   {
    "duration": 21,
    "start_time": "2023-10-01T20:51:21.912Z"
   },
   {
    "duration": 23,
    "start_time": "2023-10-01T20:51:51.132Z"
   },
   {
    "duration": 13,
    "start_time": "2023-10-01T20:51:58.855Z"
   },
   {
    "duration": 31,
    "start_time": "2023-10-01T20:52:02.452Z"
   },
   {
    "duration": 25,
    "start_time": "2023-10-01T20:52:05.722Z"
   },
   {
    "duration": 8,
    "start_time": "2023-10-01T20:52:18.411Z"
   },
   {
    "duration": 8,
    "start_time": "2023-10-01T20:52:28.015Z"
   },
   {
    "duration": 5,
    "start_time": "2023-10-01T20:52:31.882Z"
   },
   {
    "duration": 24,
    "start_time": "2023-10-01T20:52:34.585Z"
   },
   {
    "duration": 28,
    "start_time": "2023-10-01T20:52:37.152Z"
   },
   {
    "duration": 21,
    "start_time": "2023-10-01T20:52:40.085Z"
   },
   {
    "duration": 1517,
    "start_time": "2023-10-01T20:52:44.408Z"
   },
   {
    "duration": 906,
    "start_time": "2023-10-01T20:52:45.928Z"
   },
   {
    "duration": 19,
    "start_time": "2023-10-01T20:52:46.838Z"
   },
   {
    "duration": 12,
    "start_time": "2023-10-01T20:52:46.859Z"
   },
   {
    "duration": 19,
    "start_time": "2023-10-01T20:52:46.872Z"
   },
   {
    "duration": 155,
    "start_time": "2023-10-01T20:52:46.894Z"
   },
   {
    "duration": 20,
    "start_time": "2023-10-01T20:52:47.050Z"
   },
   {
    "duration": 102,
    "start_time": "2023-10-01T20:52:47.071Z"
   },
   {
    "duration": 258,
    "start_time": "2023-10-01T20:52:47.174Z"
   },
   {
    "duration": 134,
    "start_time": "2023-10-01T20:52:47.433Z"
   },
   {
    "duration": 248,
    "start_time": "2023-10-01T20:52:47.569Z"
   },
   {
    "duration": 4,
    "start_time": "2023-10-01T20:52:47.819Z"
   },
   {
    "duration": 32,
    "start_time": "2023-10-01T20:52:47.826Z"
   },
   {
    "duration": 5,
    "start_time": "2023-10-01T20:52:47.859Z"
   },
   {
    "duration": 45,
    "start_time": "2023-10-01T20:52:47.865Z"
   },
   {
    "duration": 28,
    "start_time": "2023-10-01T20:52:47.912Z"
   },
   {
    "duration": 210,
    "start_time": "2023-10-01T20:52:47.942Z"
   },
   {
    "duration": 18,
    "start_time": "2023-10-01T20:52:48.154Z"
   },
   {
    "duration": 951,
    "start_time": "2023-10-01T20:52:48.173Z"
   },
   {
    "duration": 447,
    "start_time": "2023-10-01T20:52:49.126Z"
   },
   {
    "duration": 618,
    "start_time": "2023-10-01T20:52:49.575Z"
   },
   {
    "duration": 869,
    "start_time": "2023-10-01T20:52:50.195Z"
   },
   {
    "duration": 14,
    "start_time": "2023-10-01T20:52:51.066Z"
   },
   {
    "duration": 28,
    "start_time": "2023-10-01T20:52:51.082Z"
   },
   {
    "duration": 18,
    "start_time": "2023-10-01T20:52:51.112Z"
   },
   {
    "duration": 18,
    "start_time": "2023-10-01T20:52:51.132Z"
   },
   {
    "duration": 10,
    "start_time": "2023-10-01T20:52:51.151Z"
   },
   {
    "duration": 6,
    "start_time": "2023-10-01T20:52:51.163Z"
   },
   {
    "duration": 29,
    "start_time": "2023-10-01T20:52:51.170Z"
   },
   {
    "duration": 366024,
    "start_time": "2023-10-01T20:52:51.201Z"
   },
   {
    "duration": 98,
    "start_time": "2023-10-01T20:58:57.228Z"
   },
   {
    "duration": 15,
    "start_time": "2023-10-01T20:58:57.328Z"
   },
   {
    "duration": 24,
    "start_time": "2023-10-01T20:58:57.344Z"
   },
   {
    "duration": 70,
    "start_time": "2023-10-01T20:58:57.369Z"
   },
   {
    "duration": 9,
    "start_time": "2023-10-01T21:01:11.458Z"
   },
   {
    "duration": 10,
    "start_time": "2023-10-01T21:01:16.266Z"
   },
   {
    "duration": 8,
    "start_time": "2023-10-01T21:01:39.222Z"
   },
   {
    "duration": 69,
    "start_time": "2023-10-01T21:02:17.062Z"
   },
   {
    "duration": 73,
    "start_time": "2023-10-01T21:02:26.255Z"
   },
   {
    "duration": 82,
    "start_time": "2023-10-01T21:02:32.836Z"
   },
   {
    "duration": 67,
    "start_time": "2023-10-01T21:02:38.331Z"
   },
   {
    "duration": 67,
    "start_time": "2023-10-01T21:02:43.370Z"
   },
   {
    "duration": 68,
    "start_time": "2023-10-01T21:02:49.055Z"
   },
   {
    "duration": 70,
    "start_time": "2023-10-01T21:02:53.210Z"
   },
   {
    "duration": 127,
    "start_time": "2023-10-01T21:03:11.963Z"
   },
   {
    "duration": 10,
    "start_time": "2023-10-01T21:03:59.539Z"
   },
   {
    "duration": 68,
    "start_time": "2023-10-01T21:04:03.366Z"
   },
   {
    "duration": 11,
    "start_time": "2023-10-01T21:04:05.611Z"
   },
   {
    "duration": 12,
    "start_time": "2023-10-01T21:05:16.759Z"
   },
   {
    "duration": 13,
    "start_time": "2023-10-01T21:05:42.867Z"
   },
   {
    "duration": 13,
    "start_time": "2023-10-01T21:05:49.690Z"
   },
   {
    "duration": 72,
    "start_time": "2023-10-01T21:06:02.342Z"
   },
   {
    "duration": 72,
    "start_time": "2023-10-01T21:06:09.728Z"
   },
   {
    "duration": 66,
    "start_time": "2023-10-01T21:06:14.295Z"
   },
   {
    "duration": 66,
    "start_time": "2023-10-01T21:06:19.415Z"
   },
   {
    "duration": 87,
    "start_time": "2023-10-01T21:06:25.783Z"
   },
   {
    "duration": 66,
    "start_time": "2023-10-01T21:06:38.234Z"
   },
   {
    "duration": 14,
    "start_time": "2023-10-01T21:07:37.472Z"
   },
   {
    "duration": 12,
    "start_time": "2023-10-01T21:08:02.015Z"
   },
   {
    "duration": 13,
    "start_time": "2023-10-01T21:09:20.580Z"
   },
   {
    "duration": 12,
    "start_time": "2023-10-01T21:09:35.672Z"
   },
   {
    "duration": 13,
    "start_time": "2023-10-01T21:09:39.220Z"
   },
   {
    "duration": 12,
    "start_time": "2023-10-01T21:10:00.713Z"
   },
   {
    "duration": 11,
    "start_time": "2023-10-01T21:10:12.003Z"
   },
   {
    "duration": 12,
    "start_time": "2023-10-01T21:12:05.601Z"
   },
   {
    "duration": 13,
    "start_time": "2023-10-01T21:12:41.577Z"
   },
   {
    "duration": 12,
    "start_time": "2023-10-01T21:12:46.755Z"
   },
   {
    "duration": 13,
    "start_time": "2023-10-01T21:12:53.250Z"
   },
   {
    "duration": 12,
    "start_time": "2023-10-01T21:12:58.594Z"
   },
   {
    "duration": 14,
    "start_time": "2023-10-01T21:13:03.221Z"
   },
   {
    "duration": 5,
    "start_time": "2023-10-01T21:14:50.301Z"
   },
   {
    "duration": 8,
    "start_time": "2023-10-01T21:15:06.126Z"
   },
   {
    "duration": 8,
    "start_time": "2023-10-01T21:15:42.924Z"
   },
   {
    "duration": 5,
    "start_time": "2023-10-01T21:16:19.866Z"
   },
   {
    "duration": 7,
    "start_time": "2023-10-01T21:16:32.747Z"
   },
   {
    "duration": 13,
    "start_time": "2023-10-01T21:16:39.318Z"
   },
   {
    "duration": 8,
    "start_time": "2023-10-01T21:16:45.077Z"
   },
   {
    "duration": 8,
    "start_time": "2023-10-01T21:16:49.354Z"
   },
   {
    "duration": 67,
    "start_time": "2023-10-01T21:16:58.514Z"
   },
   {
    "duration": 67,
    "start_time": "2023-10-01T21:17:05.985Z"
   },
   {
    "duration": 79,
    "start_time": "2023-10-01T21:17:12.034Z"
   },
   {
    "duration": 70,
    "start_time": "2023-10-01T21:17:16.382Z"
   },
   {
    "duration": 66,
    "start_time": "2023-10-01T21:17:24.071Z"
   },
   {
    "duration": 68,
    "start_time": "2023-10-01T21:17:28.175Z"
   },
   {
    "duration": 67,
    "start_time": "2023-10-01T21:17:34.815Z"
   },
   {
    "duration": 74,
    "start_time": "2023-10-01T21:17:40.439Z"
   },
   {
    "duration": 72,
    "start_time": "2023-10-01T21:17:47.687Z"
   },
   {
    "duration": 14,
    "start_time": "2023-10-01T21:18:04.171Z"
   },
   {
    "duration": 15,
    "start_time": "2023-10-01T21:18:09.549Z"
   },
   {
    "duration": 13,
    "start_time": "2023-10-01T21:18:17.518Z"
   },
   {
    "duration": 13,
    "start_time": "2023-10-01T21:18:25.526Z"
   },
   {
    "duration": 13,
    "start_time": "2023-10-01T21:18:29.186Z"
   },
   {
    "duration": 1530,
    "start_time": "2023-10-01T21:24:00.518Z"
   },
   {
    "duration": 927,
    "start_time": "2023-10-01T21:24:02.051Z"
   },
   {
    "duration": 20,
    "start_time": "2023-10-01T21:24:02.980Z"
   },
   {
    "duration": 108,
    "start_time": "2023-10-01T21:24:03.002Z"
   },
   {
    "duration": 54,
    "start_time": "2023-10-01T21:24:03.113Z"
   },
   {
    "duration": 256,
    "start_time": "2023-10-01T21:24:03.169Z"
   },
   {
    "duration": 22,
    "start_time": "2023-10-01T21:24:03.427Z"
   },
   {
    "duration": 226,
    "start_time": "2023-10-01T21:24:03.451Z"
   },
   {
    "duration": 325,
    "start_time": "2023-10-01T21:24:03.679Z"
   },
   {
    "duration": 133,
    "start_time": "2023-10-01T21:24:04.005Z"
   },
   {
    "duration": 247,
    "start_time": "2023-10-01T21:24:04.140Z"
   },
   {
    "duration": 3,
    "start_time": "2023-10-01T21:24:04.389Z"
   },
   {
    "duration": 48,
    "start_time": "2023-10-01T21:24:04.393Z"
   },
   {
    "duration": 16,
    "start_time": "2023-10-01T21:24:04.444Z"
   },
   {
    "duration": 41,
    "start_time": "2023-10-01T21:24:04.461Z"
   },
   {
    "duration": 70,
    "start_time": "2023-10-01T21:24:04.504Z"
   },
   {
    "duration": 208,
    "start_time": "2023-10-01T21:24:04.575Z"
   },
   {
    "duration": 17,
    "start_time": "2023-10-01T21:24:04.785Z"
   },
   {
    "duration": 887,
    "start_time": "2023-10-01T21:24:04.804Z"
   },
   {
    "duration": 482,
    "start_time": "2023-10-01T21:24:05.693Z"
   },
   {
    "duration": 565,
    "start_time": "2023-10-01T21:24:06.177Z"
   },
   {
    "duration": 794,
    "start_time": "2023-10-01T21:24:06.744Z"
   },
   {
    "duration": 12,
    "start_time": "2023-10-01T21:24:07.540Z"
   },
   {
    "duration": 27,
    "start_time": "2023-10-01T21:24:07.554Z"
   },
   {
    "duration": 16,
    "start_time": "2023-10-01T21:24:07.582Z"
   },
   {
    "duration": 23,
    "start_time": "2023-10-01T21:24:07.600Z"
   },
   {
    "duration": 4,
    "start_time": "2023-10-01T21:24:07.624Z"
   },
   {
    "duration": 6,
    "start_time": "2023-10-01T21:24:07.630Z"
   },
   {
    "duration": 16,
    "start_time": "2023-10-01T21:24:07.638Z"
   },
   {
    "duration": 358675,
    "start_time": "2023-10-01T21:24:07.655Z"
   },
   {
    "duration": 96,
    "start_time": "2023-10-01T21:30:06.332Z"
   },
   {
    "duration": 19,
    "start_time": "2023-10-01T21:30:06.430Z"
   },
   {
    "duration": 41,
    "start_time": "2023-10-01T21:30:06.450Z"
   },
   {
    "duration": 103,
    "start_time": "2023-10-01T21:30:06.493Z"
   },
   {
    "duration": 28,
    "start_time": "2023-10-01T21:30:06.598Z"
   },
   {
    "duration": 43094,
    "start_time": "2023-10-02T17:39:04.566Z"
   },
   {
    "duration": 0,
    "start_time": "2023-10-02T17:39:47.662Z"
   },
   {
    "duration": 0,
    "start_time": "2023-10-02T17:39:47.666Z"
   },
   {
    "duration": 0,
    "start_time": "2023-10-02T17:39:47.667Z"
   },
   {
    "duration": 0,
    "start_time": "2023-10-02T17:39:47.668Z"
   },
   {
    "duration": 0,
    "start_time": "2023-10-02T17:39:47.670Z"
   },
   {
    "duration": 15017,
    "start_time": "2023-10-02T17:40:06.087Z"
   },
   {
    "duration": 0,
    "start_time": "2023-10-02T17:40:21.106Z"
   },
   {
    "duration": 0,
    "start_time": "2023-10-02T17:40:21.108Z"
   },
   {
    "duration": 0,
    "start_time": "2023-10-02T17:40:21.110Z"
   },
   {
    "duration": 0,
    "start_time": "2023-10-02T17:40:21.111Z"
   },
   {
    "duration": 0,
    "start_time": "2023-10-02T17:40:21.113Z"
   },
   {
    "duration": 22,
    "start_time": "2023-10-02T17:40:26.670Z"
   },
   {
    "duration": 74,
    "start_time": "2023-10-02T18:50:18.931Z"
   },
   {
    "duration": 2024,
    "start_time": "2023-10-02T18:50:23.685Z"
   },
   {
    "duration": 2753,
    "start_time": "2023-10-02T18:50:25.712Z"
   },
   {
    "duration": 33,
    "start_time": "2023-10-02T18:50:28.467Z"
   },
   {
    "duration": 215,
    "start_time": "2023-10-02T18:50:28.502Z"
   },
   {
    "duration": 110,
    "start_time": "2023-10-02T18:50:28.720Z"
   },
   {
    "duration": 167,
    "start_time": "2023-10-02T18:50:28.833Z"
   },
   {
    "duration": 39,
    "start_time": "2023-10-02T18:50:29.002Z"
   },
   {
    "duration": 159,
    "start_time": "2023-10-02T18:50:29.043Z"
   },
   {
    "duration": 328,
    "start_time": "2023-10-02T18:50:29.204Z"
   },
   {
    "duration": 181,
    "start_time": "2023-10-02T18:50:29.535Z"
   },
   {
    "duration": 378,
    "start_time": "2023-10-02T18:50:29.724Z"
   },
   {
    "duration": 4,
    "start_time": "2023-10-02T18:50:30.105Z"
   },
   {
    "duration": 151,
    "start_time": "2023-10-02T18:50:30.111Z"
   },
   {
    "duration": 18,
    "start_time": "2023-10-02T18:50:30.265Z"
   },
   {
    "duration": 63,
    "start_time": "2023-10-02T18:50:30.286Z"
   },
   {
    "duration": 141,
    "start_time": "2023-10-02T18:50:30.352Z"
   },
   {
    "duration": 359,
    "start_time": "2023-10-02T18:50:30.495Z"
   },
   {
    "duration": 31,
    "start_time": "2023-10-02T18:50:30.856Z"
   },
   {
    "duration": 1219,
    "start_time": "2023-10-02T18:50:30.889Z"
   },
   {
    "duration": 623,
    "start_time": "2023-10-02T18:50:32.111Z"
   },
   {
    "duration": 634,
    "start_time": "2023-10-02T18:50:32.736Z"
   },
   {
    "duration": 1113,
    "start_time": "2023-10-02T18:50:33.371Z"
   },
   {
    "duration": 20,
    "start_time": "2023-10-02T18:50:34.486Z"
   },
   {
    "duration": 18,
    "start_time": "2023-10-02T18:50:34.509Z"
   },
   {
    "duration": 66,
    "start_time": "2023-10-02T18:50:34.529Z"
   },
   {
    "duration": 44,
    "start_time": "2023-10-02T18:50:34.598Z"
   },
   {
    "duration": 31,
    "start_time": "2023-10-02T18:50:34.644Z"
   },
   {
    "duration": 51,
    "start_time": "2023-10-02T18:50:34.677Z"
   },
   {
    "duration": 32,
    "start_time": "2023-10-02T18:50:34.731Z"
   },
   {
    "duration": 375359,
    "start_time": "2023-10-02T18:50:34.766Z"
   },
   {
    "duration": 98,
    "start_time": "2023-10-02T18:56:50.128Z"
   },
   {
    "duration": 69,
    "start_time": "2023-10-02T18:56:50.228Z"
   },
   {
    "duration": 105,
    "start_time": "2023-10-02T18:56:50.299Z"
   },
   {
    "duration": 237,
    "start_time": "2023-10-02T18:56:50.406Z"
   },
   {
    "duration": 0,
    "start_time": "2023-10-02T18:56:50.645Z"
   },
   {
    "duration": 15,
    "start_time": "2023-10-02T18:57:27.442Z"
   },
   {
    "duration": 68,
    "start_time": "2023-10-02T18:58:26.277Z"
   },
   {
    "duration": 79,
    "start_time": "2023-10-02T18:58:55.343Z"
   },
   {
    "duration": 106,
    "start_time": "2023-10-02T18:59:05.731Z"
   },
   {
    "duration": 80,
    "start_time": "2023-10-02T18:59:22.140Z"
   },
   {
    "duration": 70,
    "start_time": "2023-10-02T18:59:28.013Z"
   },
   {
    "duration": 6,
    "start_time": "2023-10-02T19:00:09.674Z"
   },
   {
    "duration": 5,
    "start_time": "2023-10-02T19:00:15.166Z"
   },
   {
    "duration": 72,
    "start_time": "2023-10-02T19:00:21.580Z"
   },
   {
    "duration": 5,
    "start_time": "2023-10-02T19:00:28.230Z"
   },
   {
    "duration": 68,
    "start_time": "2023-10-02T19:00:31.372Z"
   },
   {
    "duration": 6,
    "start_time": "2023-10-02T19:00:46.888Z"
   },
   {
    "duration": 89,
    "start_time": "2023-10-02T19:00:50.064Z"
   },
   {
    "duration": 36,
    "start_time": "2023-10-02T19:02:36.525Z"
   },
   {
    "duration": 1502,
    "start_time": "2023-10-02T19:02:43.219Z"
   },
   {
    "duration": 964,
    "start_time": "2023-10-02T19:02:44.724Z"
   },
   {
    "duration": 22,
    "start_time": "2023-10-02T19:02:45.690Z"
   },
   {
    "duration": 14,
    "start_time": "2023-10-02T19:02:45.724Z"
   },
   {
    "duration": 18,
    "start_time": "2023-10-02T19:02:45.740Z"
   },
   {
    "duration": 142,
    "start_time": "2023-10-02T19:02:45.759Z"
   },
   {
    "duration": 37,
    "start_time": "2023-10-02T19:02:45.903Z"
   },
   {
    "duration": 103,
    "start_time": "2023-10-02T19:02:45.942Z"
   },
   {
    "duration": 251,
    "start_time": "2023-10-02T19:02:46.046Z"
   },
   {
    "duration": 177,
    "start_time": "2023-10-02T19:02:46.299Z"
   },
   {
    "duration": 273,
    "start_time": "2023-10-02T19:02:46.480Z"
   },
   {
    "duration": 3,
    "start_time": "2023-10-02T19:02:46.755Z"
   },
   {
    "duration": 39,
    "start_time": "2023-10-02T19:02:46.760Z"
   },
   {
    "duration": 23,
    "start_time": "2023-10-02T19:02:46.803Z"
   },
   {
    "duration": 33,
    "start_time": "2023-10-02T19:02:46.828Z"
   },
   {
    "duration": 30,
    "start_time": "2023-10-02T19:02:46.863Z"
   },
   {
    "duration": 248,
    "start_time": "2023-10-02T19:02:46.895Z"
   },
   {
    "duration": 25,
    "start_time": "2023-10-02T19:02:47.145Z"
   },
   {
    "duration": 1063,
    "start_time": "2023-10-02T19:02:47.172Z"
   },
   {
    "duration": 532,
    "start_time": "2023-10-02T19:02:48.237Z"
   },
   {
    "duration": 642,
    "start_time": "2023-10-02T19:02:48.771Z"
   },
   {
    "duration": 831,
    "start_time": "2023-10-02T19:02:49.414Z"
   },
   {
    "duration": 13,
    "start_time": "2023-10-02T19:02:50.247Z"
   },
   {
    "duration": 49,
    "start_time": "2023-10-02T19:02:50.262Z"
   },
   {
    "duration": 9,
    "start_time": "2023-10-02T19:02:50.313Z"
   },
   {
    "duration": 32,
    "start_time": "2023-10-02T19:02:50.324Z"
   },
   {
    "duration": 28,
    "start_time": "2023-10-02T19:02:50.359Z"
   },
   {
    "duration": 12,
    "start_time": "2023-10-02T19:02:50.389Z"
   },
   {
    "duration": 8,
    "start_time": "2023-10-02T19:02:50.403Z"
   },
   {
    "duration": 396529,
    "start_time": "2023-10-02T19:02:50.413Z"
   },
   {
    "duration": 82,
    "start_time": "2023-10-02T19:09:26.945Z"
   },
   {
    "duration": 10,
    "start_time": "2023-10-02T19:09:27.029Z"
   },
   {
    "duration": 112,
    "start_time": "2023-10-02T19:09:27.041Z"
   },
   {
    "duration": 176,
    "start_time": "2023-10-02T19:09:27.155Z"
   },
   {
    "duration": 18,
    "start_time": "2023-10-02T19:09:27.334Z"
   },
   {
    "duration": 7,
    "start_time": "2023-10-02T19:17:56.001Z"
   },
   {
    "duration": 70,
    "start_time": "2023-10-02T19:18:37.737Z"
   },
   {
    "duration": 19,
    "start_time": "2023-10-02T19:19:08.967Z"
   },
   {
    "duration": 8,
    "start_time": "2023-10-02T19:30:44.868Z"
   },
   {
    "duration": 10,
    "start_time": "2023-10-02T19:30:50.807Z"
   },
   {
    "duration": 10,
    "start_time": "2023-10-02T19:30:54.379Z"
   },
   {
    "duration": 94,
    "start_time": "2023-10-02T19:31:00.662Z"
   },
   {
    "duration": 109,
    "start_time": "2023-10-02T19:31:06.869Z"
   },
   {
    "duration": 115,
    "start_time": "2023-10-02T19:31:11.615Z"
   },
   {
    "duration": 101,
    "start_time": "2023-10-02T19:31:17.027Z"
   },
   {
    "duration": 20,
    "start_time": "2023-10-02T19:31:23.687Z"
   },
   {
    "duration": 10,
    "start_time": "2023-10-02T19:31:42.528Z"
   },
   {
    "duration": 5,
    "start_time": "2023-10-02T20:16:41.128Z"
   },
   {
    "duration": 4,
    "start_time": "2023-10-02T20:17:15.667Z"
   },
   {
    "duration": 180,
    "start_time": "2023-10-02T20:17:41.911Z"
   },
   {
    "duration": 17,
    "start_time": "2023-10-02T20:17:48.578Z"
   },
   {
    "duration": 6,
    "start_time": "2023-10-02T20:17:57.946Z"
   },
   {
    "duration": 16,
    "start_time": "2023-10-02T20:18:01.423Z"
   },
   {
    "duration": 6,
    "start_time": "2023-10-02T20:18:22.415Z"
   },
   {
    "duration": 100,
    "start_time": "2023-10-02T20:18:59.700Z"
   },
   {
    "duration": 16,
    "start_time": "2023-10-02T20:20:00.225Z"
   },
   {
    "duration": 100,
    "start_time": "2023-10-02T20:20:49.734Z"
   },
   {
    "duration": 80,
    "start_time": "2023-10-02T20:20:56.187Z"
   },
   {
    "duration": 82,
    "start_time": "2023-10-02T20:22:20.075Z"
   },
   {
    "duration": 95,
    "start_time": "2023-10-02T20:22:41.203Z"
   },
   {
    "duration": 94,
    "start_time": "2023-10-02T20:23:27.068Z"
   },
   {
    "duration": 99,
    "start_time": "2023-10-02T20:24:21.508Z"
   },
   {
    "duration": 96,
    "start_time": "2023-10-02T20:24:30.049Z"
   },
   {
    "duration": 98,
    "start_time": "2023-10-02T20:24:34.934Z"
   },
   {
    "duration": 83,
    "start_time": "2023-10-02T20:24:54.165Z"
   },
   {
    "duration": 6,
    "start_time": "2023-10-02T20:25:10.322Z"
   },
   {
    "duration": 15,
    "start_time": "2023-10-02T20:25:13.574Z"
   },
   {
    "duration": 6,
    "start_time": "2023-10-02T20:25:24.527Z"
   },
   {
    "duration": 23,
    "start_time": "2023-10-02T20:25:35.839Z"
   },
   {
    "duration": 19,
    "start_time": "2023-10-02T20:26:21.903Z"
   },
   {
    "duration": 24,
    "start_time": "2023-10-02T20:26:25.286Z"
   },
   {
    "duration": 19,
    "start_time": "2023-10-02T20:27:27.903Z"
   },
   {
    "duration": 26,
    "start_time": "2023-10-02T20:30:26.931Z"
   }
  ],
  "kernelspec": {
   "display_name": "Python 3 (ipykernel)",
   "language": "python",
   "name": "python3"
  },
  "language_info": {
   "codemirror_mode": {
    "name": "ipython",
    "version": 3
   },
   "file_extension": ".py",
   "mimetype": "text/x-python",
   "name": "python",
   "nbconvert_exporter": "python",
   "pygments_lexer": "ipython3",
   "version": "3.9.5"
  },
  "toc": {
   "base_numbering": 1,
   "nav_menu": {},
   "number_sections": true,
   "sideBar": true,
   "skip_h1_title": true,
   "title_cell": "Содержание",
   "title_sidebar": "Contents",
   "toc_cell": true,
   "toc_position": {
    "height": "calc(100% - 180px)",
    "left": "10px",
    "top": "150px",
    "width": "165px"
   },
   "toc_section_display": true,
   "toc_window_display": true
  }
 },
 "nbformat": 4,
 "nbformat_minor": 2
}
